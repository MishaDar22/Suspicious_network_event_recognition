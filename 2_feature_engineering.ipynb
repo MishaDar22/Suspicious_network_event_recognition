{
 "cells": [
  {
   "cell_type": "code",
   "execution_count": 6,
   "metadata": {
    "collapsed": true
   },
   "outputs": [],
   "source": [
    "import numpy as np\n",
    "import warnings\n",
    "import pandas as pd\n",
    "import typing as tp\n",
    "from sklearn import preprocessing\n",
    "import xgboost as xgb\n",
    "\n",
    "warnings.filterwarnings(\"ignore\", category=UserWarning)\n",
    "xgb.set_config(verbosity = 0)"
   ]
  },
  {
   "cell_type": "markdown",
   "source": [
    "# Feature Engineering"
   ],
   "metadata": {
    "collapsed": false
   }
  },
  {
   "cell_type": "code",
   "execution_count": 18,
   "outputs": [],
   "source": [
    "# Label encoder. This func helps to preprocess categorical variables.\n",
    "def preprocessing_cat_features_le(cat_features: list, df: pd.DataFrame) -> tp.Tuple[pd.DataFrame, dict]:\n",
    "    df = df.copy()\n",
    "\n",
    "    maps = {}\n",
    "    for feature in cat_features:\n",
    "        le = preprocessing.LabelEncoder()\n",
    "        df[feature] = le.fit_transform(df[feature].astype(str))\n",
    "        maps[feature] = le\n",
    "    return df, maps\n",
    "\n",
    "# Function for preprocessing a training dataset with a target variable and a test dataset without a target variable\n",
    "def preprocessing_data(train: pd.DataFrame, test: pd.DataFrame, target: str, var_for_preprocessing: dict) \\\n",
    "        -> tp.Tuple[pd.DataFrame, pd.DataFrame, dict, list]:\n",
    "\n",
    "    # Data imputation\n",
    "    train = train.fillna(-1)\n",
    "    test = test.fillna(-1)\n",
    "\n",
    "    # Join training and test dataset\n",
    "    df_full = pd.concat([train, test])\n",
    "\n",
    "    # Add some feature to black list, witch will be removed from main dataset\n",
    "    black_list = var_for_preprocessing.get(\"feature_black_list\")\n",
    "    if black_list:\n",
    "        black_list.append(target)\n",
    "    else:\n",
    "        black_list = [target]\n",
    "\n",
    "    for var_type, var in var_for_preprocessing.items():\n",
    "        # Preprocessing categorical and numeric categorical features\n",
    "        if var_type == \"categorical_features\" or var_type == \"numeric_categorical_features\":\n",
    "            for feature, n in var:\n",
    "                set_top_n_categories_in_variable(df_full, feature, n)\n",
    "        # Normalisation\n",
    "        elif var_type == \"continuous_numeric_features\":\n",
    "            df_full[var]= df_full[var].apply(lambda x: (x - x.mean())/x.std())\n",
    "        # One Hot Encoding\n",
    "        elif var_type == \"one_hot_encoding\":\n",
    "            df_bin_var = pd.get_dummies(df_full[var], drop_first=True)\n",
    "            black_list.extend(var)\n",
    "            df_full = pd.concat([df_full, df_bin_var], axis=1)\n",
    "    # Select categorical features\n",
    "    cat_features = list(set(df_full.select_dtypes(exclude='number').columns.tolist())-set(black_list))\n",
    "    # Label encoding\n",
    "    new_df_full, maps = preprocessing_cat_features_le(cat_features, df_full)\n",
    "    # The features, that will be used for modeling.\n",
    "    features = list(set(new_df_full.columns.tolist())-set(black_list))\n",
    "\n",
    "    df_test = new_df_full.loc[new_df_full.notified.isna()][features]\n",
    "    df_train = new_df_full.loc[new_df_full.notified.notna()][features+[target]]\n",
    "    return df_train, df_test, maps, features\n",
    "\n",
    "# Function to set top N categories in given categorical variable\n",
    "def set_top_n_categories_in_variable(df: pd.DataFrame, feature: str, n_cat: int):\n",
    "    top_n_var = df[feature].value_counts().nlargest(n_cat).index\n",
    "    df[feature] = df[feature].where(df[feature].isin(top_n_var), other='Other')"
   ],
   "metadata": {
    "collapsed": false
   }
  },
  {
   "cell_type": "code",
   "execution_count": 19,
   "outputs": [
    {
     "name": "stdout",
     "output_type": "stream",
     "text": [
      "(39427, 62)\n",
      "(20000, 61)\n"
     ]
    }
   ],
   "source": [
    "df_train = pd.read_csv('input/cybersecurity_training.csv', sep='|', index_col=0)\n",
    "df_test = pd.read_csv('input/cybersecurity_test.csv', sep='|', index_col=0)\n",
    "print(df_train.shape)\n",
    "print(df_test.shape)\n",
    "df_full = pd.concat([df_train, df_test])"
   ],
   "metadata": {
    "collapsed": false
   }
  },
  {
   "cell_type": "code",
   "execution_count": 20,
   "outputs": [],
   "source": [
    "# Selected categor\n",
    "categorical_features = [\n",
    "    (\"categoryname\", 7),\n",
    "    (\"ipcategory_name\", 5),\n",
    "    (\"ipcategory_scope\", 2),\n",
    "    (\"dstipcategory_dominate\", 4),\n",
    "    (\"srcipcategory_dominate\", 4)\n",
    "]\n",
    "\n",
    "numeric_categorical_features = [\n",
    "    (\"parent_category\", 2),\n",
    "    (\"overallseverity\", 3),\n",
    "    (\"alerttype_cd\", 3),\n",
    "    (\"direction_cd\", 2),\n",
    "    (\"eventname_cd\", 4),\n",
    "    (\"severity_cd\", 3),\n",
    "    (\"devicetype_cd\", 2),\n",
    "    (\"devicevendor_cd\", 2),\n",
    "    (\"srcipcategory_cd\", 3),\n",
    "    (\"dstipcategory_cd\", 2),\n",
    "    (\"trustscore\", 2),\n",
    "    (\"dstportcategory_dominate\", 3),\n",
    "    (\"username_cd\", 8),\n",
    "    (\"protocol_cd\", 4),\n",
    "    (\"reportingdevice_cd\", 5),\n",
    "    (\"dstport_cd\", 5),\n",
    "    (\"srcport_cd\", 10),\n",
    "    (\"dstip_cd\", 6),\n",
    "    (\"srcip_cd\", 10),\n",
    "    (\"p6\", 3),\n",
    "    (\"p9\", 1),\n",
    "    (\"p5m\", 3),\n",
    "    (\"p5w\", 2),\n",
    "    (\"p5d\", 2),\n",
    "    (\"p8w\", 2),\n",
    "    (\"p8m\", 3),\n",
    "    (\"p8d\", 2)\n",
    "]\n",
    "\n",
    "numeric_continue_features = [\"thrcnt_month\", \"thrcnt_week\", \"thrcnt_day\", \"timestamp_dist\", \"correlatedcount\"]\n",
    "feature_black_list = ['grandparent_category']\n",
    "smt_to_do = \"ip\"\n",
    "one_hot_encoding = [\"weekday\"]\n",
    "features_for_preprocessing = {\"categorical_features\": categorical_features,\n",
    "                              \"numeric_categorical_features\": numeric_categorical_features,\n",
    "                              # \"numeric_continue_features\": numeric_continue_features,\n",
    "                              \"feature_black_list\": feature_black_list,\n",
    "                              \"one_hot_encoding\": one_hot_encoding}\n",
    "\n",
    "# Select target variable\n",
    "target = 'notified'"
   ],
   "metadata": {
    "collapsed": false
   }
  },
  {
   "cell_type": "code",
   "execution_count": 21,
   "outputs": [
    {
     "data": {
      "text/plain": "           start_hour  weekday_Sat  overallseverity  weekday_Thu  thrcnt_day  \\\nalert_ids                                                                      \nNhq                 8            0                0            0         675   \nXZt                 1            0                2            1           2   \nbBz                14            0                1            0         628   \nZNr                20            0                1            0          96   \npoV                14            1                1            0         632   \n\n           untrustscore  severity_cd   n6  timestamp_dist  p5d  ...   n1  \\\nalert_ids                                                       ...        \nNhq                   2            1 -1.0           65684    0  ... -1.0   \nXZt                   5            3 -1.0         1188030    1  ... -1.0   \nbBz                   4            1 -1.0           43716    0  ... -1.0   \nZNr                   5            0 -1.0               0    1  ... -1.0   \npoV                   5            1  0.0            2401    0  ...  0.0   \n\n           alerttype_cd  devicevendor_cd  p8w  devicetype_cd  p5w  dstport_cd  \\\nalert_ids                                                                       \nNhq                   1                1    0              1    0           2   \nXZt                   3                1    0              1    1           5   \nbBz                   1                1    1              1    1           2   \nZNr                   0                0    1              0    1           0   \npoV                   1                1    0              1    0           1   \n\n           weekday_Mon  flowscore  notified  \nalert_ids                                    \nNhq                  0          3       0.0  \nXZt                  0          5       0.0  \nbBz                  0          3       0.0  \nZNr                  0          3       0.0  \npoV                  0          3       0.0  \n\n[5 rows x 66 columns]",
      "text/html": "<div>\n<style scoped>\n    .dataframe tbody tr th:only-of-type {\n        vertical-align: middle;\n    }\n\n    .dataframe tbody tr th {\n        vertical-align: top;\n    }\n\n    .dataframe thead th {\n        text-align: right;\n    }\n</style>\n<table border=\"1\" class=\"dataframe\">\n  <thead>\n    <tr style=\"text-align: right;\">\n      <th></th>\n      <th>start_hour</th>\n      <th>weekday_Sat</th>\n      <th>overallseverity</th>\n      <th>weekday_Thu</th>\n      <th>thrcnt_day</th>\n      <th>untrustscore</th>\n      <th>severity_cd</th>\n      <th>n6</th>\n      <th>timestamp_dist</th>\n      <th>p5d</th>\n      <th>...</th>\n      <th>n1</th>\n      <th>alerttype_cd</th>\n      <th>devicevendor_cd</th>\n      <th>p8w</th>\n      <th>devicetype_cd</th>\n      <th>p5w</th>\n      <th>dstport_cd</th>\n      <th>weekday_Mon</th>\n      <th>flowscore</th>\n      <th>notified</th>\n    </tr>\n    <tr>\n      <th>alert_ids</th>\n      <th></th>\n      <th></th>\n      <th></th>\n      <th></th>\n      <th></th>\n      <th></th>\n      <th></th>\n      <th></th>\n      <th></th>\n      <th></th>\n      <th></th>\n      <th></th>\n      <th></th>\n      <th></th>\n      <th></th>\n      <th></th>\n      <th></th>\n      <th></th>\n      <th></th>\n      <th></th>\n      <th></th>\n    </tr>\n  </thead>\n  <tbody>\n    <tr>\n      <th>Nhq</th>\n      <td>8</td>\n      <td>0</td>\n      <td>0</td>\n      <td>0</td>\n      <td>675</td>\n      <td>2</td>\n      <td>1</td>\n      <td>-1.0</td>\n      <td>65684</td>\n      <td>0</td>\n      <td>...</td>\n      <td>-1.0</td>\n      <td>1</td>\n      <td>1</td>\n      <td>0</td>\n      <td>1</td>\n      <td>0</td>\n      <td>2</td>\n      <td>0</td>\n      <td>3</td>\n      <td>0.0</td>\n    </tr>\n    <tr>\n      <th>XZt</th>\n      <td>1</td>\n      <td>0</td>\n      <td>2</td>\n      <td>1</td>\n      <td>2</td>\n      <td>5</td>\n      <td>3</td>\n      <td>-1.0</td>\n      <td>1188030</td>\n      <td>1</td>\n      <td>...</td>\n      <td>-1.0</td>\n      <td>3</td>\n      <td>1</td>\n      <td>0</td>\n      <td>1</td>\n      <td>1</td>\n      <td>5</td>\n      <td>0</td>\n      <td>5</td>\n      <td>0.0</td>\n    </tr>\n    <tr>\n      <th>bBz</th>\n      <td>14</td>\n      <td>0</td>\n      <td>1</td>\n      <td>0</td>\n      <td>628</td>\n      <td>4</td>\n      <td>1</td>\n      <td>-1.0</td>\n      <td>43716</td>\n      <td>0</td>\n      <td>...</td>\n      <td>-1.0</td>\n      <td>1</td>\n      <td>1</td>\n      <td>1</td>\n      <td>1</td>\n      <td>1</td>\n      <td>2</td>\n      <td>0</td>\n      <td>3</td>\n      <td>0.0</td>\n    </tr>\n    <tr>\n      <th>ZNr</th>\n      <td>20</td>\n      <td>0</td>\n      <td>1</td>\n      <td>0</td>\n      <td>96</td>\n      <td>5</td>\n      <td>0</td>\n      <td>-1.0</td>\n      <td>0</td>\n      <td>1</td>\n      <td>...</td>\n      <td>-1.0</td>\n      <td>0</td>\n      <td>0</td>\n      <td>1</td>\n      <td>0</td>\n      <td>1</td>\n      <td>0</td>\n      <td>0</td>\n      <td>3</td>\n      <td>0.0</td>\n    </tr>\n    <tr>\n      <th>poV</th>\n      <td>14</td>\n      <td>1</td>\n      <td>1</td>\n      <td>0</td>\n      <td>632</td>\n      <td>5</td>\n      <td>1</td>\n      <td>0.0</td>\n      <td>2401</td>\n      <td>0</td>\n      <td>...</td>\n      <td>0.0</td>\n      <td>1</td>\n      <td>1</td>\n      <td>0</td>\n      <td>1</td>\n      <td>0</td>\n      <td>1</td>\n      <td>0</td>\n      <td>3</td>\n      <td>0.0</td>\n    </tr>\n  </tbody>\n</table>\n<p>5 rows × 66 columns</p>\n</div>"
     },
     "execution_count": 21,
     "metadata": {},
     "output_type": "execute_result"
    }
   ],
   "source": [
    "df_train, df_test, *_ =  preprocessing_data(df_train, df_test, target, features_for_preprocessing)\n",
    "df_train.head()"
   ],
   "metadata": {
    "collapsed": false
   }
  },
  {
   "cell_type": "code",
   "execution_count": 22,
   "outputs": [
    {
     "data": {
      "text/plain": "           start_hour  weekday_Sat  overallseverity  weekday_Thu  thrcnt_day  \\\nalert_ids                                                                      \nSlg                11            0                0            0          42   \nWKM                22            1                2            0           3   \ndkm                 7            1                0            0         602   \nRIX                 0            0                0            1           4   \nqFU                18            0                0            0          20   \n\n           untrustscore  severity_cd   n6  timestamp_dist  p5d  ...  \\\nalert_ids                                                       ...   \nSlg                   3            1  1.0               0    0  ...   \nWKM                   5            1  0.0               0    0  ...   \ndkm                   2            1  0.0               0    0  ...   \nRIX                   2            1  1.0               0    0  ...   \nqFU                   3            1  1.0          258273    0  ...   \n\n           correlatedcount   n1  alerttype_cd  devicevendor_cd  p8w  \\\nalert_ids                                                             \nSlg                      1  0.0             1                1    0   \nWKM                      1  0.0             1                1    0   \ndkm                      1  0.0             1                1    0   \nRIX                      1  0.0             1                1    0   \nqFU                     14  0.0             1                1    0   \n\n           devicetype_cd  p5w  dstport_cd  weekday_Mon  flowscore  \nalert_ids                                                          \nSlg                    1    0           1            0          3  \nWKM                    1    0           1            0          3  \ndkm                    1    0           1            0          3  \nRIX                    1    0           1            0          3  \nqFU                    1    0           1            0          3  \n\n[5 rows x 65 columns]",
      "text/html": "<div>\n<style scoped>\n    .dataframe tbody tr th:only-of-type {\n        vertical-align: middle;\n    }\n\n    .dataframe tbody tr th {\n        vertical-align: top;\n    }\n\n    .dataframe thead th {\n        text-align: right;\n    }\n</style>\n<table border=\"1\" class=\"dataframe\">\n  <thead>\n    <tr style=\"text-align: right;\">\n      <th></th>\n      <th>start_hour</th>\n      <th>weekday_Sat</th>\n      <th>overallseverity</th>\n      <th>weekday_Thu</th>\n      <th>thrcnt_day</th>\n      <th>untrustscore</th>\n      <th>severity_cd</th>\n      <th>n6</th>\n      <th>timestamp_dist</th>\n      <th>p5d</th>\n      <th>...</th>\n      <th>correlatedcount</th>\n      <th>n1</th>\n      <th>alerttype_cd</th>\n      <th>devicevendor_cd</th>\n      <th>p8w</th>\n      <th>devicetype_cd</th>\n      <th>p5w</th>\n      <th>dstport_cd</th>\n      <th>weekday_Mon</th>\n      <th>flowscore</th>\n    </tr>\n    <tr>\n      <th>alert_ids</th>\n      <th></th>\n      <th></th>\n      <th></th>\n      <th></th>\n      <th></th>\n      <th></th>\n      <th></th>\n      <th></th>\n      <th></th>\n      <th></th>\n      <th></th>\n      <th></th>\n      <th></th>\n      <th></th>\n      <th></th>\n      <th></th>\n      <th></th>\n      <th></th>\n      <th></th>\n      <th></th>\n      <th></th>\n    </tr>\n  </thead>\n  <tbody>\n    <tr>\n      <th>Slg</th>\n      <td>11</td>\n      <td>0</td>\n      <td>0</td>\n      <td>0</td>\n      <td>42</td>\n      <td>3</td>\n      <td>1</td>\n      <td>1.0</td>\n      <td>0</td>\n      <td>0</td>\n      <td>...</td>\n      <td>1</td>\n      <td>0.0</td>\n      <td>1</td>\n      <td>1</td>\n      <td>0</td>\n      <td>1</td>\n      <td>0</td>\n      <td>1</td>\n      <td>0</td>\n      <td>3</td>\n    </tr>\n    <tr>\n      <th>WKM</th>\n      <td>22</td>\n      <td>1</td>\n      <td>2</td>\n      <td>0</td>\n      <td>3</td>\n      <td>5</td>\n      <td>1</td>\n      <td>0.0</td>\n      <td>0</td>\n      <td>0</td>\n      <td>...</td>\n      <td>1</td>\n      <td>0.0</td>\n      <td>1</td>\n      <td>1</td>\n      <td>0</td>\n      <td>1</td>\n      <td>0</td>\n      <td>1</td>\n      <td>0</td>\n      <td>3</td>\n    </tr>\n    <tr>\n      <th>dkm</th>\n      <td>7</td>\n      <td>1</td>\n      <td>0</td>\n      <td>0</td>\n      <td>602</td>\n      <td>2</td>\n      <td>1</td>\n      <td>0.0</td>\n      <td>0</td>\n      <td>0</td>\n      <td>...</td>\n      <td>1</td>\n      <td>0.0</td>\n      <td>1</td>\n      <td>1</td>\n      <td>0</td>\n      <td>1</td>\n      <td>0</td>\n      <td>1</td>\n      <td>0</td>\n      <td>3</td>\n    </tr>\n    <tr>\n      <th>RIX</th>\n      <td>0</td>\n      <td>0</td>\n      <td>0</td>\n      <td>1</td>\n      <td>4</td>\n      <td>2</td>\n      <td>1</td>\n      <td>1.0</td>\n      <td>0</td>\n      <td>0</td>\n      <td>...</td>\n      <td>1</td>\n      <td>0.0</td>\n      <td>1</td>\n      <td>1</td>\n      <td>0</td>\n      <td>1</td>\n      <td>0</td>\n      <td>1</td>\n      <td>0</td>\n      <td>3</td>\n    </tr>\n    <tr>\n      <th>qFU</th>\n      <td>18</td>\n      <td>0</td>\n      <td>0</td>\n      <td>0</td>\n      <td>20</td>\n      <td>3</td>\n      <td>1</td>\n      <td>1.0</td>\n      <td>258273</td>\n      <td>0</td>\n      <td>...</td>\n      <td>14</td>\n      <td>0.0</td>\n      <td>1</td>\n      <td>1</td>\n      <td>0</td>\n      <td>1</td>\n      <td>0</td>\n      <td>1</td>\n      <td>0</td>\n      <td>3</td>\n    </tr>\n  </tbody>\n</table>\n<p>5 rows × 65 columns</p>\n</div>"
     },
     "execution_count": 22,
     "metadata": {},
     "output_type": "execute_result"
    }
   ],
   "source": [
    "df_test.head()"
   ],
   "metadata": {
    "collapsed": false
   }
  }
 ],
 "metadata": {
  "kernelspec": {
   "display_name": "Python 3",
   "language": "python",
   "name": "python3"
  },
  "language_info": {
   "codemirror_mode": {
    "name": "ipython",
    "version": 2
   },
   "file_extension": ".py",
   "mimetype": "text/x-python",
   "name": "python",
   "nbconvert_exporter": "python",
   "pygments_lexer": "ipython2",
   "version": "2.7.6"
  }
 },
 "nbformat": 4,
 "nbformat_minor": 0
}
