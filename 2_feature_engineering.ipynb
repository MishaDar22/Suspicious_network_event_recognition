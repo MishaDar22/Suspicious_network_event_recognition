{
 "cells": [
  {
   "cell_type": "code",
   "execution_count": 1,
   "metadata": {
    "collapsed": true
   },
   "outputs": [
    {
     "name": "stderr",
     "output_type": "stream",
     "text": [
      "/home/michail/DS/anaconda3/envs/Suspicious_network_event_recognition/lib/python3.10/site-packages/xgboost/compat.py:36: FutureWarning: pandas.Int64Index is deprecated and will be removed from pandas in a future version. Use pandas.Index with the appropriate dtype instead.\n",
      "  from pandas import MultiIndex, Int64Index\n"
     ]
    }
   ],
   "source": [
    "import numpy as np\n",
    "import warnings\n",
    "import pandas as pd\n",
    "import typing as tp\n",
    "from sklearn import preprocessing\n",
    "import xgboost as xgb\n",
    "\n",
    "from data_preparation_tools import preprocessing_data\n",
    "from cv_wrappers_and_tools import cv_xgb, plot_roc_auc, make_prediction_xgb, save_model_and_results\n",
    "\n",
    "warnings.filterwarnings(\"ignore\", category=UserWarning)\n",
    "xgb.set_config(verbosity = 0)"
   ]
  },
  {
   "cell_type": "markdown",
   "source": [
    "# Feature Engineering"
   ],
   "metadata": {
    "collapsed": false
   }
  },
  {
   "cell_type": "code",
   "execution_count": 10,
   "outputs": [],
   "source": [
    "def preprocessing_cat_features_le(cat_features: list, df: pd.DataFrame) -> tp.Tuple[pd.DataFrame, dict]:\n",
    "    df = df.copy()\n",
    "\n",
    "    maps = {}\n",
    "    for feature in cat_features:\n",
    "        le = preprocessing.LabelEncoder()\n",
    "        df[feature] = le.fit_transform(df[feature])\n",
    "        maps[feature] = le\n",
    "    return df, maps\n",
    "\n",
    "\n",
    "def preprocessing_data_1(train: pd.DataFrame, test: pd.DataFrame, target: str, black_list: list,\n",
    "                         var_for_prepocessing: list) -> tp.Tuple[pd.DataFrame, pd.DataFrame, dict, list]:\n",
    "\n",
    "    \"\"\"\n",
    "    Function for preprocessing a training dataset with a target variable and a test dataset without a target variable\n",
    "\n",
    "    :param train: a training dataset with a target variable.\n",
    "    :param test: a test dataset without a target variable.\n",
    "    :param target: Predictive variable\n",
    "    :param black_list: A list with the features that won't be used in predictions.\n",
    "    :return: Pre-processed training and test dataset, maps for features and\n",
    "    features, that will be used for predictions.\n",
    "    \"\"\"\n",
    "    train.fillna(-1)\n",
    "    test.fillna(-1)\n",
    "\n",
    "\n",
    "    df_full = pd.concat([train, test])\n",
    "\n",
    "    for var in var_for_prepocessing:\n",
    "        outlier_filtering(df_full, var)\n",
    "\n",
    "    features_num = df_full.select_dtypes('number').columns.tolist()\n",
    "    features_cat = df_full.select_dtypes(exclude='number').columns.tolist()\n",
    "    black_list.append(target)\n",
    "\n",
    "\n",
    "    features_num = [feature for feature in features_num if feature not in black_list]\n",
    "    features_cat = [feature for feature in features_cat if feature not in black_list]\n",
    "    new_df_full, maps = preprocessing_cat_features_le(features_cat, df_full)\n",
    "    features = features_cat+features_num\n",
    "\n",
    "    df_test = new_df_full.loc[new_df_full.notified.isna()][features]\n",
    "    df_train = new_df_full.loc[new_df_full.notified.notna()][features+[target]]\n",
    "    return df_train, df_test, maps, features"
   ],
   "metadata": {
    "collapsed": false
   }
  },
  {
   "cell_type": "code",
   "execution_count": 20,
   "outputs": [],
   "source": [
    "def set_top_n_categories_in_variable(df, feature, n_cat):\n",
    "    top_n_var = df[feature].value_counts().nlargest(n_cat).index\n",
    "    df[feature] = df[feature].where(df[feature].isin(top_n_var), other='Other')"
   ],
   "metadata": {
    "collapsed": false
   }
  },
  {
   "cell_type": "code",
   "execution_count": 21,
   "outputs": [],
   "source": [
    "def outlier_filtering(df, features_n):\n",
    "    for feature, n in features_n:\n",
    "        set_top_n_categories_in_variable(df, feature, n)\n",
    "        print(df[feature].value_counts())"
   ],
   "metadata": {
    "collapsed": false
   }
  },
  {
   "cell_type": "code",
   "execution_count": 13,
   "outputs": [
    {
     "name": "stdout",
     "output_type": "stream",
     "text": [
      "(39427, 62)\n",
      "(20000, 61)\n"
     ]
    }
   ],
   "source": [
    "df_train = pd.read_csv('input/cybersecurity_training.csv', sep='|', index_col=0)\n",
    "df_test = pd.read_csv('input/cybersecurity_test.csv', sep='|', index_col=0)\n",
    "print(df_train.shape)\n",
    "print(df_test.shape)\n",
    "df_full = pd.concat([df_train, df_test])\n"
   ],
   "metadata": {
    "collapsed": false
   }
  },
  {
   "cell_type": "code",
   "execution_count": 25,
   "outputs": [],
   "source": [
    "nominal_features = [\n",
    "    (\"categoryname\", 5),\n",
    "    # (\"ip\", 15),\n",
    "    (\"ipcategory_name\", 4),\n",
    "    (\"ipcategory_scope\", 2),\n",
    "    (\"dstipcategory_dominate\", 1),\n",
    "    (\"srcipcategory_dominate\", 2),\n",
    "    (\"srcipcategory_dominate\", 2)\n",
    "]\n",
    "\n",
    "numeric_features = [\n",
    "    (\"parent_category\", 2),\n",
    "    (\"overallseverity\", 3),\n",
    "    (\"alerttype_cd\", 3),\n",
    "    (\"direction_cd\", 2),\n",
    "    (\"eventname_cd\", 3),\n",
    "    (\"severity_cd\", 3),\n",
    "    (\"devicetype_cd\", 2),\n",
    "    (\"devicevendor_cd\", 2),\n",
    "    (\"srcipcategory_cd\", 3),\n",
    "    (\"dstipcategory_cd\", 2),\n",
    "    (\"trustscore\", 2),\n",
    "    (\"dstportcategory_dominate\", 3),\n",
    "    (\"p6\", 3),\n",
    "    (\"p6\", 1),\n",
    "    (\"p5m\", 3),\n",
    "    (\"p5w\", 2),\n",
    "    (\"p5d\", 2),\n",
    "    (\"p8w\", 2),\n",
    "    (\"p8d\", 2)\n",
    "]\n",
    "\n",
    "numeric_continue_features = [\n",
    "    (\"timestamp_dist\", 7),\n",
    "    (\"correlatedcount\", 10),\n",
    "    (\"srcip_cd\", 5), # num_f\n",
    "    (\"dstip_cd\", 5), # num_f\n",
    "    (\"srcport_cd\", 7), # num_f\n",
    "    (\"dstport_cd\", 4), # num_f\n",
    "    (\"reportingdevice_cd\", 3), # num_f\n",
    "    (\"protocol_cd\", 3), # num_f\n",
    "    (\"username_cd\", 2) # num_f\n",
    "]\n",
    "\n",
    "numeric_continue_features_for_normalization = [\"thrcnt_month\", \"thrcnt_week\", \"thrcnt_day\"]"
   ],
   "metadata": {
    "collapsed": false
   }
  },
  {
   "cell_type": "code",
   "execution_count": null,
   "outputs": [
    {
     "name": "stdout",
     "output_type": "stream",
     "text": [
      "Attack                  30788\n",
      "Exploit                 18366\n",
      "Control and Maintain     4702\n",
      "Reconnaissance           2635\n",
      "Other                    2083\n",
      "Attack Preparation        853\n",
      "Name: categoryname, dtype: int64\n",
      "INTERNET    37943\n",
      "PRIV-10     14517\n",
      "PRIV-192     3674\n",
      "PRIV-172     2854\n",
      "Other         439\n",
      "Name: ipcategory_name, dtype: int64\n",
      "Internet           37947\n",
      "Private network    21457\n",
      "Other                 23\n",
      "Name: ipcategory_scope, dtype: int64\n",
      "INTERNET    55142\n",
      "Other        4285\n",
      "Name: dstipcategory_dominate, dtype: int64\n",
      "INTERNET    29438\n",
      "PRIV-10     19520\n",
      "Other       10469\n",
      "Name: srcipcategory_dominate, dtype: int64\n",
      "INTERNET    29438\n",
      "PRIV-10     19520\n",
      "Other       10469\n",
      "Name: srcipcategory_dominate, dtype: int64\n"
     ]
    }
   ],
   "source": [
    "params = {\n",
    "    'subsample': 0.9,\n",
    "    'colsample_bytree': 0.5,\n",
    "    'lambdax': 1,\n",
    "    'max_depth':24,\n",
    "    'early_stopping_rounds': 100\n",
    "}\n",
    "\n",
    "features_for_preprocessing = [nominal_features, ]\n",
    "\n",
    "feature_black_list = ['grandparent_category']\n",
    "# Select target variable\n",
    "target = 'notified'\n",
    "preprocessed_train_df, preprocessed_test_df, _, features = preprocessing_data_1(df_train, df_test, target, feature_black_list, features_for_preprocessing)\n",
    "trainResults, testResults, predictions, indices, hists = cv_xgb(preprocessed_train_df, target, features, debug=False, mlflow_tracking=True, exp_name=\"exp_4_feature_eng\", **params)\n",
    "print(f'Train mean: {np.mean(trainResults)}, Valid mean: {np.mean(testResults)}')"
   ],
   "metadata": {
    "collapsed": false,
    "pycharm": {
     "is_executing": true
    }
   }
  },
  {
   "cell_type": "code",
   "execution_count": 22,
   "outputs": [
    {
     "name": "stdout",
     "output_type": "stream",
     "text": [
      "Attack                  30788\n",
      "Exploit                 18366\n",
      "Control and Maintain     4702\n",
      "Reconnaissance           2635\n",
      "Other                    2083\n",
      "Attack Preparation        853\n",
      "Name: categoryname, dtype: int64\n",
      "Other            40235\n",
      "YT.LB.32.21       4462\n",
      "YT.LB.34.21       3173\n",
      "YT.LB.36.21       2882\n",
      "YT.LB.38.21       2812\n",
      "MC.ER.197.27      2088\n",
      "OQ.QJ.38.32       1704\n",
      "YT.RD.254.202      511\n",
      "YT.LB.32.10        328\n",
      "ZU.SK.99.55        266\n",
      "YT.LB.36.10        203\n",
      "YT.LB.34.10        178\n",
      "10.KW.GO.30        174\n",
      "YT.LB.38.10        149\n",
      "192.SL.PF.5        137\n",
      "172.ER.RX.11       125\n",
      "Name: ip, dtype: int64\n",
      "INTERNET    37943\n",
      "PRIV-10     14517\n",
      "PRIV-192     3674\n",
      "PRIV-172     2854\n",
      "Other         439\n",
      "Name: ipcategory_name, dtype: int64\n",
      "Internet           37947\n",
      "Private network    21457\n",
      "Other                 23\n",
      "Name: ipcategory_scope, dtype: int64\n",
      "INTERNET    55142\n",
      "Other        4285\n",
      "Name: dstipcategory_dominate, dtype: int64\n",
      "INTERNET    29438\n",
      "PRIV-10     19520\n",
      "Other       10469\n",
      "Name: srcipcategory_dominate, dtype: int64\n",
      "INTERNET    29438\n",
      "PRIV-10     19520\n",
      "Other       10469\n",
      "Name: srcipcategory_dominate, dtype: int64\n"
     ]
    }
   ],
   "source": [
    "outlier_filtering(df_full, nominal_features)"
   ],
   "metadata": {
    "collapsed": false
   }
  },
  {
   "cell_type": "code",
   "execution_count": null,
   "outputs": [],
   "source": [],
   "metadata": {
    "collapsed": false
   }
  }
 ],
 "metadata": {
  "kernelspec": {
   "display_name": "Python 3",
   "language": "python",
   "name": "python3"
  },
  "language_info": {
   "codemirror_mode": {
    "name": "ipython",
    "version": 2
   },
   "file_extension": ".py",
   "mimetype": "text/x-python",
   "name": "python",
   "nbconvert_exporter": "python",
   "pygments_lexer": "ipython2",
   "version": "2.7.6"
  }
 },
 "nbformat": 4,
 "nbformat_minor": 0
}
