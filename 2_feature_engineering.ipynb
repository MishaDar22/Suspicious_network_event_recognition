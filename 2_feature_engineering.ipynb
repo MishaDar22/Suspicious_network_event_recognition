{
 "cells": [
  {
   "cell_type": "code",
   "execution_count": 2,
   "metadata": {
    "collapsed": true
   },
   "outputs": [
    {
     "name": "stderr",
     "output_type": "stream",
     "text": [
      "/home/michail/DS/anaconda3/envs/Suspicious_network_event_recognition/lib/python3.10/site-packages/xgboost/compat.py:36: FutureWarning: pandas.Int64Index is deprecated and will be removed from pandas in a future version. Use pandas.Index with the appropriate dtype instead.\n",
      "  from pandas import MultiIndex, Int64Index\n"
     ]
    }
   ],
   "source": [
    "import warnings\n",
    "import pandas as pd\n",
    "import typing as tp\n",
    "from sklearn import preprocessing\n",
    "import xgboost as xgb\n",
    "\n",
    "warnings.filterwarnings(\"ignore\", category=UserWarning)\n",
    "xgb.set_config(verbosity = 0)"
   ]
  },
  {
   "cell_type": "markdown",
   "source": [
    "# Feature Engineering"
   ],
   "metadata": {
    "collapsed": false
   }
  },
  {
   "cell_type": "code",
   "execution_count": 3,
   "outputs": [],
   "source": [
    "# Label encoder. This func helps to preprocess categorical variables.\n",
    "def preprocessing_cat_features_le(cat_features: list, df: pd.DataFrame) -> tp.Tuple[pd.DataFrame, dict]:\n",
    "    df = df.copy()\n",
    "\n",
    "    maps = {}\n",
    "    for feature in cat_features:\n",
    "        le = preprocessing.LabelEncoder()\n",
    "        df[feature] = le.fit_transform(df[feature].astype(str))\n",
    "        maps[feature] = le\n",
    "    return df, maps\n",
    "\n",
    "# Function for preprocessing a training dataset with a target variable and a test dataset without a target variable\n",
    "def preprocessing_data(train: pd.DataFrame, test: pd.DataFrame, target: str, var_for_preprocessing: dict,\n",
    "                       is_one_hot_enc: bool = False, n_cat: int = 8) -> tp.Tuple[pd.DataFrame, pd.DataFrame, list, dict]:\n",
    "    # Data imputation\n",
    "    train = train.fillna(-1)\n",
    "    test = test.fillna(-1)\n",
    "\n",
    "    # Join training and test dataset\n",
    "    df_full = pd.concat([train, test])\n",
    "\n",
    "    # Add some feature to black list, witch will be removed from main dataset\n",
    "    black_list = var_for_preprocessing.get(\"feature_black_list\")\n",
    "    if black_list:\n",
    "        black_list.append(target)\n",
    "    else:\n",
    "        black_list = [target]\n",
    "\n",
    "    for var_type, var in var_for_preprocessing.items():\n",
    "        # Preprocessing categorical and numeric categorical features\n",
    "        if var_type == \"categorical_features\" or var_type == \"numeric_categorical_features\":\n",
    "            [set_top_n_categories_in_variable(df_full, feature, n) for feature, n in var]\n",
    "        # Normalisation\n",
    "        elif var_type == \"continuous_numeric_features\":\n",
    "            df_full[var]= df_full[var].apply(lambda x: (x - x.mean())/x.std())\n",
    "        # One hot encoding for our selected variables\n",
    "        elif var_type == \"one_hot_encoding\":\n",
    "            df_bin_var = pd.get_dummies(df_full[var], drop_first=True)\n",
    "            black_list.extend(var)\n",
    "            df_full = pd.concat([df_full, df_bin_var], axis=1)\n",
    "    # Automatic One Hot Encoding for categorical variable\n",
    "    if is_one_hot_enc:\n",
    "        var_bin_list = list()\n",
    "        for var_type, var in var_for_preprocessing.items():\n",
    "            if var_type == \"categorical_features\" or var_type == \"numeric_categorical_features\":\n",
    "                var_list = [feature for feature, n in var if n_cat >= n > 1]\n",
    "                var_bin_list.extend(var_list)\n",
    "        df_bin_var = pd.get_dummies(df_full[var_bin_list], drop_first=True)\n",
    "        black_list.extend(var_bin_list)\n",
    "        df_full = pd.concat([df_full, df_bin_var], axis=1)\n",
    "\n",
    "    cat_features = list(set(df_full.select_dtypes(exclude='number').columns.tolist())-set(black_list))\n",
    "\n",
    "    if cat_features:\n",
    "        # Label encoding\n",
    "        new_df_full, maps = preprocessing_cat_features_le(cat_features, df_full)\n",
    "        # The features, that will be used for modeling.\n",
    "        features = list(set(new_df_full.columns.tolist())-set(black_list))\n",
    "    else:\n",
    "        new_df_full = df_full.copy()\n",
    "        # The features, that will be used for modeling.\n",
    "        features = list(set(new_df_full.columns.tolist())-set(black_list))\n",
    "        maps = None\n",
    "\n",
    "    df_test = new_df_full.loc[new_df_full.notified.isna()][features]\n",
    "    df_train = new_df_full.loc[new_df_full.notified.notna()][features+[target]]\n",
    "    return df_train, df_test, features, maps\n",
    "\n",
    "# Function to set top N categories in given categorical variable\n",
    "def set_top_n_categories_in_variable(df: pd.DataFrame, feature: str, n_cat: int):\n",
    "    top_n_var = df[feature].value_counts().nlargest(n_cat).index\n",
    "    df[feature] = df[feature].where(df[feature].isin(top_n_var), other='Other')"
   ],
   "metadata": {
    "collapsed": false
   }
  },
  {
   "cell_type": "code",
   "execution_count": 4,
   "outputs": [
    {
     "name": "stdout",
     "output_type": "stream",
     "text": [
      "(39427, 62)\n",
      "(20000, 61)\n"
     ]
    }
   ],
   "source": [
    "df_train = pd.read_csv('input/cybersecurity_training.csv', sep='|', index_col=0)\n",
    "df_test = pd.read_csv('input/cybersecurity_test.csv', sep='|', index_col=0)\n",
    "print(df_train.shape)\n",
    "print(df_test.shape)\n",
    "df_full = pd.concat([df_train, df_test])"
   ],
   "metadata": {
    "collapsed": false
   }
  },
  {
   "cell_type": "code",
   "execution_count": 5,
   "outputs": [],
   "source": [
    "# Selected categor\n",
    "categorical_features = [\n",
    "    (\"categoryname\", 7),\n",
    "    (\"ipcategory_name\", 5),\n",
    "    (\"ipcategory_scope\", 2),\n",
    "    (\"dstipcategory_dominate\", 4),\n",
    "    (\"srcipcategory_dominate\", 4)\n",
    "]\n",
    "\n",
    "numeric_categorical_features = [\n",
    "    (\"parent_category\", 2),\n",
    "    (\"overallseverity\", 3),\n",
    "    (\"alerttype_cd\", 3),\n",
    "    (\"direction_cd\", 2),\n",
    "    (\"eventname_cd\", 4),\n",
    "    (\"severity_cd\", 3),\n",
    "    (\"devicetype_cd\", 2),\n",
    "    (\"devicevendor_cd\", 2),\n",
    "    (\"srcipcategory_cd\", 3),\n",
    "    (\"dstipcategory_cd\", 2),\n",
    "    (\"trustscore\", 2),\n",
    "    (\"dstportcategory_dominate\", 3),\n",
    "    (\"username_cd\", 8),\n",
    "    (\"protocol_cd\", 4),\n",
    "    (\"reportingdevice_cd\", 5),\n",
    "    (\"dstport_cd\", 5),\n",
    "    (\"srcport_cd\", 10),\n",
    "    (\"dstip_cd\", 6),\n",
    "    (\"srcip_cd\", 10),\n",
    "    (\"p6\", 3),\n",
    "    (\"p9\", 1),\n",
    "    (\"p5m\", 3),\n",
    "    (\"p5w\", 2),\n",
    "    (\"p5d\", 2),\n",
    "    (\"p8w\", 2),\n",
    "    (\"p8m\", 3),\n",
    "    (\"p8d\", 2)\n",
    "]\n",
    "\n",
    "numeric_continue_features = [\"thrcnt_month\", \"thrcnt_week\", \"thrcnt_day\", \"timestamp_dist\", \"correlatedcount\"]\n",
    "feature_black_list = ['grandparent_category']\n",
    "smt_to_do = \"ip\"\n",
    "one_hot_encoding = [\"weekday\"]\n",
    "features_for_preprocessing = {\"categorical_features\": categorical_features,\n",
    "                              \"numeric_categorical_features\": numeric_categorical_features,\n",
    "                              # \"numeric_continue_features\": numeric_continue_features,\n",
    "                              \"feature_black_list\": feature_black_list,\n",
    "                              \"one_hot_encoding\": one_hot_encoding}\n",
    "\n",
    "# Select target variable\n",
    "target = 'notified'"
   ],
   "metadata": {
    "collapsed": false
   }
  },
  {
   "cell_type": "code",
   "execution_count": 6,
   "outputs": [
    {
     "data": {
      "text/plain": "           ipcategory_name   n1  thrcnt_day  domain_cd  severity_cd   n4  \\\nalert_ids                                                                  \nNhq                      0 -1.0         675          0            1 -1.0   \nXZt                      4 -1.0           2          0            3 -1.0   \nbBz                      0 -1.0         628          0            1 -1.0   \nZNr                      0 -1.0          96          0            0 -1.0   \npoV                      0  0.0         632          0            1  0.0   \n\n           reportingdevice_cd  isiptrusted  alerttype_cd  weekday_Tue  ...  \\\nalert_ids                                                              ...   \nNhq                         1            0             1            1  ...   \nXZt                         1            1             3            0  ...   \nbBz                         1            0             1            1  ...   \nZNr                         0            0             0            1  ...   \npoV                         1            0             1            0  ...   \n\n           untrustscore  weekday_Wed  p5m  correlatedcount  devicetype_cd  \\\nalert_ids                                                                   \nNhq                   2            0    1               69              1   \nXZt                   5            0    2             5302              1   \nbBz                   4            0    1              346              1   \nZNr                   5            0    1                1              0   \npoV                   5            0    0                1              1   \n\n           thrcnt_month  srcportcategory_dominate  flowscore  \\\nalert_ids                                                      \nNhq               16711                         4          3   \nXZt                  15                         3          5   \nbBz                7393                         4          3   \nZNr                2048                         0          3   \npoV                2793                         4          3   \n\n           srcipcategory_dominate  notified  \nalert_ids                                    \nNhq                             4       0.0  \nXZt                             4       0.0  \nbBz                             2       0.0  \nZNr                             0       0.0  \npoV                             2       0.0  \n\n[5 rows x 66 columns]",
      "text/html": "<div>\n<style scoped>\n    .dataframe tbody tr th:only-of-type {\n        vertical-align: middle;\n    }\n\n    .dataframe tbody tr th {\n        vertical-align: top;\n    }\n\n    .dataframe thead th {\n        text-align: right;\n    }\n</style>\n<table border=\"1\" class=\"dataframe\">\n  <thead>\n    <tr style=\"text-align: right;\">\n      <th></th>\n      <th>ipcategory_name</th>\n      <th>n1</th>\n      <th>thrcnt_day</th>\n      <th>domain_cd</th>\n      <th>severity_cd</th>\n      <th>n4</th>\n      <th>reportingdevice_cd</th>\n      <th>isiptrusted</th>\n      <th>alerttype_cd</th>\n      <th>weekday_Tue</th>\n      <th>...</th>\n      <th>untrustscore</th>\n      <th>weekday_Wed</th>\n      <th>p5m</th>\n      <th>correlatedcount</th>\n      <th>devicetype_cd</th>\n      <th>thrcnt_month</th>\n      <th>srcportcategory_dominate</th>\n      <th>flowscore</th>\n      <th>srcipcategory_dominate</th>\n      <th>notified</th>\n    </tr>\n    <tr>\n      <th>alert_ids</th>\n      <th></th>\n      <th></th>\n      <th></th>\n      <th></th>\n      <th></th>\n      <th></th>\n      <th></th>\n      <th></th>\n      <th></th>\n      <th></th>\n      <th></th>\n      <th></th>\n      <th></th>\n      <th></th>\n      <th></th>\n      <th></th>\n      <th></th>\n      <th></th>\n      <th></th>\n      <th></th>\n      <th></th>\n    </tr>\n  </thead>\n  <tbody>\n    <tr>\n      <th>Nhq</th>\n      <td>0</td>\n      <td>-1.0</td>\n      <td>675</td>\n      <td>0</td>\n      <td>1</td>\n      <td>-1.0</td>\n      <td>1</td>\n      <td>0</td>\n      <td>1</td>\n      <td>1</td>\n      <td>...</td>\n      <td>2</td>\n      <td>0</td>\n      <td>1</td>\n      <td>69</td>\n      <td>1</td>\n      <td>16711</td>\n      <td>4</td>\n      <td>3</td>\n      <td>4</td>\n      <td>0.0</td>\n    </tr>\n    <tr>\n      <th>XZt</th>\n      <td>4</td>\n      <td>-1.0</td>\n      <td>2</td>\n      <td>0</td>\n      <td>3</td>\n      <td>-1.0</td>\n      <td>1</td>\n      <td>1</td>\n      <td>3</td>\n      <td>0</td>\n      <td>...</td>\n      <td>5</td>\n      <td>0</td>\n      <td>2</td>\n      <td>5302</td>\n      <td>1</td>\n      <td>15</td>\n      <td>3</td>\n      <td>5</td>\n      <td>4</td>\n      <td>0.0</td>\n    </tr>\n    <tr>\n      <th>bBz</th>\n      <td>0</td>\n      <td>-1.0</td>\n      <td>628</td>\n      <td>0</td>\n      <td>1</td>\n      <td>-1.0</td>\n      <td>1</td>\n      <td>0</td>\n      <td>1</td>\n      <td>1</td>\n      <td>...</td>\n      <td>4</td>\n      <td>0</td>\n      <td>1</td>\n      <td>346</td>\n      <td>1</td>\n      <td>7393</td>\n      <td>4</td>\n      <td>3</td>\n      <td>2</td>\n      <td>0.0</td>\n    </tr>\n    <tr>\n      <th>ZNr</th>\n      <td>0</td>\n      <td>-1.0</td>\n      <td>96</td>\n      <td>0</td>\n      <td>0</td>\n      <td>-1.0</td>\n      <td>0</td>\n      <td>0</td>\n      <td>0</td>\n      <td>1</td>\n      <td>...</td>\n      <td>5</td>\n      <td>0</td>\n      <td>1</td>\n      <td>1</td>\n      <td>0</td>\n      <td>2048</td>\n      <td>0</td>\n      <td>3</td>\n      <td>0</td>\n      <td>0.0</td>\n    </tr>\n    <tr>\n      <th>poV</th>\n      <td>0</td>\n      <td>0.0</td>\n      <td>632</td>\n      <td>0</td>\n      <td>1</td>\n      <td>0.0</td>\n      <td>1</td>\n      <td>0</td>\n      <td>1</td>\n      <td>0</td>\n      <td>...</td>\n      <td>5</td>\n      <td>0</td>\n      <td>0</td>\n      <td>1</td>\n      <td>1</td>\n      <td>2793</td>\n      <td>4</td>\n      <td>3</td>\n      <td>2</td>\n      <td>0.0</td>\n    </tr>\n  </tbody>\n</table>\n<p>5 rows × 66 columns</p>\n</div>"
     },
     "execution_count": 6,
     "metadata": {},
     "output_type": "execute_result"
    }
   ],
   "source": [
    "df_train, df_test, *_ =  preprocessing_data(df_train, df_test, target, features_for_preprocessing)\n",
    "df_train.head()"
   ],
   "metadata": {
    "collapsed": false
   }
  },
  {
   "cell_type": "code",
   "execution_count": 7,
   "outputs": [
    {
     "data": {
      "text/plain": "           ipcategory_name   n1  thrcnt_day  domain_cd  severity_cd   n4  \\\nalert_ids                                                                  \nSlg                      0  0.0          42          0            1  0.0   \nWKM                      0  0.0           3          0            1  0.0   \ndkm                      0  0.0         602          1            1  0.0   \nRIX                      3  0.0           4          1            1  1.0   \nqFU                      0  0.0          20          0            1  0.0   \n\n           reportingdevice_cd  isiptrusted  alerttype_cd  weekday_Tue  ...  \\\nalert_ids                                                              ...   \nSlg                         1            0             1            0  ...   \nWKM                         1            0             1            0  ...   \ndkm                         1            0             1            0  ...   \nRIX                         1            1             1            0  ...   \nqFU                         1            0             1            0  ...   \n\n            n8  untrustscore  weekday_Wed  p5m  correlatedcount  \\\nalert_ids                                                         \nSlg        0.0             3            1    0                1   \nWKM        0.0             5            0    0                1   \ndkm        0.0             2            0    2                1   \nRIX        0.0             2            0    2                1   \nqFU        0.0             3            0    0               14   \n\n           devicetype_cd  thrcnt_month  srcportcategory_dominate  flowscore  \\\nalert_ids                                                                     \nSlg                    1          1302                         4          3   \nWKM                    1            20                         3          3   \ndkm                    1         16131                         4          3   \nRIX                    1            53                         4          3   \nqFU                    1           541                         4          3   \n\n           srcipcategory_dominate  \nalert_ids                          \nSlg                             2  \nWKM                             0  \ndkm                             2  \nRIX                             3  \nqFU                             4  \n\n[5 rows x 65 columns]",
      "text/html": "<div>\n<style scoped>\n    .dataframe tbody tr th:only-of-type {\n        vertical-align: middle;\n    }\n\n    .dataframe tbody tr th {\n        vertical-align: top;\n    }\n\n    .dataframe thead th {\n        text-align: right;\n    }\n</style>\n<table border=\"1\" class=\"dataframe\">\n  <thead>\n    <tr style=\"text-align: right;\">\n      <th></th>\n      <th>ipcategory_name</th>\n      <th>n1</th>\n      <th>thrcnt_day</th>\n      <th>domain_cd</th>\n      <th>severity_cd</th>\n      <th>n4</th>\n      <th>reportingdevice_cd</th>\n      <th>isiptrusted</th>\n      <th>alerttype_cd</th>\n      <th>weekday_Tue</th>\n      <th>...</th>\n      <th>n8</th>\n      <th>untrustscore</th>\n      <th>weekday_Wed</th>\n      <th>p5m</th>\n      <th>correlatedcount</th>\n      <th>devicetype_cd</th>\n      <th>thrcnt_month</th>\n      <th>srcportcategory_dominate</th>\n      <th>flowscore</th>\n      <th>srcipcategory_dominate</th>\n    </tr>\n    <tr>\n      <th>alert_ids</th>\n      <th></th>\n      <th></th>\n      <th></th>\n      <th></th>\n      <th></th>\n      <th></th>\n      <th></th>\n      <th></th>\n      <th></th>\n      <th></th>\n      <th></th>\n      <th></th>\n      <th></th>\n      <th></th>\n      <th></th>\n      <th></th>\n      <th></th>\n      <th></th>\n      <th></th>\n      <th></th>\n      <th></th>\n    </tr>\n  </thead>\n  <tbody>\n    <tr>\n      <th>Slg</th>\n      <td>0</td>\n      <td>0.0</td>\n      <td>42</td>\n      <td>0</td>\n      <td>1</td>\n      <td>0.0</td>\n      <td>1</td>\n      <td>0</td>\n      <td>1</td>\n      <td>0</td>\n      <td>...</td>\n      <td>0.0</td>\n      <td>3</td>\n      <td>1</td>\n      <td>0</td>\n      <td>1</td>\n      <td>1</td>\n      <td>1302</td>\n      <td>4</td>\n      <td>3</td>\n      <td>2</td>\n    </tr>\n    <tr>\n      <th>WKM</th>\n      <td>0</td>\n      <td>0.0</td>\n      <td>3</td>\n      <td>0</td>\n      <td>1</td>\n      <td>0.0</td>\n      <td>1</td>\n      <td>0</td>\n      <td>1</td>\n      <td>0</td>\n      <td>...</td>\n      <td>0.0</td>\n      <td>5</td>\n      <td>0</td>\n      <td>0</td>\n      <td>1</td>\n      <td>1</td>\n      <td>20</td>\n      <td>3</td>\n      <td>3</td>\n      <td>0</td>\n    </tr>\n    <tr>\n      <th>dkm</th>\n      <td>0</td>\n      <td>0.0</td>\n      <td>602</td>\n      <td>1</td>\n      <td>1</td>\n      <td>0.0</td>\n      <td>1</td>\n      <td>0</td>\n      <td>1</td>\n      <td>0</td>\n      <td>...</td>\n      <td>0.0</td>\n      <td>2</td>\n      <td>0</td>\n      <td>2</td>\n      <td>1</td>\n      <td>1</td>\n      <td>16131</td>\n      <td>4</td>\n      <td>3</td>\n      <td>2</td>\n    </tr>\n    <tr>\n      <th>RIX</th>\n      <td>3</td>\n      <td>0.0</td>\n      <td>4</td>\n      <td>1</td>\n      <td>1</td>\n      <td>1.0</td>\n      <td>1</td>\n      <td>1</td>\n      <td>1</td>\n      <td>0</td>\n      <td>...</td>\n      <td>0.0</td>\n      <td>2</td>\n      <td>0</td>\n      <td>2</td>\n      <td>1</td>\n      <td>1</td>\n      <td>53</td>\n      <td>4</td>\n      <td>3</td>\n      <td>3</td>\n    </tr>\n    <tr>\n      <th>qFU</th>\n      <td>0</td>\n      <td>0.0</td>\n      <td>20</td>\n      <td>0</td>\n      <td>1</td>\n      <td>0.0</td>\n      <td>1</td>\n      <td>0</td>\n      <td>1</td>\n      <td>0</td>\n      <td>...</td>\n      <td>0.0</td>\n      <td>3</td>\n      <td>0</td>\n      <td>0</td>\n      <td>14</td>\n      <td>1</td>\n      <td>541</td>\n      <td>4</td>\n      <td>3</td>\n      <td>4</td>\n    </tr>\n  </tbody>\n</table>\n<p>5 rows × 65 columns</p>\n</div>"
     },
     "execution_count": 7,
     "metadata": {},
     "output_type": "execute_result"
    }
   ],
   "source": [
    "df_test.head()"
   ],
   "metadata": {
    "collapsed": false
   }
  },
  {
   "cell_type": "code",
   "execution_count": null,
   "outputs": [],
   "source": [
    "# We can use one hot encoding for almost all categorical variable\n",
    "df_train, df_test, *_ =  preprocessing_data(df_train, df_test, target, features_for_preprocessing, True, 10)\n",
    "df_train.shape"
   ],
   "metadata": {
    "collapsed": false,
    "pycharm": {
     "is_executing": true
    }
   }
  },
  {
   "cell_type": "code",
   "execution_count": null,
   "outputs": [],
   "source": [],
   "metadata": {
    "collapsed": false
   }
  }
 ],
 "metadata": {
  "kernelspec": {
   "display_name": "Python 3",
   "language": "python",
   "name": "python3"
  },
  "language_info": {
   "codemirror_mode": {
    "name": "ipython",
    "version": 2
   },
   "file_extension": ".py",
   "mimetype": "text/x-python",
   "name": "python",
   "nbconvert_exporter": "python",
   "pygments_lexer": "ipython2",
   "version": "2.7.6"
  }
 },
 "nbformat": 4,
 "nbformat_minor": 0
}
