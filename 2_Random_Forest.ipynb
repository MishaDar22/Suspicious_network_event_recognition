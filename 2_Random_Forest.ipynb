{
 "cells": [
  {
   "cell_type": "code",
   "execution_count": 10,
   "metadata": {
    "collapsed": true
   },
   "outputs": [],
   "source": [
    "import pandas as pd\n",
    "import numpy as np\n",
    "import random\n",
    "import pickle\n",
    "import warnings\n",
    "\n",
    "from sklearn.inspection import permutation_importance\n",
    "from data_preparation_tools import preprocessing_data\n",
    "\n",
    "from cv_wrappers_and_tools_RF import cv_random_forest, make_prediction_rf\n",
    "from common_tools import save_model_and_results, plot_roc_auc\n",
    "\n",
    "warnings.filterwarnings(\"ignore\", category=UserWarning)"
   ]
  },
  {
   "cell_type": "markdown",
   "source": [
    "# RandomForest"
   ],
   "metadata": {
    "collapsed": false
   }
  },
  {
   "cell_type": "markdown",
   "source": [
    "## Grid search"
   ],
   "metadata": {
    "collapsed": false
   }
  },
  {
   "cell_type": "code",
   "execution_count": 11,
   "outputs": [
    {
     "name": "stdout",
     "output_type": "stream",
     "text": [
      "(39427, 62)\n",
      "(20000, 61)\n"
     ]
    },
    {
     "data": {
      "text/plain": "          client_code  notified categoryname            ip ipcategory_name  \\\nalert_ids                                                                    \nNhq               DPM         0       Attack   YT.LB.32.21        INTERNET   \nXZt               FIN         0      Exploit  192.SL.UK.94        PRIV-192   \nbBz               CHP         0       Attack   YT.LB.38.21        INTERNET   \nZNr               HPS         0       Attack   JX.NY.13.20        INTERNET   \npoV               OSC         0       Attack   YT.LB.32.21        INTERNET   \n\n          ipcategory_scope  parent_category grandparent_category  \\\nalert_ids                                                          \nNhq               Internet                7                    A   \nXZt        Private network                1                    A   \nbBz               Internet                7                    A   \nZNr               Internet                7                    A   \npoV               Internet                7                    A   \n\n           overallseverity  timestamp_dist  ...  thrcnt_week  thrcnt_day  p6  \\\nalert_ids                                   ...                                \nNhq                      3           65684  ...         4160         675   1   \nXZt                      5         1188030  ...            9           2   4   \nbBz                      4           43716  ...         3788         628   1   \nZNr                      4               0  ...          565          96   0   \npoV                      4            2401  ...         2790         632   1   \n\n           p9  p5m  p5w  p5d  p8m  p8w  p8d  \nalert_ids                                    \nNhq         0    2    1    1    1    1    1  \nXZt        12    3    2    2    2    1    1  \nbBz         0    2    2    1    2    2    1  \nZNr         0    2    2    2    2    2    2  \npoV         0    1    1    1    1    1    1  \n\n[5 rows x 62 columns]",
      "text/html": "<div>\n<style scoped>\n    .dataframe tbody tr th:only-of-type {\n        vertical-align: middle;\n    }\n\n    .dataframe tbody tr th {\n        vertical-align: top;\n    }\n\n    .dataframe thead th {\n        text-align: right;\n    }\n</style>\n<table border=\"1\" class=\"dataframe\">\n  <thead>\n    <tr style=\"text-align: right;\">\n      <th></th>\n      <th>client_code</th>\n      <th>notified</th>\n      <th>categoryname</th>\n      <th>ip</th>\n      <th>ipcategory_name</th>\n      <th>ipcategory_scope</th>\n      <th>parent_category</th>\n      <th>grandparent_category</th>\n      <th>overallseverity</th>\n      <th>timestamp_dist</th>\n      <th>...</th>\n      <th>thrcnt_week</th>\n      <th>thrcnt_day</th>\n      <th>p6</th>\n      <th>p9</th>\n      <th>p5m</th>\n      <th>p5w</th>\n      <th>p5d</th>\n      <th>p8m</th>\n      <th>p8w</th>\n      <th>p8d</th>\n    </tr>\n    <tr>\n      <th>alert_ids</th>\n      <th></th>\n      <th></th>\n      <th></th>\n      <th></th>\n      <th></th>\n      <th></th>\n      <th></th>\n      <th></th>\n      <th></th>\n      <th></th>\n      <th></th>\n      <th></th>\n      <th></th>\n      <th></th>\n      <th></th>\n      <th></th>\n      <th></th>\n      <th></th>\n      <th></th>\n      <th></th>\n      <th></th>\n    </tr>\n  </thead>\n  <tbody>\n    <tr>\n      <th>Nhq</th>\n      <td>DPM</td>\n      <td>0</td>\n      <td>Attack</td>\n      <td>YT.LB.32.21</td>\n      <td>INTERNET</td>\n      <td>Internet</td>\n      <td>7</td>\n      <td>A</td>\n      <td>3</td>\n      <td>65684</td>\n      <td>...</td>\n      <td>4160</td>\n      <td>675</td>\n      <td>1</td>\n      <td>0</td>\n      <td>2</td>\n      <td>1</td>\n      <td>1</td>\n      <td>1</td>\n      <td>1</td>\n      <td>1</td>\n    </tr>\n    <tr>\n      <th>XZt</th>\n      <td>FIN</td>\n      <td>0</td>\n      <td>Exploit</td>\n      <td>192.SL.UK.94</td>\n      <td>PRIV-192</td>\n      <td>Private network</td>\n      <td>1</td>\n      <td>A</td>\n      <td>5</td>\n      <td>1188030</td>\n      <td>...</td>\n      <td>9</td>\n      <td>2</td>\n      <td>4</td>\n      <td>12</td>\n      <td>3</td>\n      <td>2</td>\n      <td>2</td>\n      <td>2</td>\n      <td>1</td>\n      <td>1</td>\n    </tr>\n    <tr>\n      <th>bBz</th>\n      <td>CHP</td>\n      <td>0</td>\n      <td>Attack</td>\n      <td>YT.LB.38.21</td>\n      <td>INTERNET</td>\n      <td>Internet</td>\n      <td>7</td>\n      <td>A</td>\n      <td>4</td>\n      <td>43716</td>\n      <td>...</td>\n      <td>3788</td>\n      <td>628</td>\n      <td>1</td>\n      <td>0</td>\n      <td>2</td>\n      <td>2</td>\n      <td>1</td>\n      <td>2</td>\n      <td>2</td>\n      <td>1</td>\n    </tr>\n    <tr>\n      <th>ZNr</th>\n      <td>HPS</td>\n      <td>0</td>\n      <td>Attack</td>\n      <td>JX.NY.13.20</td>\n      <td>INTERNET</td>\n      <td>Internet</td>\n      <td>7</td>\n      <td>A</td>\n      <td>4</td>\n      <td>0</td>\n      <td>...</td>\n      <td>565</td>\n      <td>96</td>\n      <td>0</td>\n      <td>0</td>\n      <td>2</td>\n      <td>2</td>\n      <td>2</td>\n      <td>2</td>\n      <td>2</td>\n      <td>2</td>\n    </tr>\n    <tr>\n      <th>poV</th>\n      <td>OSC</td>\n      <td>0</td>\n      <td>Attack</td>\n      <td>YT.LB.32.21</td>\n      <td>INTERNET</td>\n      <td>Internet</td>\n      <td>7</td>\n      <td>A</td>\n      <td>4</td>\n      <td>2401</td>\n      <td>...</td>\n      <td>2790</td>\n      <td>632</td>\n      <td>1</td>\n      <td>0</td>\n      <td>1</td>\n      <td>1</td>\n      <td>1</td>\n      <td>1</td>\n      <td>1</td>\n      <td>1</td>\n    </tr>\n  </tbody>\n</table>\n<p>5 rows × 62 columns</p>\n</div>"
     },
     "execution_count": 11,
     "metadata": {},
     "output_type": "execute_result"
    }
   ],
   "source": [
    "df_train = pd.read_csv('input/cybersecurity_training.csv', sep='|', index_col=0)\n",
    "df_test = pd.read_csv('input/cybersecurity_test.csv', sep='|', index_col=0)\n",
    "print(df_train.shape)\n",
    "print(df_test.shape)\n",
    "df_train.head()"
   ],
   "metadata": {
    "collapsed": false
   }
  },
  {
   "cell_type": "markdown",
   "source": [
    "Let's make a first prediction with default parameters and simple preprocessed data."
   ],
   "metadata": {
    "collapsed": false
   }
  },
  {
   "cell_type": "code",
   "execution_count": 12,
   "outputs": [],
   "source": [
    "# Select features, that won't be used to create predictive models\n",
    "feature_black_list = ['grandparent_category', 'n1', 'n2', 'n3', 'n4', 'n5', 'n6', 'n7', 'n8', 'n9', 'n10', 'score']\n",
    "features_for_preprocessing = {\"feature_black_list\": feature_black_list}\n",
    "# Select target variable\n",
    "target = 'notified'\n",
    "# Prepare  training and test datasets for modeling\n",
    "preproc_train_df, preproc_test_df, _, features = preprocessing_data(df_train, df_test, target, features_for_preprocessing)"
   ],
   "metadata": {
    "collapsed": false
   }
  },
  {
   "cell_type": "code",
   "execution_count": 13,
   "outputs": [
    {
     "name": "stderr",
     "output_type": "stream",
     "text": [
      "/home/michail/DS/DataspellProjects/Suspicious_network_event_recognition/cv_wrappers_and_tools_RF.py:48: FutureWarning: Passing a dict as an indexer is deprecated and will raise in a future version. Use a list instead.\n",
      "  for train, test in skf.split(train_df[features], train_df[target]):\n",
      "/home/michail/DS/DataspellProjects/Suspicious_network_event_recognition/cv_wrappers_and_tools_RF.py:54: FutureWarning: Passing a dict as an indexer is deprecated and will raise in a future version. Use a list instead.\n",
      "  clf.fit(train_df.iloc[train][features], train_df.iloc[train][target])\n"
     ]
    },
    {
     "name": "stdout",
     "output_type": "stream",
     "text": [
      "RandomForestClassifier(n_jobs=-1, random_state=2022)\n"
     ]
    },
    {
     "name": "stderr",
     "output_type": "stream",
     "text": [
      "/home/michail/DS/DataspellProjects/Suspicious_network_event_recognition/cv_wrappers_and_tools_RF.py:58: FutureWarning: Passing a dict as an indexer is deprecated and will raise in a future version. Use a list instead.\n",
      "  preds_train = clf.predict_proba(train_df.iloc[train][features])[:, 1]\n",
      "/home/michail/DS/DataspellProjects/Suspicious_network_event_recognition/cv_wrappers_and_tools_RF.py:59: FutureWarning: Passing a dict as an indexer is deprecated and will raise in a future version. Use a list instead.\n",
      "  preds = clf.predict_proba(train_df.iloc[test][features])[:, 1]\n"
     ]
    },
    {
     "name": "stdout",
     "output_type": "stream",
     "text": [
      "Train AUC: 0.9995847847344019 Valid AUC: 0.8538707020338024\n",
      "RandomForestClassifier(n_jobs=-1, random_state=2022)\n"
     ]
    },
    {
     "name": "stderr",
     "output_type": "stream",
     "text": [
      "/home/michail/DS/DataspellProjects/Suspicious_network_event_recognition/cv_wrappers_and_tools_RF.py:54: FutureWarning: Passing a dict as an indexer is deprecated and will raise in a future version. Use a list instead.\n",
      "  clf.fit(train_df.iloc[train][features], train_df.iloc[train][target])\n",
      "/home/michail/DS/DataspellProjects/Suspicious_network_event_recognition/cv_wrappers_and_tools_RF.py:58: FutureWarning: Passing a dict as an indexer is deprecated and will raise in a future version. Use a list instead.\n",
      "  preds_train = clf.predict_proba(train_df.iloc[train][features])[:, 1]\n",
      "/home/michail/DS/DataspellProjects/Suspicious_network_event_recognition/cv_wrappers_and_tools_RF.py:59: FutureWarning: Passing a dict as an indexer is deprecated and will raise in a future version. Use a list instead.\n",
      "  preds = clf.predict_proba(train_df.iloc[test][features])[:, 1]\n",
      "/home/michail/DS/DataspellProjects/Suspicious_network_event_recognition/cv_wrappers_and_tools_RF.py:54: FutureWarning: Passing a dict as an indexer is deprecated and will raise in a future version. Use a list instead.\n",
      "  clf.fit(train_df.iloc[train][features], train_df.iloc[train][target])\n"
     ]
    },
    {
     "name": "stdout",
     "output_type": "stream",
     "text": [
      "Train AUC: 0.9994961105312372 Valid AUC: 0.8730155427262637\n",
      "RandomForestClassifier(n_jobs=-1, random_state=2022)\n"
     ]
    },
    {
     "name": "stderr",
     "output_type": "stream",
     "text": [
      "/home/michail/DS/DataspellProjects/Suspicious_network_event_recognition/cv_wrappers_and_tools_RF.py:58: FutureWarning: Passing a dict as an indexer is deprecated and will raise in a future version. Use a list instead.\n",
      "  preds_train = clf.predict_proba(train_df.iloc[train][features])[:, 1]\n",
      "/home/michail/DS/DataspellProjects/Suspicious_network_event_recognition/cv_wrappers_and_tools_RF.py:59: FutureWarning: Passing a dict as an indexer is deprecated and will raise in a future version. Use a list instead.\n",
      "  preds = clf.predict_proba(train_df.iloc[test][features])[:, 1]\n",
      "/home/michail/DS/DataspellProjects/Suspicious_network_event_recognition/cv_wrappers_and_tools_RF.py:54: FutureWarning: Passing a dict as an indexer is deprecated and will raise in a future version. Use a list instead.\n",
      "  clf.fit(train_df.iloc[train][features], train_df.iloc[train][target])\n"
     ]
    },
    {
     "name": "stdout",
     "output_type": "stream",
     "text": [
      "Train AUC: 0.9995071684513309 Valid AUC: 0.8769764690222295\n",
      "RandomForestClassifier(n_jobs=-1, random_state=2022)\n"
     ]
    },
    {
     "name": "stderr",
     "output_type": "stream",
     "text": [
      "/home/michail/DS/DataspellProjects/Suspicious_network_event_recognition/cv_wrappers_and_tools_RF.py:58: FutureWarning: Passing a dict as an indexer is deprecated and will raise in a future version. Use a list instead.\n",
      "  preds_train = clf.predict_proba(train_df.iloc[train][features])[:, 1]\n",
      "/home/michail/DS/DataspellProjects/Suspicious_network_event_recognition/cv_wrappers_and_tools_RF.py:59: FutureWarning: Passing a dict as an indexer is deprecated and will raise in a future version. Use a list instead.\n",
      "  preds = clf.predict_proba(train_df.iloc[test][features])[:, 1]\n"
     ]
    },
    {
     "name": "stdout",
     "output_type": "stream",
     "text": [
      "Train AUC: 0.9995326664282053 Valid AUC: 0.8627679588244864\n",
      "RandomForestClassifier(n_jobs=-1, random_state=2022)\n"
     ]
    },
    {
     "name": "stderr",
     "output_type": "stream",
     "text": [
      "/home/michail/DS/DataspellProjects/Suspicious_network_event_recognition/cv_wrappers_and_tools_RF.py:54: FutureWarning: Passing a dict as an indexer is deprecated and will raise in a future version. Use a list instead.\n",
      "  clf.fit(train_df.iloc[train][features], train_df.iloc[train][target])\n",
      "/home/michail/DS/DataspellProjects/Suspicious_network_event_recognition/cv_wrappers_and_tools_RF.py:58: FutureWarning: Passing a dict as an indexer is deprecated and will raise in a future version. Use a list instead.\n",
      "  preds_train = clf.predict_proba(train_df.iloc[train][features])[:, 1]\n",
      "/home/michail/DS/DataspellProjects/Suspicious_network_event_recognition/cv_wrappers_and_tools_RF.py:59: FutureWarning: Passing a dict as an indexer is deprecated and will raise in a future version. Use a list instead.\n",
      "  preds = clf.predict_proba(train_df.iloc[test][features])[:, 1]\n"
     ]
    },
    {
     "name": "stdout",
     "output_type": "stream",
     "text": [
      "Train AUC: 0.9995334054999985 Valid AUC: 0.8807352136423467\n",
      "Train mean: 0.9995308271290348, Test mean: 0.8694731772498259, Diff: 0.13005764987920898\n"
     ]
    }
   ],
   "source": [
    "# The first training model with default parameters\n",
    "trainResults, testResults, *_ = cv_random_forest(preproc_train_df, target, features, debug=True)\n",
    "print(f'Train mean: {np.mean(trainResults)}, Test mean: {np.mean(testResults)}, Diff: {np.mean(trainResults) - np.mean(testResults)}')"
   ],
   "metadata": {
    "collapsed": false
   }
  },
  {
   "cell_type": "code",
   "execution_count": 7,
   "outputs": [
    {
     "name": "stdout",
     "output_type": "stream",
     "text": [
      "n_estimators: 100, Train mean: 1.0, Test mean: 0.9213885377144422, Diff: 0.07861146228555782\n",
      "n_estimators: 200, Train mean: 1.0, Test mean: 0.9250760807950451, Diff: 0.07492391920495489\n",
      "n_estimators: 300, Train mean: 1.0, Test mean: 0.9261972784126007, Diff: 0.07380272158739931\n",
      "n_estimators: 400, Train mean: 1.0, Test mean: 0.92655364130206, Diff: 0.07344635869794003\n",
      "n_estimators: 500, Train mean: 1.0, Test mean: 0.9269326274049451, Diff: 0.07306737259505491\n",
      "n_estimators: 600, Train mean: 1.0, Test mean: 0.9270540295356657, Diff: 0.07294597046433426\n"
     ]
    }
   ],
   "source": [
    "# Trying to find the best hyperparameters using Grid Search\n",
    "for n_estimators in range(100, 601, 100):\n",
    "    trainResults, testResults, *_ = cv_random_forest(train_df=preproc_train_df, features=features, target=target, n_estimators=n_estimators)\n",
    "    print(f'n_estimators: {n_estimators}, Train mean: {np.mean(trainResults)}, Test mean: {np.mean(testResults)}, Diff: {np.mean(trainResults) - np.mean(testResults)}')"
   ],
   "metadata": {
    "collapsed": false
   }
  },
  {
   "cell_type": "code",
   "execution_count": 13,
   "outputs": [
    {
     "name": "stdout",
     "output_type": "stream",
     "text": [
      "n_estimators: 600, Train mean: 1.000, Test mean: 0.927, Diff: 0.073\n",
      "n_estimators: 700, Train mean: 1.000, Test mean: 0.927, Diff: 0.073\n",
      "n_estimators: 800, Train mean: 1.000, Test mean: 0.928, Diff: 0.072\n",
      "n_estimators: 900, Train mean: 1.000, Test mean: 0.928, Diff: 0.072\n",
      "n_estimators: 1000, Train mean: 1.000, Test mean: 0.928, Diff: 0.072\n"
     ]
    },
    {
     "ename": "KeyboardInterrupt",
     "evalue": "",
     "output_type": "error",
     "traceback": [
      "\u001B[0;31m---------------------------------------------------------------------------\u001B[0m",
      "\u001B[0;31mKeyboardInterrupt\u001B[0m                         Traceback (most recent call last)",
      "Input \u001B[0;32mIn [13]\u001B[0m, in \u001B[0;36m<cell line: 1>\u001B[0;34m()\u001B[0m\n\u001B[1;32m      1\u001B[0m \u001B[38;5;28;01mfor\u001B[39;00m n_estimators \u001B[38;5;129;01min\u001B[39;00m \u001B[38;5;28mrange\u001B[39m(\u001B[38;5;241m600\u001B[39m, \u001B[38;5;241m1101\u001B[39m, \u001B[38;5;241m100\u001B[39m):\n\u001B[0;32m----> 2\u001B[0m     trainResults, testResults, \u001B[38;5;241m*\u001B[39m_ \u001B[38;5;241m=\u001B[39m \u001B[43mcv_random_forest\u001B[49m\u001B[43m(\u001B[49m\u001B[43mtrain_df\u001B[49m\u001B[38;5;241;43m=\u001B[39;49m\u001B[43mpreproc_train_df\u001B[49m\u001B[43m,\u001B[49m\u001B[43m \u001B[49m\u001B[43mfeatures\u001B[49m\u001B[38;5;241;43m=\u001B[39;49m\u001B[43mfeatures\u001B[49m\u001B[43m,\u001B[49m\u001B[43m \u001B[49m\u001B[43mtarget\u001B[49m\u001B[38;5;241;43m=\u001B[39;49m\u001B[43mtarget\u001B[49m\u001B[43m,\u001B[49m\u001B[43m \u001B[49m\u001B[43mn_estimators\u001B[49m\u001B[38;5;241;43m=\u001B[39;49m\u001B[43mn_estimators\u001B[49m\u001B[43m)\u001B[49m\n\u001B[1;32m      3\u001B[0m     \u001B[38;5;28mprint\u001B[39m(\u001B[38;5;124mf\u001B[39m\u001B[38;5;124m'\u001B[39m\u001B[38;5;124mn_estimators: \u001B[39m\u001B[38;5;132;01m{\u001B[39;00mn_estimators\u001B[38;5;132;01m}\u001B[39;00m\u001B[38;5;124m, Train mean: \u001B[39m\u001B[38;5;132;01m{\u001B[39;00mnp\u001B[38;5;241m.\u001B[39mmean(trainResults)\u001B[38;5;132;01m:\u001B[39;00m\u001B[38;5;124m.3f\u001B[39m\u001B[38;5;132;01m}\u001B[39;00m\u001B[38;5;124m, Test mean: \u001B[39m\u001B[38;5;132;01m{\u001B[39;00mnp\u001B[38;5;241m.\u001B[39mmean(testResults)\u001B[38;5;132;01m:\u001B[39;00m\u001B[38;5;124m.3f\u001B[39m\u001B[38;5;132;01m}\u001B[39;00m\u001B[38;5;124m, Diff: \u001B[39m\u001B[38;5;132;01m{\u001B[39;00m(np\u001B[38;5;241m.\u001B[39mmean(trainResults) \u001B[38;5;241m-\u001B[39m np\u001B[38;5;241m.\u001B[39mmean(testResults))\u001B[38;5;132;01m:\u001B[39;00m\u001B[38;5;124m.3f\u001B[39m\u001B[38;5;132;01m}\u001B[39;00m\u001B[38;5;124m'\u001B[39m)\n",
      "File \u001B[0;32m~/DataspellProjects/SuspiciousNetworkEventRecognition/cv_wrappers_and_tools.py:60\u001B[0m, in \u001B[0;36mcv_random_forest\u001B[0;34m(train_df, target, features, n_folds, random_state, debug, save_models, mlflow_tracking, exp_name, *args, **kwargs)\u001B[0m\n\u001B[1;32m     58\u001B[0m     \u001B[38;5;28mprint\u001B[39m(clf)\n\u001B[1;32m     59\u001B[0m \u001B[38;5;66;03m# Training the model\u001B[39;00m\n\u001B[0;32m---> 60\u001B[0m \u001B[43mclf\u001B[49m\u001B[38;5;241;43m.\u001B[39;49m\u001B[43mfit\u001B[49m\u001B[43m(\u001B[49m\u001B[43mtrain_df\u001B[49m\u001B[38;5;241;43m.\u001B[39;49m\u001B[43miloc\u001B[49m\u001B[43m[\u001B[49m\u001B[43mtrain\u001B[49m\u001B[43m]\u001B[49m\u001B[43m[\u001B[49m\u001B[43mfeatures\u001B[49m\u001B[43m]\u001B[49m\u001B[43m,\u001B[49m\u001B[43m \u001B[49m\u001B[43mtrain_df\u001B[49m\u001B[38;5;241;43m.\u001B[39;49m\u001B[43miloc\u001B[49m\u001B[43m[\u001B[49m\u001B[43mtrain\u001B[49m\u001B[43m]\u001B[49m\u001B[43m[\u001B[49m\u001B[43mtarget\u001B[49m\u001B[43m]\u001B[49m\u001B[43m)\u001B[49m\n\u001B[1;32m     62\u001B[0m \u001B[38;5;66;03m# Prepare predictions for the training and test dataset\u001B[39;00m\n\u001B[1;32m     63\u001B[0m \u001B[38;5;66;03m# NOTE Sklearn will return two columns of probabilities for both classes\u001B[39;00m\n\u001B[1;32m     64\u001B[0m preds_train \u001B[38;5;241m=\u001B[39m clf\u001B[38;5;241m.\u001B[39mpredict_proba(train_df\u001B[38;5;241m.\u001B[39miloc[train][features])[:, \u001B[38;5;241m1\u001B[39m]\n",
      "File \u001B[0;32m~/soft/anaconda3/envs/SuspiciousNetworkEventRecognition/lib/python3.10/site-packages/sklearn/ensemble/_forest.py:476\u001B[0m, in \u001B[0;36mBaseForest.fit\u001B[0;34m(self, X, y, sample_weight)\u001B[0m\n\u001B[1;32m    465\u001B[0m trees \u001B[38;5;241m=\u001B[39m [\n\u001B[1;32m    466\u001B[0m     \u001B[38;5;28mself\u001B[39m\u001B[38;5;241m.\u001B[39m_make_estimator(append\u001B[38;5;241m=\u001B[39m\u001B[38;5;28;01mFalse\u001B[39;00m, random_state\u001B[38;5;241m=\u001B[39mrandom_state)\n\u001B[1;32m    467\u001B[0m     \u001B[38;5;28;01mfor\u001B[39;00m i \u001B[38;5;129;01min\u001B[39;00m \u001B[38;5;28mrange\u001B[39m(n_more_estimators)\n\u001B[1;32m    468\u001B[0m ]\n\u001B[1;32m    470\u001B[0m \u001B[38;5;66;03m# Parallel loop: we prefer the threading backend as the Cython code\u001B[39;00m\n\u001B[1;32m    471\u001B[0m \u001B[38;5;66;03m# for fitting the trees is internally releasing the Python GIL\u001B[39;00m\n\u001B[1;32m    472\u001B[0m \u001B[38;5;66;03m# making threading more efficient than multiprocessing in\u001B[39;00m\n\u001B[1;32m    473\u001B[0m \u001B[38;5;66;03m# that case. However, for joblib 0.12+ we respect any\u001B[39;00m\n\u001B[1;32m    474\u001B[0m \u001B[38;5;66;03m# parallel_backend contexts set at a higher level,\u001B[39;00m\n\u001B[1;32m    475\u001B[0m \u001B[38;5;66;03m# since correctness does not rely on using threads.\u001B[39;00m\n\u001B[0;32m--> 476\u001B[0m trees \u001B[38;5;241m=\u001B[39m \u001B[43mParallel\u001B[49m\u001B[43m(\u001B[49m\n\u001B[1;32m    477\u001B[0m \u001B[43m    \u001B[49m\u001B[43mn_jobs\u001B[49m\u001B[38;5;241;43m=\u001B[39;49m\u001B[38;5;28;43mself\u001B[39;49m\u001B[38;5;241;43m.\u001B[39;49m\u001B[43mn_jobs\u001B[49m\u001B[43m,\u001B[49m\n\u001B[1;32m    478\u001B[0m \u001B[43m    \u001B[49m\u001B[43mverbose\u001B[49m\u001B[38;5;241;43m=\u001B[39;49m\u001B[38;5;28;43mself\u001B[39;49m\u001B[38;5;241;43m.\u001B[39;49m\u001B[43mverbose\u001B[49m\u001B[43m,\u001B[49m\n\u001B[1;32m    479\u001B[0m \u001B[43m    \u001B[49m\u001B[43mprefer\u001B[49m\u001B[38;5;241;43m=\u001B[39;49m\u001B[38;5;124;43m\"\u001B[39;49m\u001B[38;5;124;43mthreads\u001B[39;49m\u001B[38;5;124;43m\"\u001B[39;49m\u001B[43m,\u001B[49m\n\u001B[1;32m    480\u001B[0m \u001B[43m\u001B[49m\u001B[43m)\u001B[49m\u001B[43m(\u001B[49m\n\u001B[1;32m    481\u001B[0m \u001B[43m    \u001B[49m\u001B[43mdelayed\u001B[49m\u001B[43m(\u001B[49m\u001B[43m_parallel_build_trees\u001B[49m\u001B[43m)\u001B[49m\u001B[43m(\u001B[49m\n\u001B[1;32m    482\u001B[0m \u001B[43m        \u001B[49m\u001B[43mt\u001B[49m\u001B[43m,\u001B[49m\n\u001B[1;32m    483\u001B[0m \u001B[43m        \u001B[49m\u001B[38;5;28;43mself\u001B[39;49m\u001B[38;5;241;43m.\u001B[39;49m\u001B[43mbootstrap\u001B[49m\u001B[43m,\u001B[49m\n\u001B[1;32m    484\u001B[0m \u001B[43m        \u001B[49m\u001B[43mX\u001B[49m\u001B[43m,\u001B[49m\n\u001B[1;32m    485\u001B[0m \u001B[43m        \u001B[49m\u001B[43my\u001B[49m\u001B[43m,\u001B[49m\n\u001B[1;32m    486\u001B[0m \u001B[43m        \u001B[49m\u001B[43msample_weight\u001B[49m\u001B[43m,\u001B[49m\n\u001B[1;32m    487\u001B[0m \u001B[43m        \u001B[49m\u001B[43mi\u001B[49m\u001B[43m,\u001B[49m\n\u001B[1;32m    488\u001B[0m \u001B[43m        \u001B[49m\u001B[38;5;28;43mlen\u001B[39;49m\u001B[43m(\u001B[49m\u001B[43mtrees\u001B[49m\u001B[43m)\u001B[49m\u001B[43m,\u001B[49m\n\u001B[1;32m    489\u001B[0m \u001B[43m        \u001B[49m\u001B[43mverbose\u001B[49m\u001B[38;5;241;43m=\u001B[39;49m\u001B[38;5;28;43mself\u001B[39;49m\u001B[38;5;241;43m.\u001B[39;49m\u001B[43mverbose\u001B[49m\u001B[43m,\u001B[49m\n\u001B[1;32m    490\u001B[0m \u001B[43m        \u001B[49m\u001B[43mclass_weight\u001B[49m\u001B[38;5;241;43m=\u001B[39;49m\u001B[38;5;28;43mself\u001B[39;49m\u001B[38;5;241;43m.\u001B[39;49m\u001B[43mclass_weight\u001B[49m\u001B[43m,\u001B[49m\n\u001B[1;32m    491\u001B[0m \u001B[43m        \u001B[49m\u001B[43mn_samples_bootstrap\u001B[49m\u001B[38;5;241;43m=\u001B[39;49m\u001B[43mn_samples_bootstrap\u001B[49m\u001B[43m,\u001B[49m\n\u001B[1;32m    492\u001B[0m \u001B[43m    \u001B[49m\u001B[43m)\u001B[49m\n\u001B[1;32m    493\u001B[0m \u001B[43m    \u001B[49m\u001B[38;5;28;43;01mfor\u001B[39;49;00m\u001B[43m \u001B[49m\u001B[43mi\u001B[49m\u001B[43m,\u001B[49m\u001B[43m \u001B[49m\u001B[43mt\u001B[49m\u001B[43m \u001B[49m\u001B[38;5;129;43;01min\u001B[39;49;00m\u001B[43m \u001B[49m\u001B[38;5;28;43menumerate\u001B[39;49m\u001B[43m(\u001B[49m\u001B[43mtrees\u001B[49m\u001B[43m)\u001B[49m\n\u001B[1;32m    494\u001B[0m \u001B[43m\u001B[49m\u001B[43m)\u001B[49m\n\u001B[1;32m    496\u001B[0m \u001B[38;5;66;03m# Collect newly grown trees\u001B[39;00m\n\u001B[1;32m    497\u001B[0m \u001B[38;5;28mself\u001B[39m\u001B[38;5;241m.\u001B[39mestimators_\u001B[38;5;241m.\u001B[39mextend(trees)\n",
      "File \u001B[0;32m~/soft/anaconda3/envs/SuspiciousNetworkEventRecognition/lib/python3.10/site-packages/joblib/parallel.py:1056\u001B[0m, in \u001B[0;36mParallel.__call__\u001B[0;34m(self, iterable)\u001B[0m\n\u001B[1;32m   1053\u001B[0m     \u001B[38;5;28mself\u001B[39m\u001B[38;5;241m.\u001B[39m_iterating \u001B[38;5;241m=\u001B[39m \u001B[38;5;28;01mFalse\u001B[39;00m\n\u001B[1;32m   1055\u001B[0m \u001B[38;5;28;01mwith\u001B[39;00m \u001B[38;5;28mself\u001B[39m\u001B[38;5;241m.\u001B[39m_backend\u001B[38;5;241m.\u001B[39mretrieval_context():\n\u001B[0;32m-> 1056\u001B[0m     \u001B[38;5;28;43mself\u001B[39;49m\u001B[38;5;241;43m.\u001B[39;49m\u001B[43mretrieve\u001B[49m\u001B[43m(\u001B[49m\u001B[43m)\u001B[49m\n\u001B[1;32m   1057\u001B[0m \u001B[38;5;66;03m# Make sure that we get a last message telling us we are done\u001B[39;00m\n\u001B[1;32m   1058\u001B[0m elapsed_time \u001B[38;5;241m=\u001B[39m time\u001B[38;5;241m.\u001B[39mtime() \u001B[38;5;241m-\u001B[39m \u001B[38;5;28mself\u001B[39m\u001B[38;5;241m.\u001B[39m_start_time\n",
      "File \u001B[0;32m~/soft/anaconda3/envs/SuspiciousNetworkEventRecognition/lib/python3.10/site-packages/joblib/parallel.py:935\u001B[0m, in \u001B[0;36mParallel.retrieve\u001B[0;34m(self)\u001B[0m\n\u001B[1;32m    933\u001B[0m \u001B[38;5;28;01mtry\u001B[39;00m:\n\u001B[1;32m    934\u001B[0m     \u001B[38;5;28;01mif\u001B[39;00m \u001B[38;5;28mgetattr\u001B[39m(\u001B[38;5;28mself\u001B[39m\u001B[38;5;241m.\u001B[39m_backend, \u001B[38;5;124m'\u001B[39m\u001B[38;5;124msupports_timeout\u001B[39m\u001B[38;5;124m'\u001B[39m, \u001B[38;5;28;01mFalse\u001B[39;00m):\n\u001B[0;32m--> 935\u001B[0m         \u001B[38;5;28mself\u001B[39m\u001B[38;5;241m.\u001B[39m_output\u001B[38;5;241m.\u001B[39mextend(\u001B[43mjob\u001B[49m\u001B[38;5;241;43m.\u001B[39;49m\u001B[43mget\u001B[49m\u001B[43m(\u001B[49m\u001B[43mtimeout\u001B[49m\u001B[38;5;241;43m=\u001B[39;49m\u001B[38;5;28;43mself\u001B[39;49m\u001B[38;5;241;43m.\u001B[39;49m\u001B[43mtimeout\u001B[49m\u001B[43m)\u001B[49m)\n\u001B[1;32m    936\u001B[0m     \u001B[38;5;28;01melse\u001B[39;00m:\n\u001B[1;32m    937\u001B[0m         \u001B[38;5;28mself\u001B[39m\u001B[38;5;241m.\u001B[39m_output\u001B[38;5;241m.\u001B[39mextend(job\u001B[38;5;241m.\u001B[39mget())\n",
      "File \u001B[0;32m~/soft/anaconda3/envs/SuspiciousNetworkEventRecognition/lib/python3.10/multiprocessing/pool.py:765\u001B[0m, in \u001B[0;36mApplyResult.get\u001B[0;34m(self, timeout)\u001B[0m\n\u001B[1;32m    764\u001B[0m \u001B[38;5;28;01mdef\u001B[39;00m \u001B[38;5;21mget\u001B[39m(\u001B[38;5;28mself\u001B[39m, timeout\u001B[38;5;241m=\u001B[39m\u001B[38;5;28;01mNone\u001B[39;00m):\n\u001B[0;32m--> 765\u001B[0m     \u001B[38;5;28;43mself\u001B[39;49m\u001B[38;5;241;43m.\u001B[39;49m\u001B[43mwait\u001B[49m\u001B[43m(\u001B[49m\u001B[43mtimeout\u001B[49m\u001B[43m)\u001B[49m\n\u001B[1;32m    766\u001B[0m     \u001B[38;5;28;01mif\u001B[39;00m \u001B[38;5;129;01mnot\u001B[39;00m \u001B[38;5;28mself\u001B[39m\u001B[38;5;241m.\u001B[39mready():\n\u001B[1;32m    767\u001B[0m         \u001B[38;5;28;01mraise\u001B[39;00m \u001B[38;5;167;01mTimeoutError\u001B[39;00m\n",
      "File \u001B[0;32m~/soft/anaconda3/envs/SuspiciousNetworkEventRecognition/lib/python3.10/multiprocessing/pool.py:762\u001B[0m, in \u001B[0;36mApplyResult.wait\u001B[0;34m(self, timeout)\u001B[0m\n\u001B[1;32m    761\u001B[0m \u001B[38;5;28;01mdef\u001B[39;00m \u001B[38;5;21mwait\u001B[39m(\u001B[38;5;28mself\u001B[39m, timeout\u001B[38;5;241m=\u001B[39m\u001B[38;5;28;01mNone\u001B[39;00m):\n\u001B[0;32m--> 762\u001B[0m     \u001B[38;5;28;43mself\u001B[39;49m\u001B[38;5;241;43m.\u001B[39;49m\u001B[43m_event\u001B[49m\u001B[38;5;241;43m.\u001B[39;49m\u001B[43mwait\u001B[49m\u001B[43m(\u001B[49m\u001B[43mtimeout\u001B[49m\u001B[43m)\u001B[49m\n",
      "File \u001B[0;32m~/soft/anaconda3/envs/SuspiciousNetworkEventRecognition/lib/python3.10/threading.py:600\u001B[0m, in \u001B[0;36mEvent.wait\u001B[0;34m(self, timeout)\u001B[0m\n\u001B[1;32m    598\u001B[0m signaled \u001B[38;5;241m=\u001B[39m \u001B[38;5;28mself\u001B[39m\u001B[38;5;241m.\u001B[39m_flag\n\u001B[1;32m    599\u001B[0m \u001B[38;5;28;01mif\u001B[39;00m \u001B[38;5;129;01mnot\u001B[39;00m signaled:\n\u001B[0;32m--> 600\u001B[0m     signaled \u001B[38;5;241m=\u001B[39m \u001B[38;5;28;43mself\u001B[39;49m\u001B[38;5;241;43m.\u001B[39;49m\u001B[43m_cond\u001B[49m\u001B[38;5;241;43m.\u001B[39;49m\u001B[43mwait\u001B[49m\u001B[43m(\u001B[49m\u001B[43mtimeout\u001B[49m\u001B[43m)\u001B[49m\n\u001B[1;32m    601\u001B[0m \u001B[38;5;28;01mreturn\u001B[39;00m signaled\n",
      "File \u001B[0;32m~/soft/anaconda3/envs/SuspiciousNetworkEventRecognition/lib/python3.10/threading.py:320\u001B[0m, in \u001B[0;36mCondition.wait\u001B[0;34m(self, timeout)\u001B[0m\n\u001B[1;32m    318\u001B[0m \u001B[38;5;28;01mtry\u001B[39;00m:    \u001B[38;5;66;03m# restore state no matter what (e.g., KeyboardInterrupt)\u001B[39;00m\n\u001B[1;32m    319\u001B[0m     \u001B[38;5;28;01mif\u001B[39;00m timeout \u001B[38;5;129;01mis\u001B[39;00m \u001B[38;5;28;01mNone\u001B[39;00m:\n\u001B[0;32m--> 320\u001B[0m         \u001B[43mwaiter\u001B[49m\u001B[38;5;241;43m.\u001B[39;49m\u001B[43macquire\u001B[49m\u001B[43m(\u001B[49m\u001B[43m)\u001B[49m\n\u001B[1;32m    321\u001B[0m         gotit \u001B[38;5;241m=\u001B[39m \u001B[38;5;28;01mTrue\u001B[39;00m\n\u001B[1;32m    322\u001B[0m     \u001B[38;5;28;01melse\u001B[39;00m:\n",
      "\u001B[0;31mKeyboardInterrupt\u001B[0m: "
     ]
    }
   ],
   "source": [
    "for n_estimators in range(600, 1101, 100):\n",
    "    trainResults, testResults, *_ = cv_random_forest(train_df=preproc_train_df, features=features, target=target, n_estimators=n_estimators)\n",
    "    print(f'n_estimators: {n_estimators}, Train mean: {np.mean(trainResults):.3f}, Test mean: {np.mean(testResults):.3f}, Diff: {(np.mean(trainResults) - np.mean(testResults)):.3f}')"
   ],
   "metadata": {
    "collapsed": false
   }
  },
  {
   "cell_type": "code",
   "execution_count": 14,
   "outputs": [
    {
     "name": "stdout",
     "output_type": "stream",
     "text": [
      "max_depth: 14, Train mean: 0.997, Test mean: 0.919, Diff: 0.079\n",
      "max_depth: 16, Train mean: 1.000, Test mean: 0.923, Diff: 0.077\n",
      "max_depth: 18, Train mean: 1.000, Test mean: 0.925, Diff: 0.075\n",
      "max_depth: 20, Train mean: 1.000, Test mean: 0.927, Diff: 0.073\n",
      "max_depth: 22, Train mean: 1.000, Test mean: 0.928, Diff: 0.072\n",
      "max_depth: 24, Train mean: 1.000, Test mean: 0.927, Diff: 0.073\n",
      "max_depth: 26, Train mean: 1.000, Test mean: 0.928, Diff: 0.072\n"
     ]
    }
   ],
   "source": [
    "for max_depth in range(14,28,2):\n",
    "    trainResults, testResults, *_ = cv_random_forest(train_df=preproc_train_df, features=features, target=target, n_estimators=800, max_depth=max_depth)\n",
    "    print(f'max_depth: {max_depth}, Train mean: {np.mean(trainResults):.3f}, Test mean: {np.mean(testResults):.3f}, Diff: {(np.mean(trainResults) - np.mean(testResults)):.3f}')"
   ],
   "metadata": {
    "collapsed": false
   }
  },
  {
   "cell_type": "code",
   "execution_count": 6,
   "outputs": [
    {
     "name": "stdout",
     "output_type": "stream",
     "text": [
      "max_features: 7, Train mean: 1.000, Test mean: 0.928, Diff: 0.072\n",
      "max_features: 8, Train mean: 1.000, Test mean: 0.928, Diff: 0.072\n",
      "max_features: 9, Train mean: 1.000, Test mean: 0.927, Diff: 0.073\n",
      "max_features: 10, Train mean: 1.000, Test mean: 0.928, Diff: 0.072\n",
      "max_features: 11, Train mean: 1.000, Test mean: 0.928, Diff: 0.072\n",
      "max_features: 12, Train mean: 1.000, Test mean: 0.928, Diff: 0.072\n",
      "max_features: 13, Train mean: 1.000, Test mean: 0.927, Diff: 0.073\n",
      "max_features: 14, Train mean: 1.000, Test mean: 0.928, Diff: 0.072\n",
      "max_features: 15, Train mean: 1.000, Test mean: 0.928, Diff: 0.072\n"
     ]
    }
   ],
   "source": [
    "for max_features in range(7, 16, 1):\n",
    "    trainResults, testResults, *_ = cv_random_forest(train_df=preproc_train_df, features=features, target=target, n_estimators=800, max_depth=26, max_features=max_features)\n",
    "    print(f'max_features: {max_features}, Train mean: {np.mean(trainResults):.3f}, Test mean: {np.mean(testResults):.3f}, Diff: {(np.mean(trainResults) - np.mean(testResults)):.3f}')"
   ],
   "metadata": {
    "collapsed": false
   }
  },
  {
   "cell_type": "code",
   "execution_count": 7,
   "outputs": [
    {
     "name": "stdout",
     "output_type": "stream",
     "text": [
      "min_samples_split: 2, Train mean: 1.000, Test mean: 0.928, Diff: 0.072\n",
      "min_samples_split: 3, Train mean: 1.000, Test mean: 0.928, Diff: 0.072\n",
      "min_samples_split: 4, Train mean: 1.000, Test mean: 0.927, Diff: 0.073\n",
      "min_samples_split: 5, Train mean: 1.000, Test mean: 0.926, Diff: 0.074\n",
      "min_samples_split: 6, Train mean: 1.000, Test mean: 0.927, Diff: 0.073\n",
      "min_samples_split: 8, Train mean: 1.000, Test mean: 0.925, Diff: 0.075\n",
      "min_samples_split: 10, Train mean: 1.000, Test mean: 0.925, Diff: 0.075\n",
      "min_samples_split: 15, Train mean: 0.999, Test mean: 0.923, Diff: 0.076\n",
      "min_samples_split: 20, Train mean: 0.997, Test mean: 0.921, Diff: 0.076\n",
      "min_samples_split: 30, Train mean: 0.993, Test mean: 0.918, Diff: 0.075\n"
     ]
    }
   ],
   "source": [
    "for min_samples_split in [2, 3, 4, 5, 6, 8, 10, 15, 20, 30]:\n",
    "    trainResults, testResults, *_ = cv_random_forest(train_df=preproc_train_df, features=features, target=target, n_estimators=800, max_depth=26, max_features=11, min_samples_split=min_samples_split)\n",
    "    print(f'min_samples_split: {min_samples_split}, Train mean: {np.mean(trainResults):.3f}, Test mean: {np.mean(testResults):.3f}, Diff: {(np.mean(trainResults) - np.mean(testResults)):.3f}')"
   ],
   "metadata": {
    "collapsed": false
   }
  },
  {
   "cell_type": "code",
   "execution_count": 46,
   "outputs": [
    {
     "name": "stdout",
     "output_type": "stream",
     "text": [
      "RandomForestClassifier(max_depth=26, max_features=11, min_samples_split=3,\n",
      "                       n_estimators=800, n_jobs=-1, random_state=2022)\n",
      "Train AUC: 1.0 Valid AUC: 0.9214425461498534\n",
      "RandomForestClassifier(max_depth=26, max_features=11, min_samples_split=3,\n",
      "                       n_estimators=800, n_jobs=-1, random_state=2022)\n",
      "Train AUC: 1.0 Valid AUC: 0.9316546539633066\n",
      "RandomForestClassifier(max_depth=26, max_features=11, min_samples_split=3,\n",
      "                       n_estimators=800, n_jobs=-1, random_state=2022)\n",
      "Train AUC: 1.0 Valid AUC: 0.932556313135048\n",
      "RandomForestClassifier(max_depth=26, max_features=11, min_samples_split=3,\n",
      "                       n_estimators=800, n_jobs=-1, random_state=2022)\n",
      "Train AUC: 1.0 Valid AUC: 0.9272665020040526\n",
      "RandomForestClassifier(max_depth=26, max_features=11, min_samples_split=3,\n",
      "                       n_estimators=800, n_jobs=-1, random_state=2022)\n",
      "Train AUC: 1.0 Valid AUC: 0.9261591705737062\n",
      "Train mean: 1.000, Test mean: 0.928, Diff: 0.072\n"
     ]
    }
   ],
   "source": [
    "# Final model with hyperparameters that were found by Grid Search\n",
    "trainResults, testResults, predictions, indexes, models = cv_random_forest(preproc_train_df, target, features, debug=True, mlflow_tracking=True, exp_name='Experiment_1_RF', n_estimators=800, max_depth=26, max_features=11, min_samples_split=3, min_samples_leaf = 1)\n",
    "print(f'Train mean: {np.mean(trainResults):.3f}, Test mean: {np.mean(testResults):.3f}, Diff: {(np.mean(trainResults) - np.mean(testResults)):.3f}')"
   ],
   "metadata": {
    "collapsed": false
   }
  },
  {
   "cell_type": "code",
   "execution_count": 47,
   "outputs": [],
   "source": [
    "# Save results to file\n",
    "modelRF= {\n",
    "    \"name\":\"RF-2_GS\",\n",
    "    \"description\":\"Model Random Forest\",\n",
    "    \"specification\":'n_estimators=800, max_depth=26, max_features=11, min_samples_split=3, min_samples_leaf = 1',\n",
    "    \"trainResults\":trainResults.copy(),\n",
    "    \"testResults\":testResults.copy(),\n",
    "    \"predictions\":predictions.copy(),\n",
    "    \"indices\":indexes.copy(),\n",
    "    \"features\": features.copy()\n",
    "}\n",
    "save_model_and_results('model_RF_2', modelRF)"
   ],
   "metadata": {
    "collapsed": false
   }
  },
  {
   "cell_type": "markdown",
   "source": [
    "## Features importance"
   ],
   "metadata": {
    "collapsed": false
   }
  },
  {
   "cell_type": "code",
   "execution_count": 10,
   "outputs": [
    {
     "data": {
      "text/plain": "[(0.09327166308777758, 'ip'),\n (0.0765717808423343, 'thrcnt_month'),\n (0.07501511280383924, 'client_code'),\n (0.07246224195185441, 'thrcnt_week'),\n (0.06172739527002609, 'timestamp_dist'),\n (0.0539159947130435, 'start_minute'),\n (0.05319980162480642, 'start_second'),\n (0.05025783537438015, 'start_hour'),\n (0.05001424381825098, 'thrcnt_day'),\n (0.04994486367179078, 'correlatedcount'),\n (0.03732707673133568, 'categoryname'),\n (0.032267380209864506, 'weekday'),\n (0.021695975401261624, 'untrustscore'),\n (0.020412143732095024, 'flowscore'),\n (0.015694700189062098, 'srcipcategory_dominate'),\n (0.015290099524540985, 'srcport_cd'),\n (0.014671430210779955, 'overallseverity'),\n (0.012586640294484596, 'p8m'),\n (0.011915333283625472, 'dstip_cd'),\n (0.01188817652985421, 'p5m'),\n (0.0112185220834468, 'ipcategory_name'),\n (0.009810415157257599, 'p8w'),\n (0.009751031920101834, 'srcportcategory_dominate'),\n (0.009577650064221213, 'enforcementscore'),\n (0.009561418945441115, 'p5w'),\n (0.008448022243147658, 'protocol_cd'),\n (0.008076406039539467, 'srcip_cd'),\n (0.008016805688895345, 'dstport_cd'),\n (0.007872701339483106, 'p5d'),\n (0.007491142939308159, 'p8d'),\n (0.007019347375636156, 'severity_cd'),\n (0.006687531156065103, 'dstportcategory_dominate'),\n (0.006530879607271408, 'isiptrusted'),\n (0.005553356254165257, 'dstipcategory_dominate'),\n (0.005546988638190848, 'trustscore'),\n (0.005494959611888801, 'parent_category'),\n (0.00537139944181104, 'alerttype_cd'),\n (0.005254597668033497, 'eventname_cd'),\n (0.005177245155596468, 'p6'),\n (0.0038472212578600736, 'ipcategory_scope'),\n (0.0036946016316949807, 'reportingdevice_cd'),\n (0.003206361629358031, 'username_cd'),\n (0.0026292706247931417, 'srcipcategory_cd'),\n (0.0026101790655655836, 'direction_cd'),\n (0.0025625681889374194, 'dstipcategory_cd'),\n (0.002359530014493285, 'p9'),\n (0.002274847512657278, 'domain_cd'),\n (0.002235223062799658, 'devicevendor_cd'),\n (0.0019898864173319895, 'devicetype_cd')]"
     },
     "execution_count": 10,
     "metadata": {},
     "output_type": "execute_result"
    }
   ],
   "source": [
    "# Checking which parameters have the highest and lowest predictive power\n",
    "imps = list(zip(models[0].feature_importances_, features))\n",
    "imps.sort(reverse=True)\n",
    "imps"
   ],
   "metadata": {
    "collapsed": false
   }
  },
  {
   "cell_type": "code",
   "execution_count": null,
   "outputs": [],
   "source": [
    "r = permutation_importance(models[0], preproc_train_df[features], preproc_train_df[target], n_repeats=10,random_state=0, scoring='roc_auc')\n",
    "for i in r.importances_mean.argsort()[::-1]:\n",
    "    if r.importances_mean[i] - 2 * r.importances_std[i] > 0:\n",
    "        print(f\"{features[i]:<8}\"\n",
    "              f\"{r.importances_mean[i]:.3f}\"\n",
    "              f\" +/- {r.importances_std[i]:.3f}\")"
   ],
   "metadata": {
    "collapsed": false
   }
  },
  {
   "cell_type": "markdown",
   "source": [
    "## Random Search"
   ],
   "metadata": {
    "collapsed": false
   }
  },
  {
   "cell_type": "code",
   "execution_count": null,
   "outputs": [
    {
     "name": "stdout",
     "output_type": "stream",
     "text": [
      "{'max_depth': 21, 'max_features': 3, 'min_samples_split': 3, 'n_estimators': 875, 'min_samples_leaf': 1} 0.922610582420945\n",
      "{'max_depth': 17, 'max_features': 6, 'min_samples_split': 7, 'n_estimators': 275, 'min_samples_leaf': 1} 0.92034520867946\n",
      "{'max_depth': 24, 'max_features': 7, 'min_samples_split': 4, 'n_estimators': 850, 'min_samples_leaf': 3} 0.923934444542571\n",
      "{'max_depth': 25, 'max_features': 3, 'min_samples_split': 7, 'n_estimators': 100, 'min_samples_leaf': 5} 0.9087506522871422\n",
      "{'max_depth': 18, 'max_features': 12, 'min_samples_split': 2, 'n_estimators': 700, 'min_samples_leaf': 2} 0.9256446771673611\n",
      "{'max_depth': 28, 'max_features': 8, 'min_samples_split': 6, 'n_estimators': 425, 'min_samples_leaf': 3} 0.9242014097122817\n",
      "{'max_depth': 14, 'max_features': 7, 'min_samples_split': 7, 'n_estimators': 950, 'min_samples_leaf': 3} 0.917934294317275\n",
      "{'max_depth': 24, 'max_features': 11, 'min_samples_split': 8, 'n_estimators': 800, 'min_samples_leaf': 3} 0.9249018999667064\n",
      "{'max_depth': 23, 'max_features': 9, 'min_samples_split': 2, 'n_estimators': 525, 'min_samples_leaf': 2} 0.9260415880366418\n",
      "{'max_depth': 24, 'max_features': 11, 'min_samples_split': 2, 'n_estimators': 500, 'min_samples_leaf': 1} 0.9270222373511272\n",
      "{'max_depth': 28, 'max_features': 11, 'min_samples_split': 6, 'n_estimators': 525, 'min_samples_leaf': 5} 0.9223715172141711\n",
      "\n",
      " Top 3:\n",
      "{'max_depth': 24, 'max_features': 11, 'min_samples_split': 2, 'n_estimators': 500, 'min_samples_leaf': 1} 0.9270222373511272\n",
      "{'max_depth': 23, 'max_features': 9, 'min_samples_split': 2, 'n_estimators': 525, 'min_samples_leaf': 2} 0.9260415880366418\n",
      "{'max_depth': 18, 'max_features': 12, 'min_samples_split': 2, 'n_estimators': 700, 'min_samples_leaf': 2} 0.9256446771673611\n",
      "\n",
      "{'max_depth': 21, 'max_features': 6, 'min_samples_split': 3, 'n_estimators': 300, 'min_samples_leaf': 3} 0.9217992950791161\n",
      "{'max_depth': 6, 'max_features': 6, 'min_samples_split': 4, 'n_estimators': 350, 'min_samples_leaf': 1} 0.8586267986520342\n",
      "{'max_depth': 21, 'max_features': 7, 'min_samples_split': 5, 'n_estimators': 650, 'min_samples_leaf': 4} 0.9220959483171148\n",
      "{'max_depth': 9, 'max_features': 12, 'min_samples_split': 7, 'n_estimators': 125, 'min_samples_leaf': 5} 0.8982480652443579\n",
      "{'max_depth': 22, 'max_features': 7, 'min_samples_split': 6, 'n_estimators': 775, 'min_samples_leaf': 1} 0.9253004303387524\n",
      "{'max_depth': 8, 'max_features': 3, 'min_samples_split': 5, 'n_estimators': 150, 'min_samples_leaf': 2} 0.863083565137926\n",
      "{'max_depth': 6, 'max_features': 7, 'min_samples_split': 4, 'n_estimators': 425, 'min_samples_leaf': 2} 0.8631611335650249\n",
      "{'max_depth': 8, 'max_features': 5, 'min_samples_split': 6, 'n_estimators': 175, 'min_samples_leaf': 3} 0.8790507346186901\n",
      "{'max_depth': 27, 'max_features': 12, 'min_samples_split': 9, 'n_estimators': 950, 'min_samples_leaf': 7} 0.9205280435193574\n",
      "{'max_depth': 11, 'max_features': 12, 'min_samples_split': 5, 'n_estimators': 750, 'min_samples_leaf': 5} 0.9107966972515829\n",
      "\n",
      " Top 3:\n",
      "{'max_depth': 24, 'max_features': 11, 'min_samples_split': 2, 'n_estimators': 500, 'min_samples_leaf': 1} 0.9270222373511272\n",
      "{'max_depth': 23, 'max_features': 9, 'min_samples_split': 2, 'n_estimators': 525, 'min_samples_leaf': 2} 0.9260415880366418\n",
      "{'max_depth': 18, 'max_features': 12, 'min_samples_split': 2, 'n_estimators': 700, 'min_samples_leaf': 2} 0.9256446771673611\n",
      "\n",
      "{'max_depth': 22, 'max_features': 8, 'min_samples_split': 6, 'n_estimators': 350, 'min_samples_leaf': 5} 0.9209947551429037\n",
      "{'max_depth': 8, 'max_features': 4, 'min_samples_split': 6, 'n_estimators': 200, 'min_samples_leaf': 5} 0.8736948489697655\n",
      "{'max_depth': 8, 'max_features': 3, 'min_samples_split': 4, 'n_estimators': 150, 'min_samples_leaf': 2} 0.862283518254418\n",
      "{'max_depth': 27, 'max_features': 9, 'min_samples_split': 8, 'n_estimators': 425, 'min_samples_leaf': 1} 0.9245227119892945\n",
      "{'max_depth': 25, 'max_features': 5, 'min_samples_split': 8, 'n_estimators': 675, 'min_samples_leaf': 6} 0.9158796043027102\n",
      "{'max_depth': 9, 'max_features': 3, 'min_samples_split': 5, 'n_estimators': 350, 'min_samples_leaf': 2} 0.8759573793880657\n",
      "{'max_depth': 10, 'max_features': 11, 'min_samples_split': 6, 'n_estimators': 600, 'min_samples_leaf': 6} 0.905744144917158\n",
      "{'max_depth': 14, 'max_features': 3, 'min_samples_split': 7, 'n_estimators': 175, 'min_samples_leaf': 1} 0.9070796022971084\n",
      "{'max_depth': 21, 'max_features': 8, 'min_samples_split': 5, 'n_estimators': 450, 'min_samples_leaf': 4} 0.9219393271155433\n",
      "{'max_depth': 20, 'max_features': 6, 'min_samples_split': 8, 'n_estimators': 600, 'min_samples_leaf': 1} 0.9229598785813433\n",
      "\n",
      " Top 3:\n",
      "{'max_depth': 24, 'max_features': 11, 'min_samples_split': 2, 'n_estimators': 500, 'min_samples_leaf': 1} 0.9270222373511272\n",
      "{'max_depth': 23, 'max_features': 9, 'min_samples_split': 2, 'n_estimators': 525, 'min_samples_leaf': 2} 0.9260415880366418\n",
      "{'max_depth': 18, 'max_features': 12, 'min_samples_split': 2, 'n_estimators': 700, 'min_samples_leaf': 2} 0.9256446771673611\n",
      "\n",
      "{'max_depth': 21, 'max_features': 9, 'min_samples_split': 3, 'n_estimators': 1000, 'min_samples_leaf': 3} 0.9250262820734297\n",
      "{'max_depth': 23, 'max_features': 5, 'min_samples_split': 5, 'n_estimators': 100, 'min_samples_leaf': 2} 0.9195977009947477\n",
      "{'max_depth': 11, 'max_features': 11, 'min_samples_split': 7, 'n_estimators': 475, 'min_samples_leaf': 5} 0.9106166422195191\n",
      "{'max_depth': 9, 'max_features': 10, 'min_samples_split': 8, 'n_estimators': 175, 'min_samples_leaf': 1} 0.8961905850559628\n",
      "{'max_depth': 20, 'max_features': 8, 'min_samples_split': 8, 'n_estimators': 950, 'min_samples_leaf': 3} 0.9232912237275525\n",
      "{'max_depth': 23, 'max_features': 4, 'min_samples_split': 7, 'n_estimators': 1000, 'min_samples_leaf': 2} 0.9211898856190972\n",
      "{'max_depth': 27, 'max_features': 2, 'min_samples_split': 2, 'n_estimators': 525, 'min_samples_leaf': 1} 0.9214992056272306\n",
      "{'max_depth': 17, 'max_features': 8, 'min_samples_split': 2, 'n_estimators': 375, 'min_samples_leaf': 1} 0.9244019585108711\n",
      "{'max_depth': 22, 'max_features': 3, 'min_samples_split': 6, 'n_estimators': 275, 'min_samples_leaf': 1} 0.9194150771008811\n",
      "{'max_depth': 14, 'max_features': 9, 'min_samples_split': 2, 'n_estimators': 525, 'min_samples_leaf': 1} 0.9208731774839972\n",
      "\n",
      " Top 3:\n",
      "{'max_depth': 24, 'max_features': 11, 'min_samples_split': 2, 'n_estimators': 500, 'min_samples_leaf': 1} 0.9270222373511272\n",
      "{'max_depth': 23, 'max_features': 9, 'min_samples_split': 2, 'n_estimators': 525, 'min_samples_leaf': 2} 0.9260415880366418\n",
      "{'max_depth': 18, 'max_features': 12, 'min_samples_split': 2, 'n_estimators': 700, 'min_samples_leaf': 2} 0.9256446771673611\n",
      "\n",
      "{'max_depth': 23, 'max_features': 5, 'min_samples_split': 8, 'n_estimators': 650, 'min_samples_leaf': 4} 0.9193050924519724\n",
      "{'max_depth': 24, 'max_features': 3, 'min_samples_split': 9, 'n_estimators': 500, 'min_samples_leaf': 6} 0.909323301677014\n",
      "{'max_depth': 6, 'max_features': 6, 'min_samples_split': 6, 'n_estimators': 175, 'min_samples_leaf': 3} 0.8585713502511995\n",
      "{'max_depth': 20, 'max_features': 11, 'min_samples_split': 6, 'n_estimators': 350, 'min_samples_leaf': 6} 0.9213591613044378\n",
      "{'max_depth': 9, 'max_features': 6, 'min_samples_split': 6, 'n_estimators': 400, 'min_samples_leaf': 4} 0.8920037189850311\n",
      "{'max_depth': 25, 'max_features': 9, 'min_samples_split': 7, 'n_estimators': 925, 'min_samples_leaf': 6} 0.9207366879450557\n",
      "{'max_depth': 14, 'max_features': 5, 'min_samples_split': 2, 'n_estimators': 725, 'min_samples_leaf': 1} 0.916919933259606\n",
      "{'max_depth': 24, 'max_features': 9, 'min_samples_split': 8, 'n_estimators': 575, 'min_samples_leaf': 8} 0.9181589439146365\n",
      "{'max_depth': 15, 'max_features': 8, 'min_samples_split': 9, 'n_estimators': 900, 'min_samples_leaf': 2} 0.919982244832449\n",
      "{'max_depth': 16, 'max_features': 2, 'min_samples_split': 3, 'n_estimators': 900, 'min_samples_leaf': 3} 0.9055266732008797\n",
      "\n",
      " Top 3:\n",
      "{'max_depth': 24, 'max_features': 11, 'min_samples_split': 2, 'n_estimators': 500, 'min_samples_leaf': 1} 0.9270222373511272\n",
      "{'max_depth': 23, 'max_features': 9, 'min_samples_split': 2, 'n_estimators': 525, 'min_samples_leaf': 2} 0.9260415880366418\n",
      "{'max_depth': 18, 'max_features': 12, 'min_samples_split': 2, 'n_estimators': 700, 'min_samples_leaf': 2} 0.9256446771673611\n",
      "\n",
      "{'max_depth': 16, 'max_features': 10, 'min_samples_split': 6, 'n_estimators': 925, 'min_samples_leaf': 1} 0.9232605140302514\n",
      "{'max_depth': 11, 'max_features': 3, 'min_samples_split': 9, 'n_estimators': 300, 'min_samples_leaf': 8} 0.8878936322284471\n",
      "{'max_depth': 23, 'max_features': 6, 'min_samples_split': 4, 'n_estimators': 425, 'min_samples_leaf': 1} 0.9254291600275188\n",
      "{'max_depth': 13, 'max_features': 8, 'min_samples_split': 4, 'n_estimators': 850, 'min_samples_leaf': 2} 0.9171992736157542\n",
      "{'max_depth': 7, 'max_features': 11, 'min_samples_split': 8, 'n_estimators': 275, 'min_samples_leaf': 6} 0.8806095158975792\n",
      "{'max_depth': 19, 'max_features': 6, 'min_samples_split': 2, 'n_estimators': 650, 'min_samples_leaf': 2} 0.923685059076675\n",
      "{'max_depth': 18, 'max_features': 7, 'min_samples_split': 6, 'n_estimators': 150, 'min_samples_leaf': 1} 0.9216301514241838\n",
      "{'max_depth': 22, 'max_features': 8, 'min_samples_split': 8, 'n_estimators': 775, 'min_samples_leaf': 4} 0.922452206075684\n",
      "{'max_depth': 23, 'max_features': 9, 'min_samples_split': 4, 'n_estimators': 350, 'min_samples_leaf': 4} 0.9227406404180435\n",
      "{'max_depth': 7, 'max_features': 5, 'min_samples_split': 8, 'n_estimators': 500, 'min_samples_leaf': 3} 0.8685342083937997\n",
      "\n",
      " Top 3:\n",
      "{'max_depth': 24, 'max_features': 11, 'min_samples_split': 2, 'n_estimators': 500, 'min_samples_leaf': 1} 0.9270222373511272\n",
      "{'max_depth': 23, 'max_features': 9, 'min_samples_split': 2, 'n_estimators': 525, 'min_samples_leaf': 2} 0.9260415880366418\n",
      "{'max_depth': 18, 'max_features': 12, 'min_samples_split': 2, 'n_estimators': 700, 'min_samples_leaf': 2} 0.9256446771673611\n",
      "\n",
      "{'max_depth': 7, 'max_features': 5, 'min_samples_split': 5, 'n_estimators': 800, 'min_samples_leaf': 2} 0.8690497155483883\n",
      "{'max_depth': 16, 'max_features': 5, 'min_samples_split': 4, 'n_estimators': 400, 'min_samples_leaf': 1} 0.9195976935427341\n",
      "{'max_depth': 16, 'max_features': 11, 'min_samples_split': 5, 'n_estimators': 200, 'min_samples_leaf': 1} 0.9224238580665413\n",
      "{'max_depth': 21, 'max_features': 2, 'min_samples_split': 9, 'n_estimators': 750, 'min_samples_leaf': 6} 0.9026074782727818\n",
      "{'max_depth': 11, 'max_features': 2, 'min_samples_split': 3, 'n_estimators': 350, 'min_samples_leaf': 3} 0.881747351448184\n",
      "{'max_depth': 8, 'max_features': 12, 'min_samples_split': 5, 'n_estimators': 500, 'min_samples_leaf': 3} 0.8905706534079278\n",
      "{'max_depth': 8, 'max_features': 2, 'min_samples_split': 3, 'n_estimators': 1000, 'min_samples_leaf': 3} 0.8495250955805389\n",
      "{'max_depth': 8, 'max_features': 4, 'min_samples_split': 3, 'n_estimators': 100, 'min_samples_leaf': 3} 0.8728792185602761\n",
      "{'max_depth': 19, 'max_features': 11, 'min_samples_split': 7, 'n_estimators': 625, 'min_samples_leaf': 7} 0.9197350047997682\n",
      "{'max_depth': 21, 'max_features': 6, 'min_samples_split': 4, 'n_estimators': 975, 'min_samples_leaf': 4} 0.9207344138568285\n",
      "\n",
      " Top 3:\n",
      "{'max_depth': 24, 'max_features': 11, 'min_samples_split': 2, 'n_estimators': 500, 'min_samples_leaf': 1} 0.9270222373511272\n",
      "{'max_depth': 23, 'max_features': 9, 'min_samples_split': 2, 'n_estimators': 525, 'min_samples_leaf': 2} 0.9260415880366418\n",
      "{'max_depth': 18, 'max_features': 12, 'min_samples_split': 2, 'n_estimators': 700, 'min_samples_leaf': 2} 0.9256446771673611\n",
      "\n",
      "{'max_depth': 6, 'max_features': 11, 'min_samples_split': 2, 'n_estimators': 550, 'min_samples_leaf': 2} 0.8676862576532592\n",
      "{'max_depth': 10, 'max_features': 9, 'min_samples_split': 8, 'n_estimators': 750, 'min_samples_leaf': 8} 0.9027714485290937\n",
      "{'max_depth': 25, 'max_features': 7, 'min_samples_split': 2, 'n_estimators': 500, 'min_samples_leaf': 1} 0.9269678331511912\n",
      "{'max_depth': 24, 'max_features': 2, 'min_samples_split': 3, 'n_estimators': 575, 'min_samples_leaf': 2} 0.9163997015556179\n",
      "{'max_depth': 19, 'max_features': 6, 'min_samples_split': 9, 'n_estimators': 925, 'min_samples_leaf': 3} 0.9208631594667006\n",
      "{'max_depth': 11, 'max_features': 11, 'min_samples_split': 9, 'n_estimators': 500, 'min_samples_leaf': 5} 0.9106562641256917\n",
      "{'max_depth': 6, 'max_features': 10, 'min_samples_split': 9, 'n_estimators': 150, 'min_samples_leaf': 2} 0.8658701503141961\n",
      "{'max_depth': 10, 'max_features': 11, 'min_samples_split': 5, 'n_estimators': 350, 'min_samples_leaf': 3} 0.9063214844756194\n",
      "{'max_depth': 26, 'max_features': 2, 'min_samples_split': 2, 'n_estimators': 475, 'min_samples_leaf': 2} 0.9164348401520606\n",
      "{'max_depth': 27, 'max_features': 12, 'min_samples_split': 8, 'n_estimators': 500, 'min_samples_leaf': 2} 0.9249910134887236\n",
      "\n",
      " Top 3:\n",
      "{'max_depth': 24, 'max_features': 11, 'min_samples_split': 2, 'n_estimators': 500, 'min_samples_leaf': 1} 0.9270222373511272\n",
      "{'max_depth': 25, 'max_features': 7, 'min_samples_split': 2, 'n_estimators': 500, 'min_samples_leaf': 1} 0.9269678331511912\n",
      "{'max_depth': 23, 'max_features': 9, 'min_samples_split': 2, 'n_estimators': 525, 'min_samples_leaf': 2} 0.9260415880366418\n",
      "\n",
      "{'max_depth': 12, 'max_features': 10, 'min_samples_split': 8, 'n_estimators': 625, 'min_samples_leaf': 5} 0.91391077455102\n",
      "{'max_depth': 28, 'max_features': 6, 'min_samples_split': 4, 'n_estimators': 825, 'min_samples_leaf': 4} 0.9210327025149532\n",
      "{'max_depth': 17, 'max_features': 11, 'min_samples_split': 7, 'n_estimators': 600, 'min_samples_leaf': 5} 0.921402341199005\n",
      "{'max_depth': 17, 'max_features': 8, 'min_samples_split': 7, 'n_estimators': 275, 'min_samples_leaf': 7} 0.9173600817286995\n",
      "{'max_depth': 21, 'max_features': 12, 'min_samples_split': 7, 'n_estimators': 225, 'min_samples_leaf': 6} 0.9209754629964735\n",
      "{'max_depth': 7, 'max_features': 4, 'min_samples_split': 2, 'n_estimators': 525, 'min_samples_leaf': 2} 0.8630704719586237\n",
      "{'max_depth': 27, 'max_features': 8, 'min_samples_split': 5, 'n_estimators': 500, 'min_samples_leaf': 5} 0.921414152779105\n",
      "{'max_depth': 17, 'max_features': 2, 'min_samples_split': 9, 'n_estimators': 825, 'min_samples_leaf': 2} 0.9082988644383487\n",
      "{'max_depth': 7, 'max_features': 5, 'min_samples_split': 3, 'n_estimators': 275, 'min_samples_leaf': 1} 0.8671781181987128\n",
      "{'max_depth': 20, 'max_features': 11, 'min_samples_split': 8, 'n_estimators': 950, 'min_samples_leaf': 1} 0.924678083682718\n",
      "\n",
      " Top 3:\n",
      "{'max_depth': 24, 'max_features': 11, 'min_samples_split': 2, 'n_estimators': 500, 'min_samples_leaf': 1} 0.9270222373511272\n",
      "{'max_depth': 25, 'max_features': 7, 'min_samples_split': 2, 'n_estimators': 500, 'min_samples_leaf': 1} 0.9269678331511912\n",
      "{'max_depth': 23, 'max_features': 9, 'min_samples_split': 2, 'n_estimators': 525, 'min_samples_leaf': 2} 0.9260415880366418\n",
      "\n",
      "{'max_depth': 28, 'max_features': 8, 'min_samples_split': 7, 'n_estimators': 975, 'min_samples_leaf': 4} 0.9233072244318933\n",
      "{'max_depth': 16, 'max_features': 5, 'min_samples_split': 9, 'n_estimators': 100, 'min_samples_leaf': 8} 0.9096670267457799\n",
      "{'max_depth': 13, 'max_features': 7, 'min_samples_split': 5, 'n_estimators': 675, 'min_samples_leaf': 1} 0.9156314346124196\n",
      "{'max_depth': 24, 'max_features': 3, 'min_samples_split': 2, 'n_estimators': 675, 'min_samples_leaf': 1} 0.9242163707203904\n",
      "{'max_depth': 23, 'max_features': 9, 'min_samples_split': 9, 'n_estimators': 800, 'min_samples_leaf': 3} 0.9236628435682432\n",
      "{'max_depth': 13, 'max_features': 9, 'min_samples_split': 7, 'n_estimators': 875, 'min_samples_leaf': 1} 0.9168496432185875\n",
      "{'max_depth': 18, 'max_features': 9, 'min_samples_split': 8, 'n_estimators': 275, 'min_samples_leaf': 8} 0.9169202325701644\n",
      "{'max_depth': 12, 'max_features': 7, 'min_samples_split': 7, 'n_estimators': 925, 'min_samples_leaf': 5} 0.9105052961421511\n",
      "{'max_depth': 27, 'max_features': 3, 'min_samples_split': 7, 'n_estimators': 375, 'min_samples_leaf': 4} 0.9142767903716763\n",
      "{'max_depth': 21, 'max_features': 2, 'min_samples_split': 6, 'n_estimators': 325, 'min_samples_leaf': 4} 0.9076806729575392\n",
      "\n",
      " Top 3:\n",
      "{'max_depth': 24, 'max_features': 11, 'min_samples_split': 2, 'n_estimators': 500, 'min_samples_leaf': 1} 0.9270222373511272\n",
      "{'max_depth': 25, 'max_features': 7, 'min_samples_split': 2, 'n_estimators': 500, 'min_samples_leaf': 1} 0.9269678331511912\n",
      "{'max_depth': 23, 'max_features': 9, 'min_samples_split': 2, 'n_estimators': 525, 'min_samples_leaf': 2} 0.9260415880366418\n",
      "\n",
      "{'max_depth': 18, 'max_features': 4, 'min_samples_split': 2, 'n_estimators': 300, 'min_samples_leaf': 1} 0.9209077618912413\n",
      "{'max_depth': 9, 'max_features': 7, 'min_samples_split': 8, 'n_estimators': 450, 'min_samples_leaf': 3} 0.8946349491144548\n",
      "{'max_depth': 15, 'max_features': 7, 'min_samples_split': 6, 'n_estimators': 975, 'min_samples_leaf': 3} 0.9200450331272174\n",
      "{'max_depth': 14, 'max_features': 11, 'min_samples_split': 2, 'n_estimators': 450, 'min_samples_leaf': 1} 0.9211889985384808\n",
      "{'max_depth': 25, 'max_features': 4, 'min_samples_split': 9, 'n_estimators': 500, 'min_samples_leaf': 6} 0.9136639464478105\n",
      "{'max_depth': 14, 'max_features': 5, 'min_samples_split': 2, 'n_estimators': 425, 'min_samples_leaf': 2} 0.9151855997241671\n",
      "{'max_depth': 21, 'max_features': 7, 'min_samples_split': 6, 'n_estimators': 775, 'min_samples_leaf': 4} 0.9220541522486873\n",
      "{'max_depth': 27, 'max_features': 4, 'min_samples_split': 4, 'n_estimators': 850, 'min_samples_leaf': 1} 0.9251113697713214\n",
      "{'max_depth': 27, 'max_features': 8, 'min_samples_split': 8, 'n_estimators': 200, 'min_samples_leaf': 7} 0.9177947130501757\n",
      "{'max_depth': 23, 'max_features': 11, 'min_samples_split': 3, 'n_estimators': 375, 'min_samples_leaf': 2} 0.9261838052610066\n",
      "\n",
      " Top 3:\n",
      "{'max_depth': 24, 'max_features': 11, 'min_samples_split': 2, 'n_estimators': 500, 'min_samples_leaf': 1} 0.9270222373511272\n",
      "{'max_depth': 25, 'max_features': 7, 'min_samples_split': 2, 'n_estimators': 500, 'min_samples_leaf': 1} 0.9269678331511912\n",
      "{'max_depth': 23, 'max_features': 11, 'min_samples_split': 3, 'n_estimators': 375, 'min_samples_leaf': 2} 0.9261838052610066\n",
      "\n",
      "{'max_depth': 6, 'max_features': 5, 'min_samples_split': 2, 'n_estimators': 600, 'min_samples_leaf': 1} 0.8547941462441923\n",
      "{'max_depth': 20, 'max_features': 3, 'min_samples_split': 3, 'n_estimators': 500, 'min_samples_leaf': 1} 0.9215111891117754\n",
      "{'max_depth': 19, 'max_features': 6, 'min_samples_split': 8, 'n_estimators': 450, 'min_samples_leaf': 5} 0.9186489562506365\n",
      "{'max_depth': 16, 'max_features': 7, 'min_samples_split': 3, 'n_estimators': 325, 'min_samples_leaf': 2} 0.9216095211582523\n",
      "{'max_depth': 27, 'max_features': 3, 'min_samples_split': 3, 'n_estimators': 525, 'min_samples_leaf': 1} 0.923183932863376\n",
      "{'max_depth': 10, 'max_features': 5, 'min_samples_split': 4, 'n_estimators': 525, 'min_samples_leaf': 2} 0.8969564108300515\n",
      "{'max_depth': 20, 'max_features': 2, 'min_samples_split': 3, 'n_estimators': 150, 'min_samples_leaf': 1} 0.9139324549171276\n",
      "{'max_depth': 17, 'max_features': 2, 'min_samples_split': 3, 'n_estimators': 675, 'min_samples_leaf': 1} 0.9144917727859306\n",
      "{'max_depth': 18, 'max_features': 10, 'min_samples_split': 6, 'n_estimators': 575, 'min_samples_leaf': 4} 0.9229395389463753\n",
      "{'max_depth': 11, 'max_features': 3, 'min_samples_split': 8, 'n_estimators': 775, 'min_samples_leaf': 1} 0.8932723039198102\n",
      "\n",
      " Top 3:\n",
      "{'max_depth': 24, 'max_features': 11, 'min_samples_split': 2, 'n_estimators': 500, 'min_samples_leaf': 1} 0.9270222373511272\n",
      "{'max_depth': 25, 'max_features': 7, 'min_samples_split': 2, 'n_estimators': 500, 'min_samples_leaf': 1} 0.9269678331511912\n",
      "{'max_depth': 23, 'max_features': 11, 'min_samples_split': 3, 'n_estimators': 375, 'min_samples_leaf': 2} 0.9261838052610066\n",
      "\n",
      "{'max_depth': 18, 'max_features': 8, 'min_samples_split': 2, 'n_estimators': 925, 'min_samples_leaf': 1} 0.9256532368116709\n",
      "{'max_depth': 26, 'max_features': 10, 'min_samples_split': 9, 'n_estimators': 675, 'min_samples_leaf': 6} 0.9215972250275716\n",
      "{'max_depth': 9, 'max_features': 6, 'min_samples_split': 8, 'n_estimators': 150, 'min_samples_leaf': 6} 0.8911387193442106\n",
      "{'max_depth': 7, 'max_features': 4, 'min_samples_split': 8, 'n_estimators': 800, 'min_samples_leaf': 7} 0.8625923243156765\n",
      "{'max_depth': 8, 'max_features': 8, 'min_samples_split': 6, 'n_estimators': 900, 'min_samples_leaf': 6} 0.8874772639339824\n",
      "{'max_depth': 15, 'max_features': 3, 'min_samples_split': 4, 'n_estimators': 975, 'min_samples_leaf': 1} 0.9135374487563084\n",
      "{'max_depth': 9, 'max_features': 3, 'min_samples_split': 2, 'n_estimators': 375, 'min_samples_leaf': 2} 0.8758133208520096\n",
      "{'max_depth': 27, 'max_features': 8, 'min_samples_split': 9, 'n_estimators': 650, 'min_samples_leaf': 7} 0.9184473797399928\n",
      "{'max_depth': 20, 'max_features': 5, 'min_samples_split': 4, 'n_estimators': 750, 'min_samples_leaf': 4} 0.919287788157612\n",
      "{'max_depth': 12, 'max_features': 6, 'min_samples_split': 2, 'n_estimators': 600, 'min_samples_leaf': 1} 0.9108368286474956\n",
      "\n",
      " Top 3:\n",
      "{'max_depth': 24, 'max_features': 11, 'min_samples_split': 2, 'n_estimators': 500, 'min_samples_leaf': 1} 0.9270222373511272\n",
      "{'max_depth': 25, 'max_features': 7, 'min_samples_split': 2, 'n_estimators': 500, 'min_samples_leaf': 1} 0.9269678331511912\n",
      "{'max_depth': 23, 'max_features': 11, 'min_samples_split': 3, 'n_estimators': 375, 'min_samples_leaf': 2} 0.9261838052610066\n",
      "\n",
      "{'max_depth': 19, 'max_features': 9, 'min_samples_split': 4, 'n_estimators': 475, 'min_samples_leaf': 2} 0.9259338355645715\n",
      "{'max_depth': 12, 'max_features': 11, 'min_samples_split': 8, 'n_estimators': 475, 'min_samples_leaf': 6} 0.9136607111949726\n",
      "{'max_depth': 24, 'max_features': 9, 'min_samples_split': 5, 'n_estimators': 175, 'min_samples_leaf': 5} 0.9202817762477192\n",
      "{'max_depth': 17, 'max_features': 6, 'min_samples_split': 5, 'n_estimators': 400, 'min_samples_leaf': 5} 0.9176789968424227\n",
      "{'max_depth': 24, 'max_features': 3, 'min_samples_split': 9, 'n_estimators': 275, 'min_samples_leaf': 6} 0.908789058951481\n",
      "{'max_depth': 11, 'max_features': 3, 'min_samples_split': 8, 'n_estimators': 850, 'min_samples_leaf': 8} 0.8891632330222544\n",
      "{'max_depth': 28, 'max_features': 10, 'min_samples_split': 5, 'n_estimators': 100, 'min_samples_leaf': 3} 0.9219683530508462\n",
      "{'max_depth': 25, 'max_features': 11, 'min_samples_split': 6, 'n_estimators': 825, 'min_samples_leaf': 3} 0.92523126481227\n",
      "{'max_depth': 25, 'max_features': 11, 'min_samples_split': 4, 'n_estimators': 175, 'min_samples_leaf': 4} 0.923066175165156\n",
      "{'max_depth': 21, 'max_features': 8, 'min_samples_split': 4, 'n_estimators': 850, 'min_samples_leaf': 2} 0.9261929779711677\n",
      "\n",
      " Top 3:\n",
      "{'max_depth': 24, 'max_features': 11, 'min_samples_split': 2, 'n_estimators': 500, 'min_samples_leaf': 1} 0.9270222373511272\n",
      "{'max_depth': 25, 'max_features': 7, 'min_samples_split': 2, 'n_estimators': 500, 'min_samples_leaf': 1} 0.9269678331511912\n",
      "{'max_depth': 21, 'max_features': 8, 'min_samples_split': 4, 'n_estimators': 850, 'min_samples_leaf': 2} 0.9261929779711677\n",
      "\n",
      "{'max_depth': 17, 'max_features': 6, 'min_samples_split': 7, 'n_estimators': 875, 'min_samples_leaf': 7} 0.9153898823569762\n",
      "{'max_depth': 25, 'max_features': 11, 'min_samples_split': 8, 'n_estimators': 975, 'min_samples_leaf': 4} 0.9243173712689792\n",
      "{'max_depth': 14, 'max_features': 12, 'min_samples_split': 3, 'n_estimators': 725, 'min_samples_leaf': 3} 0.9213740216755071\n",
      "{'max_depth': 25, 'max_features': 11, 'min_samples_split': 2, 'n_estimators': 900, 'min_samples_leaf': 1} 0.9280746809736604\n",
      "{'max_depth': 14, 'max_features': 6, 'min_samples_split': 3, 'n_estimators': 100, 'min_samples_leaf': 3} 0.9135194601303409\n",
      "{'max_depth': 10, 'max_features': 3, 'min_samples_split': 4, 'n_estimators': 575, 'min_samples_leaf': 1} 0.886312350055254\n",
      "{'max_depth': 27, 'max_features': 3, 'min_samples_split': 5, 'n_estimators': 675, 'min_samples_leaf': 4} 0.9143884473900796\n",
      "{'max_depth': 25, 'max_features': 11, 'min_samples_split': 2, 'n_estimators': 450, 'min_samples_leaf': 2} 0.9266969289803809\n",
      "{'max_depth': 24, 'max_features': 8, 'min_samples_split': 6, 'n_estimators': 625, 'min_samples_leaf': 5} 0.9214935409602341\n",
      "{'max_depth': 16, 'max_features': 9, 'min_samples_split': 6, 'n_estimators': 650, 'min_samples_leaf': 1} 0.922787754862625\n",
      "\n",
      " Top 3:\n",
      "{'max_depth': 25, 'max_features': 11, 'min_samples_split': 2, 'n_estimators': 900, 'min_samples_leaf': 1} 0.9280746809736604\n",
      "{'max_depth': 24, 'max_features': 11, 'min_samples_split': 2, 'n_estimators': 500, 'min_samples_leaf': 1} 0.9270222373511272\n",
      "{'max_depth': 25, 'max_features': 7, 'min_samples_split': 2, 'n_estimators': 500, 'min_samples_leaf': 1} 0.9269678331511912\n",
      "\n",
      "{'max_depth': 6, 'max_features': 2, 'min_samples_split': 9, 'n_estimators': 150, 'min_samples_leaf': 9} 0.8180612807811898\n",
      "{'max_depth': 10, 'max_features': 4, 'min_samples_split': 6, 'n_estimators': 400, 'min_samples_leaf': 5} 0.8910618045696385\n",
      "{'max_depth': 14, 'max_features': 9, 'min_samples_split': 5, 'n_estimators': 250, 'min_samples_leaf': 4} 0.9184250519257044\n",
      "{'max_depth': 24, 'max_features': 9, 'min_samples_split': 9, 'n_estimators': 500, 'min_samples_leaf': 7} 0.9190976441767125\n",
      "{'max_depth': 27, 'max_features': 9, 'min_samples_split': 3, 'n_estimators': 125, 'min_samples_leaf': 1} 0.9217787670141689\n",
      "{'max_depth': 22, 'max_features': 10, 'min_samples_split': 2, 'n_estimators': 1000, 'min_samples_leaf': 1} 0.9281052344898477\n",
      "{'max_depth': 14, 'max_features': 2, 'min_samples_split': 4, 'n_estimators': 525, 'min_samples_leaf': 3} 0.8989863069948628\n",
      "{'max_depth': 17, 'max_features': 4, 'min_samples_split': 2, 'n_estimators': 950, 'min_samples_leaf': 2} 0.9188620468240464\n",
      "{'max_depth': 22, 'max_features': 5, 'min_samples_split': 7, 'n_estimators': 675, 'min_samples_leaf': 3} 0.9211086385588374\n",
      "{'max_depth': 24, 'max_features': 9, 'min_samples_split': 4, 'n_estimators': 725, 'min_samples_leaf': 1} 0.9269488091124188\n",
      "\n",
      " Top 3:\n",
      "{'max_depth': 22, 'max_features': 10, 'min_samples_split': 2, 'n_estimators': 1000, 'min_samples_leaf': 1} 0.9281052344898477\n",
      "{'max_depth': 25, 'max_features': 11, 'min_samples_split': 2, 'n_estimators': 900, 'min_samples_leaf': 1} 0.9280746809736604\n",
      "{'max_depth': 24, 'max_features': 11, 'min_samples_split': 2, 'n_estimators': 500, 'min_samples_leaf': 1} 0.9270222373511272\n",
      "\n",
      "{'max_depth': 27, 'max_features': 3, 'min_samples_split': 5, 'n_estimators': 900, 'min_samples_leaf': 5} 0.9120595701474592\n",
      "{'max_depth': 20, 'max_features': 11, 'min_samples_split': 5, 'n_estimators': 400, 'min_samples_leaf': 3} 0.9250729017301758\n",
      "{'max_depth': 8, 'max_features': 6, 'min_samples_split': 6, 'n_estimators': 575, 'min_samples_leaf': 3} 0.8827855648093019\n",
      "{'max_depth': 17, 'max_features': 10, 'min_samples_split': 2, 'n_estimators': 675, 'min_samples_leaf': 1} 0.9257415934833679\n",
      "{'max_depth': 26, 'max_features': 8, 'min_samples_split': 5, 'n_estimators': 625, 'min_samples_leaf': 5} 0.9214174201208489\n",
      "{'max_depth': 13, 'max_features': 7, 'min_samples_split': 4, 'n_estimators': 875, 'min_samples_leaf': 4} 0.9146422851617843\n",
      "{'max_depth': 26, 'max_features': 7, 'min_samples_split': 6, 'n_estimators': 350, 'min_samples_leaf': 3} 0.9236902305499504\n",
      "{'max_depth': 8, 'max_features': 12, 'min_samples_split': 9, 'n_estimators': 975, 'min_samples_leaf': 6} 0.8910235079109767\n",
      "{'max_depth': 7, 'max_features': 3, 'min_samples_split': 2, 'n_estimators': 225, 'min_samples_leaf': 1} 0.8493343143386409\n",
      "{'max_depth': 23, 'max_features': 2, 'min_samples_split': 4, 'n_estimators': 725, 'min_samples_leaf': 2} 0.91604457025555\n",
      "\n",
      " Top 3:\n",
      "{'max_depth': 22, 'max_features': 10, 'min_samples_split': 2, 'n_estimators': 1000, 'min_samples_leaf': 1} 0.9281052344898477\n",
      "{'max_depth': 25, 'max_features': 11, 'min_samples_split': 2, 'n_estimators': 900, 'min_samples_leaf': 1} 0.9280746809736604\n",
      "{'max_depth': 24, 'max_features': 11, 'min_samples_split': 2, 'n_estimators': 500, 'min_samples_leaf': 1} 0.9270222373511272\n",
      "\n",
      "{'max_depth': 6, 'max_features': 7, 'min_samples_split': 7, 'n_estimators': 550, 'min_samples_leaf': 4} 0.863617638952479\n",
      "{'max_depth': 17, 'max_features': 4, 'min_samples_split': 2, 'n_estimators': 675, 'min_samples_leaf': 2} 0.9187435773042054\n",
      "{'max_depth': 20, 'max_features': 5, 'min_samples_split': 7, 'n_estimators': 425, 'min_samples_leaf': 2} 0.9219472557860078\n",
      "{'max_depth': 18, 'max_features': 2, 'min_samples_split': 6, 'n_estimators': 900, 'min_samples_leaf': 5} 0.9033471603201505\n",
      "{'max_depth': 18, 'max_features': 7, 'min_samples_split': 3, 'n_estimators': 425, 'min_samples_leaf': 2} 0.9240039667147102\n",
      "{'max_depth': 12, 'max_features': 6, 'min_samples_split': 8, 'n_estimators': 475, 'min_samples_leaf': 1} 0.9091002922606728\n",
      "{'max_depth': 22, 'max_features': 3, 'min_samples_split': 9, 'n_estimators': 1000, 'min_samples_leaf': 9} 0.9051918551970598\n",
      "{'max_depth': 23, 'max_features': 7, 'min_samples_split': 7, 'n_estimators': 800, 'min_samples_leaf': 2} 0.9246447995158924\n",
      "{'max_depth': 24, 'max_features': 4, 'min_samples_split': 8, 'n_estimators': 625, 'min_samples_leaf': 8} 0.9105850831740032\n",
      "{'max_depth': 23, 'max_features': 5, 'min_samples_split': 6, 'n_estimators': 575, 'min_samples_leaf': 3} 0.9216588971987237\n",
      "\n",
      " Top 3:\n",
      "{'max_depth': 22, 'max_features': 10, 'min_samples_split': 2, 'n_estimators': 1000, 'min_samples_leaf': 1} 0.9281052344898477\n",
      "{'max_depth': 25, 'max_features': 11, 'min_samples_split': 2, 'n_estimators': 900, 'min_samples_leaf': 1} 0.9280746809736604\n",
      "{'max_depth': 24, 'max_features': 11, 'min_samples_split': 2, 'n_estimators': 500, 'min_samples_leaf': 1} 0.9270222373511272\n",
      "\n",
      "{'max_depth': 16, 'max_features': 2, 'min_samples_split': 7, 'n_estimators': 200, 'min_samples_leaf': 4} 0.9014398198996518\n",
      "{'max_depth': 15, 'max_features': 10, 'min_samples_split': 5, 'n_estimators': 125, 'min_samples_leaf': 2} 0.9201233639175037\n",
      "{'max_depth': 22, 'max_features': 9, 'min_samples_split': 6, 'n_estimators': 450, 'min_samples_leaf': 1} 0.9255474219452209\n",
      "{'max_depth': 27, 'max_features': 2, 'min_samples_split': 9, 'n_estimators': 1000, 'min_samples_leaf': 7} 0.9012313849002712\n",
      "{'max_depth': 8, 'max_features': 6, 'min_samples_split': 9, 'n_estimators': 300, 'min_samples_leaf': 7} 0.881941436026523\n",
      "{'max_depth': 10, 'max_features': 6, 'min_samples_split': 6, 'n_estimators': 200, 'min_samples_leaf': 5} 0.897570551435385\n",
      "{'max_depth': 10, 'max_features': 8, 'min_samples_split': 7, 'n_estimators': 775, 'min_samples_leaf': 3} 0.9034025549265055\n",
      "{'max_depth': 14, 'max_features': 2, 'min_samples_split': 8, 'n_estimators': 500, 'min_samples_leaf': 3} 0.8985503996027122\n",
      "{'max_depth': 8, 'max_features': 8, 'min_samples_split': 9, 'n_estimators': 375, 'min_samples_leaf': 1} 0.8865968447092782\n",
      "{'max_depth': 8, 'max_features': 5, 'min_samples_split': 7, 'n_estimators': 125, 'min_samples_leaf': 5} 0.8782170035834664\n",
      "\n",
      " Top 3:\n",
      "{'max_depth': 22, 'max_features': 10, 'min_samples_split': 2, 'n_estimators': 1000, 'min_samples_leaf': 1} 0.9281052344898477\n",
      "{'max_depth': 25, 'max_features': 11, 'min_samples_split': 2, 'n_estimators': 900, 'min_samples_leaf': 1} 0.9280746809736604\n",
      "{'max_depth': 24, 'max_features': 11, 'min_samples_split': 2, 'n_estimators': 500, 'min_samples_leaf': 1} 0.9270222373511272\n",
      "\n",
      "{'max_depth': 15, 'max_features': 12, 'min_samples_split': 9, 'n_estimators': 900, 'min_samples_leaf': 1} 0.9213668289433501\n",
      "{'max_depth': 22, 'max_features': 10, 'min_samples_split': 5, 'n_estimators': 625, 'min_samples_leaf': 4} 0.9233753420993243\n",
      "{'max_depth': 10, 'max_features': 9, 'min_samples_split': 6, 'n_estimators': 775, 'min_samples_leaf': 2} 0.9044264686769459\n",
      "{'max_depth': 10, 'max_features': 5, 'min_samples_split': 5, 'n_estimators': 800, 'min_samples_leaf': 2} 0.8969883320422627\n",
      "{'max_depth': 15, 'max_features': 7, 'min_samples_split': 7, 'n_estimators': 625, 'min_samples_leaf': 5} 0.9169936386690439\n",
      "{'max_depth': 28, 'max_features': 3, 'min_samples_split': 8, 'n_estimators': 650, 'min_samples_leaf': 2} 0.9184770290392896\n",
      "{'max_depth': 10, 'max_features': 3, 'min_samples_split': 4, 'n_estimators': 125, 'min_samples_leaf': 1} 0.8818630803415448\n",
      "{'max_depth': 25, 'max_features': 6, 'min_samples_split': 7, 'n_estimators': 450, 'min_samples_leaf': 3} 0.9226268435955685\n",
      "{'max_depth': 26, 'max_features': 9, 'min_samples_split': 7, 'n_estimators': 925, 'min_samples_leaf': 5} 0.9222373339692161\n",
      "{'max_depth': 10, 'max_features': 6, 'min_samples_split': 4, 'n_estimators': 775, 'min_samples_leaf': 2} 0.8998036772408182\n",
      "\n",
      " Top 3:\n",
      "{'max_depth': 22, 'max_features': 10, 'min_samples_split': 2, 'n_estimators': 1000, 'min_samples_leaf': 1} 0.9281052344898477\n",
      "{'max_depth': 25, 'max_features': 11, 'min_samples_split': 2, 'n_estimators': 900, 'min_samples_leaf': 1} 0.9280746809736604\n",
      "{'max_depth': 24, 'max_features': 11, 'min_samples_split': 2, 'n_estimators': 500, 'min_samples_leaf': 1} 0.9270222373511272\n",
      "\n",
      "{'max_depth': 13, 'max_features': 2, 'min_samples_split': 3, 'n_estimators': 575, 'min_samples_leaf': 2} 0.8972767744606529\n",
      "{'max_depth': 20, 'max_features': 6, 'min_samples_split': 7, 'n_estimators': 875, 'min_samples_leaf': 4} 0.9206358081910311\n",
      "{'max_depth': 17, 'max_features': 6, 'min_samples_split': 5, 'n_estimators': 575, 'min_samples_leaf': 1} 0.9225400931516325\n",
      "{'max_depth': 7, 'max_features': 6, 'min_samples_split': 8, 'n_estimators': 550, 'min_samples_leaf': 1} 0.8715393766346935\n",
      "{'max_depth': 19, 'max_features': 10, 'min_samples_split': 7, 'n_estimators': 775, 'min_samples_leaf': 5} 0.9221834237424467\n",
      "{'max_depth': 25, 'max_features': 9, 'min_samples_split': 2, 'n_estimators': 100, 'min_samples_leaf': 1} 0.9206591543388896\n",
      "{'max_depth': 6, 'max_features': 6, 'min_samples_split': 6, 'n_estimators': 1000, 'min_samples_leaf': 4} 0.8599885210412632\n",
      "{'max_depth': 13, 'max_features': 3, 'min_samples_split': 8, 'n_estimators': 875, 'min_samples_leaf': 1} 0.9042043590819817\n",
      "{'max_depth': 6, 'max_features': 4, 'min_samples_split': 6, 'n_estimators': 925, 'min_samples_leaf': 4} 0.8492390956880792\n",
      "{'max_depth': 22, 'max_features': 12, 'min_samples_split': 9, 'n_estimators': 825, 'min_samples_leaf': 2} 0.9246257956407724\n",
      "\n",
      " Top 3:\n",
      "{'max_depth': 22, 'max_features': 10, 'min_samples_split': 2, 'n_estimators': 1000, 'min_samples_leaf': 1} 0.9281052344898477\n",
      "{'max_depth': 25, 'max_features': 11, 'min_samples_split': 2, 'n_estimators': 900, 'min_samples_leaf': 1} 0.9280746809736604\n",
      "{'max_depth': 24, 'max_features': 11, 'min_samples_split': 2, 'n_estimators': 500, 'min_samples_leaf': 1} 0.9270222373511272\n",
      "\n",
      "{'max_depth': 10, 'max_features': 5, 'min_samples_split': 7, 'n_estimators': 600, 'min_samples_leaf': 1} 0.8964237401058235\n",
      "{'max_depth': 26, 'max_features': 9, 'min_samples_split': 4, 'n_estimators': 475, 'min_samples_leaf': 1} 0.9269570848837857\n",
      "{'max_depth': 7, 'max_features': 7, 'min_samples_split': 8, 'n_estimators': 600, 'min_samples_leaf': 8} 0.8753957910384347\n",
      "{'max_depth': 14, 'max_features': 4, 'min_samples_split': 2, 'n_estimators': 900, 'min_samples_leaf': 2} 0.9130505172713766\n",
      "{'max_depth': 14, 'max_features': 7, 'min_samples_split': 6, 'n_estimators': 350, 'min_samples_leaf': 1} 0.9176966366301229\n",
      "{'max_depth': 8, 'max_features': 2, 'min_samples_split': 2, 'n_estimators': 550, 'min_samples_leaf': 1} 0.8508387198372441\n",
      "{'max_depth': 24, 'max_features': 2, 'min_samples_split': 9, 'n_estimators': 850, 'min_samples_leaf': 2} 0.9139957481364747\n",
      "{'max_depth': 6, 'max_features': 6, 'min_samples_split': 2, 'n_estimators': 200, 'min_samples_leaf': 1} 0.8587562181663406\n",
      "{'max_depth': 8, 'max_features': 6, 'min_samples_split': 2, 'n_estimators': 300, 'min_samples_leaf': 1} 0.8817810792609355\n",
      "{'max_depth': 19, 'max_features': 4, 'min_samples_split': 2, 'n_estimators': 200, 'min_samples_leaf': 2} 0.9195364868567466\n",
      "\n",
      " Top 3:\n",
      "{'max_depth': 22, 'max_features': 10, 'min_samples_split': 2, 'n_estimators': 1000, 'min_samples_leaf': 1} 0.9281052344898477\n",
      "{'max_depth': 25, 'max_features': 11, 'min_samples_split': 2, 'n_estimators': 900, 'min_samples_leaf': 1} 0.9280746809736604\n",
      "{'max_depth': 24, 'max_features': 11, 'min_samples_split': 2, 'n_estimators': 500, 'min_samples_leaf': 1} 0.9270222373511272\n",
      "\n",
      "{'max_depth': 25, 'max_features': 8, 'min_samples_split': 5, 'n_estimators': 775, 'min_samples_leaf': 5} 0.9216469105266055\n",
      "{'max_depth': 21, 'max_features': 11, 'min_samples_split': 4, 'n_estimators': 875, 'min_samples_leaf': 2} 0.926844717042796\n",
      "{'max_depth': 12, 'max_features': 3, 'min_samples_split': 4, 'n_estimators': 300, 'min_samples_leaf': 1} 0.8985884356188766\n",
      "{'max_depth': 22, 'max_features': 8, 'min_samples_split': 8, 'n_estimators': 500, 'min_samples_leaf': 1} 0.9243643577892573\n",
      "{'max_depth': 20, 'max_features': 3, 'min_samples_split': 7, 'n_estimators': 275, 'min_samples_leaf': 4} 0.9129069991049541\n",
      "{'max_depth': 25, 'max_features': 3, 'min_samples_split': 3, 'n_estimators': 125, 'min_samples_leaf': 3} 0.913253271386621\n",
      "{'max_depth': 17, 'max_features': 12, 'min_samples_split': 7, 'n_estimators': 150, 'min_samples_leaf': 7} 0.918295735100927\n",
      "{'max_depth': 7, 'max_features': 4, 'min_samples_split': 8, 'n_estimators': 450, 'min_samples_leaf': 8} 0.8623358537067924\n",
      "{'max_depth': 13, 'max_features': 3, 'min_samples_split': 5, 'n_estimators': 750, 'min_samples_leaf': 5} 0.9008506667462598\n",
      "{'max_depth': 14, 'max_features': 8, 'min_samples_split': 7, 'n_estimators': 900, 'min_samples_leaf': 2} 0.9189897655748729\n",
      "\n",
      " Top 3:\n",
      "{'max_depth': 22, 'max_features': 10, 'min_samples_split': 2, 'n_estimators': 1000, 'min_samples_leaf': 1} 0.9281052344898477\n",
      "{'max_depth': 25, 'max_features': 11, 'min_samples_split': 2, 'n_estimators': 900, 'min_samples_leaf': 1} 0.9280746809736604\n",
      "{'max_depth': 24, 'max_features': 11, 'min_samples_split': 2, 'n_estimators': 500, 'min_samples_leaf': 1} 0.9270222373511272\n",
      "\n",
      "{'max_depth': 13, 'max_features': 10, 'min_samples_split': 2, 'n_estimators': 825, 'min_samples_leaf': 1} 0.9192364227675658\n",
      "{'max_depth': 14, 'max_features': 2, 'min_samples_split': 7, 'n_estimators': 975, 'min_samples_leaf': 6} 0.8938527575659796\n",
      "{'max_depth': 28, 'max_features': 9, 'min_samples_split': 9, 'n_estimators': 325, 'min_samples_leaf': 1} 0.9241759492936215\n",
      "{'max_depth': 6, 'max_features': 4, 'min_samples_split': 3, 'n_estimators': 700, 'min_samples_leaf': 2} 0.848870618679587\n",
      "{'max_depth': 20, 'max_features': 10, 'min_samples_split': 4, 'n_estimators': 775, 'min_samples_leaf': 4} 0.9236769080958812\n",
      "{'max_depth': 17, 'max_features': 2, 'min_samples_split': 4, 'n_estimators': 825, 'min_samples_leaf': 4} 0.9047930681466543\n",
      "{'max_depth': 24, 'max_features': 7, 'min_samples_split': 9, 'n_estimators': 700, 'min_samples_leaf': 5} 0.9200039744986356\n",
      "{'max_depth': 10, 'max_features': 9, 'min_samples_split': 4, 'n_estimators': 725, 'min_samples_leaf': 4} 0.9040842624059208\n",
      "{'max_depth': 19, 'max_features': 3, 'min_samples_split': 9, 'n_estimators': 725, 'min_samples_leaf': 3} 0.9146715584942523\n",
      "{'max_depth': 23, 'max_features': 9, 'min_samples_split': 7, 'n_estimators': 675, 'min_samples_leaf': 3} 0.9244602009774987\n",
      "\n",
      " Top 3:\n",
      "{'max_depth': 22, 'max_features': 10, 'min_samples_split': 2, 'n_estimators': 1000, 'min_samples_leaf': 1} 0.9281052344898477\n",
      "{'max_depth': 25, 'max_features': 11, 'min_samples_split': 2, 'n_estimators': 900, 'min_samples_leaf': 1} 0.9280746809736604\n",
      "{'max_depth': 24, 'max_features': 11, 'min_samples_split': 2, 'n_estimators': 500, 'min_samples_leaf': 1} 0.9270222373511272\n",
      "\n",
      "{'max_depth': 20, 'max_features': 10, 'min_samples_split': 9, 'n_estimators': 150, 'min_samples_leaf': 8} 0.916943573788528\n",
      "{'max_depth': 7, 'max_features': 12, 'min_samples_split': 5, 'n_estimators': 450, 'min_samples_leaf': 3} 0.881114388566937\n",
      "{'max_depth': 15, 'max_features': 10, 'min_samples_split': 9, 'n_estimators': 975, 'min_samples_leaf': 9} 0.9160782322413527\n",
      "{'max_depth': 16, 'max_features': 4, 'min_samples_split': 5, 'n_estimators': 175, 'min_samples_leaf': 3} 0.9136526598868567\n",
      "{'max_depth': 19, 'max_features': 6, 'min_samples_split': 6, 'n_estimators': 750, 'min_samples_leaf': 2} 0.9231393584673093\n",
      "{'max_depth': 11, 'max_features': 3, 'min_samples_split': 2, 'n_estimators': 625, 'min_samples_leaf': 2} 0.8939816472947463\n",
      "{'max_depth': 9, 'max_features': 4, 'min_samples_split': 6, 'n_estimators': 900, 'min_samples_leaf': 1} 0.8843408520218535\n",
      "{'max_depth': 18, 'max_features': 5, 'min_samples_split': 8, 'n_estimators': 525, 'min_samples_leaf': 4} 0.9182768074706054\n",
      "{'max_depth': 13, 'max_features': 11, 'min_samples_split': 2, 'n_estimators': 200, 'min_samples_leaf': 2} 0.9180240953211019\n",
      "{'max_depth': 17, 'max_features': 8, 'min_samples_split': 3, 'n_estimators': 700, 'min_samples_leaf': 3} 0.9228372826202929\n",
      "\n",
      " Top 3:\n",
      "{'max_depth': 22, 'max_features': 10, 'min_samples_split': 2, 'n_estimators': 1000, 'min_samples_leaf': 1} 0.9281052344898477\n",
      "{'max_depth': 25, 'max_features': 11, 'min_samples_split': 2, 'n_estimators': 900, 'min_samples_leaf': 1} 0.9280746809736604\n",
      "{'max_depth': 24, 'max_features': 11, 'min_samples_split': 2, 'n_estimators': 500, 'min_samples_leaf': 1} 0.9270222373511272\n",
      "\n",
      "{'max_depth': 28, 'max_features': 7, 'min_samples_split': 2, 'n_estimators': 100, 'min_samples_leaf': 2} 0.9214473650742276\n",
      "{'max_depth': 13, 'max_features': 11, 'min_samples_split': 4, 'n_estimators': 800, 'min_samples_leaf': 3} 0.9186150783176569\n",
      "{'max_depth': 9, 'max_features': 2, 'min_samples_split': 9, 'n_estimators': 425, 'min_samples_leaf': 1} 0.8638485109623415\n",
      "{'max_depth': 6, 'max_features': 6, 'min_samples_split': 9, 'n_estimators': 225, 'min_samples_leaf': 3} 0.8580902281010943\n",
      "{'max_depth': 26, 'max_features': 4, 'min_samples_split': 9, 'n_estimators': 675, 'min_samples_leaf': 6} 0.9134429161006311\n",
      "{'max_depth': 15, 'max_features': 9, 'min_samples_split': 2, 'n_estimators': 900, 'min_samples_leaf': 1} 0.922827827217579\n",
      "{'max_depth': 27, 'max_features': 3, 'min_samples_split': 6, 'n_estimators': 675, 'min_samples_leaf': 3} 0.9171534786077921\n",
      "{'max_depth': 7, 'max_features': 12, 'min_samples_split': 4, 'n_estimators': 950, 'min_samples_leaf': 3} 0.8813163507568488\n",
      "{'max_depth': 19, 'max_features': 7, 'min_samples_split': 6, 'n_estimators': 675, 'min_samples_leaf': 2} 0.9241584141661272\n",
      "{'max_depth': 12, 'max_features': 9, 'min_samples_split': 6, 'n_estimators': 125, 'min_samples_leaf': 6} 0.9103257205184713\n",
      "\n",
      " Top 3:\n",
      "{'max_depth': 22, 'max_features': 10, 'min_samples_split': 2, 'n_estimators': 1000, 'min_samples_leaf': 1} 0.9281052344898477\n",
      "{'max_depth': 25, 'max_features': 11, 'min_samples_split': 2, 'n_estimators': 900, 'min_samples_leaf': 1} 0.9280746809736604\n",
      "{'max_depth': 24, 'max_features': 11, 'min_samples_split': 2, 'n_estimators': 500, 'min_samples_leaf': 1} 0.9270222373511272\n",
      "\n",
      "{'max_depth': 20, 'max_features': 10, 'min_samples_split': 2, 'n_estimators': 450, 'min_samples_leaf': 2} 0.9256707532334729\n",
      "{'max_depth': 18, 'max_features': 4, 'min_samples_split': 3, 'n_estimators': 250, 'min_samples_leaf': 3} 0.9162415033282348\n",
      "{'max_depth': 13, 'max_features': 12, 'min_samples_split': 2, 'n_estimators': 850, 'min_samples_leaf': 1} 0.9198052864671512\n",
      "{'max_depth': 23, 'max_features': 8, 'min_samples_split': 9, 'n_estimators': 725, 'min_samples_leaf': 6} 0.9199453149047161\n",
      "{'max_depth': 6, 'max_features': 8, 'min_samples_split': 6, 'n_estimators': 900, 'min_samples_leaf': 6} 0.8652844484408764\n",
      "{'max_depth': 26, 'max_features': 3, 'min_samples_split': 6, 'n_estimators': 725, 'min_samples_leaf': 4} 0.9143945646522855\n"
     ]
    }
   ],
   "source": [
    "# Trying to find the best hyperparameters using Random Search\n",
    "results = []\n",
    "for k in range(1000):\n",
    "\n",
    "    params = {\n",
    "        \"max_depth\": random.randint(6, 28),\n",
    "        \"max_features\": random.randint(2, 12),\n",
    "        \"min_samples_split\": random.randint(2, 9),\n",
    "        \"n_estimators\": random.choice(range(100, 1001, 25))\n",
    "    }\n",
    "    # The value of min_samples_leaf must be less than min_samples_split\n",
    "    params[\"min_samples_leaf\"] = random.randint(1, params[\"min_samples_split\"])\n",
    "\n",
    "    # Model estimation for drawn hyperparameters\n",
    "    trainResults, testResults, predictions, indexes, _ = cv_random_forest(preproc_train_df, target, features,\n",
    "                                                                          debug=False, mlflow_tracking=True,\n",
    "                                                                          exp_name='Experiment_2_RF_Random_Search',\n",
    "                                                                          n_estimators=params[\"n_estimators\"],\n",
    "                                                                          max_depth=params[\"max_depth\"],\n",
    "                                                                          max_features=params[\"max_features\"],\n",
    "                                                                          min_samples_split=params[\"min_samples_split\"],\n",
    "                                                                          min_samples_leaf=params[\"min_samples_leaf\"])\n",
    "\n",
    "    # Saving results\n",
    "    results.append((np.mean(testResults), params.copy()))\n",
    "\n",
    "    # Display results of current iteration\n",
    "    print(params, np.mean(testResults))\n",
    "\n",
    "    # Every 10 iterations display top 3 results from all iterations\n",
    "    if k>1 and k%10==0:\n",
    "        print(\"\\n Top 3:\")\n",
    "        for score, params in sorted(results, key=lambda x: x[0], reverse=True)[0:3]:\n",
    "            print(params, score)\n",
    "        print()"
   ],
   "metadata": {
    "collapsed": false
   }
  },
  {
   "cell_type": "markdown",
   "source": [
    "### Making final prediction"
   ],
   "metadata": {
    "collapsed": false
   }
  },
  {
   "cell_type": "markdown",
   "source": [
    "Let's make a prediction with the parameters found by Random Search and with data, that was preprocessed using One Hot Encoding method."
   ],
   "metadata": {
    "collapsed": false
   }
  },
  {
   "cell_type": "code",
   "execution_count": 16,
   "outputs": [],
   "source": [
    "df_train = pd.read_csv('input/cybersecurity_training.csv', sep='|', index_col=0)\n",
    "df_test = pd.read_csv('input/cybersecurity_test.csv', sep='|', index_col=0)\n",
    "\n",
    "# Set number of main categories in each categorical variable.\n",
    "categorical_features = [\n",
    "    (\"categoryname\", 7),\n",
    "    (\"ipcategory_name\", 5),\n",
    "    (\"ipcategory_scope\", 2),\n",
    "    (\"dstipcategory_dominate\", 4),\n",
    "    (\"srcipcategory_dominate\", 4)\n",
    "]\n",
    "\n",
    "numeric_categorical_features = [\n",
    "    (\"parent_category\", 2),\n",
    "    (\"overallseverity\", 3),\n",
    "    (\"alerttype_cd\", 3),\n",
    "    (\"direction_cd\", 2),\n",
    "    (\"eventname_cd\", 4),\n",
    "    (\"severity_cd\", 3),\n",
    "    (\"devicetype_cd\", 2),\n",
    "    (\"devicevendor_cd\", 2),\n",
    "    (\"srcipcategory_cd\", 3),\n",
    "    (\"dstipcategory_cd\", 2),\n",
    "    (\"trustscore\", 2),\n",
    "    (\"dstportcategory_dominate\", 3),\n",
    "    (\"username_cd\", 8),\n",
    "    (\"protocol_cd\", 4),\n",
    "    (\"reportingdevice_cd\", 5),\n",
    "    (\"dstport_cd\", 5),\n",
    "    (\"srcport_cd\", 10),\n",
    "    (\"dstip_cd\", 6),\n",
    "    (\"srcip_cd\", 10),\n",
    "    (\"p6\", 3),\n",
    "    (\"p9\", 1),\n",
    "    (\"p5m\", 3),\n",
    "    (\"p5w\", 2),\n",
    "    (\"p5d\", 2),\n",
    "    (\"p8w\", 2),\n",
    "    (\"p8m\", 3),\n",
    "    (\"p8d\", 2)\n",
    "]\n",
    "# Select numeric continue feature for normalisation.\n",
    "numeric_continue_features = [\"thrcnt_month\", \"thrcnt_week\", \"thrcnt_day\", \"timestamp_dist\", \"correlatedcount\"]\n",
    "# Black list with variables, that won't be used for making predictions\n",
    "feature_black_list = ['grandparent_category']\n",
    "need_to_preproc = \"ip\"\n",
    "# Manually selected variable for One Hot Encoding\n",
    "one_hot_encoding = [\"weekday\"]\n",
    "# Dictionary with types of variables and variables, tha will be used for data preprocessing.\n",
    "features_for_preprocessing = {\n",
    "    \"categorical_features\": categorical_features,\n",
    "    \"numeric_categorical_features\": numeric_categorical_features,\n",
    "    # \"numeric_continue_features\": numeric_continue_features,\n",
    "    \"feature_black_list\": feature_black_list,\n",
    "    # \"one_hot_encoding\": one_hot_encoding\n",
    "}\n",
    "\n",
    "# Select target variable\n",
    "target = 'notified'\n"
   ],
   "metadata": {
    "collapsed": false
   }
  },
  {
   "cell_type": "code",
   "execution_count": 5,
   "outputs": [
    {
     "name": "stdout",
     "output_type": "stream",
     "text": [
      "RandomForestClassifier(max_depth=27, max_features=10, n_estimators=925,\n",
      "                       n_jobs=-1, random_state=2022)\n",
      "Train AUC: 1.0 Valid AUC: 0.919917748783312\n",
      "RandomForestClassifier(max_depth=27, max_features=10, n_estimators=925,\n",
      "                       n_jobs=-1, random_state=2022)\n",
      "Train AUC: 1.0 Valid AUC: 0.9297124034851597\n",
      "RandomForestClassifier(max_depth=27, max_features=10, n_estimators=925,\n",
      "                       n_jobs=-1, random_state=2022)\n",
      "Train AUC: 1.0 Valid AUC: 0.9295666513836097\n",
      "RandomForestClassifier(max_depth=27, max_features=10, n_estimators=925,\n",
      "                       n_jobs=-1, random_state=2022)\n",
      "Train AUC: 1.0 Valid AUC: 0.9259944093591469\n",
      "RandomForestClassifier(max_depth=27, max_features=10, n_estimators=925,\n",
      "                       n_jobs=-1, random_state=2022)\n",
      "Train AUC: 1.0 Valid AUC: 0.9268686495200628\n",
      "Train mean: 1.00, Test mean: 0.9264, Diff: 0.074\n"
     ]
    }
   ],
   "source": [
    "# Data preprocessing\n",
    "preproc_train_df, preproc_test_df, features, _ =  preprocessing_data(df_train, df_test, target, features_for_preprocessing, True, 10)\n",
    "# Final model with hyperparameters that were found by Random Search.\n",
    "trainResults, testResults, predictions, indexes, models = cv_random_forest(preproc_train_df, target, features, debug=True, mlflow_tracking=True, exp_name='exp_4_feature_eng', n_estimators=925, max_depth=27, max_features=10, min_samples_split=2, min_samples_leaf = 1)\n",
    "print(f'Train mean: {np.mean(trainResults):.2f}, Test mean: {np.mean(testResults):.4f}, Diff: {(np.mean(trainResults) - np.mean(testResults)):.3f}')"
   ],
   "metadata": {
    "collapsed": false
   }
  },
  {
   "cell_type": "markdown",
   "source": [
    "Making prediction with the parameters found by Random Search and with data, that was preprocessed without using One Hot Encoding method."
   ],
   "metadata": {
    "collapsed": false
   }
  },
  {
   "cell_type": "code",
   "execution_count": 18,
   "outputs": [
    {
     "name": "stdout",
     "output_type": "stream",
     "text": [
      "RandomForestClassifier(max_depth=27, max_features=10, n_estimators=925,\n",
      "                       n_jobs=-1, random_state=2022)\n",
      "Train AUC: 1.0 Valid AUC: 0.9229769557585464\n",
      "RandomForestClassifier(max_depth=27, max_features=10, n_estimators=925,\n",
      "                       n_jobs=-1, random_state=2022)\n",
      "Train AUC: 1.0 Valid AUC: 0.9328481027602654\n",
      "RandomForestClassifier(max_depth=27, max_features=10, n_estimators=925,\n",
      "                       n_jobs=-1, random_state=2022)\n",
      "Train AUC: 1.0 Valid AUC: 0.9314633280582137\n",
      "RandomForestClassifier(max_depth=27, max_features=10, n_estimators=925,\n",
      "                       n_jobs=-1, random_state=2022)\n",
      "Train AUC: 1.0 Valid AUC: 0.926230754440714\n",
      "RandomForestClassifier(max_depth=27, max_features=10, n_estimators=925,\n",
      "                       n_jobs=-1, random_state=2022)\n",
      "Train AUC: 1.0 Valid AUC: 0.9279431470279383\n",
      "Train mean: 1.00, Test mean: 0.9283, Diff: 0.072\n"
     ]
    }
   ],
   "source": [
    "# Data preprocessing\n",
    "preproc_train_df, preproc_test_df, features, _ =  preprocessing_data(df_train, df_test, target, features_for_preprocessing)\n",
    "# Final model with hyperparameters that were found by Random Search.\n",
    "trainResults, testResults, predictions, indexes, models = cv_random_forest(preproc_train_df, target, features, debug=True, mlflow_tracking=True, exp_name='exp_4_feature_eng', n_estimators=925, max_depth=27, max_features=10, min_samples_split=2, min_samples_leaf = 1)\n",
    "print(f'Train mean: {np.mean(trainResults):.2f}, Test mean: {np.mean(testResults):.4f}, Diff: {(np.mean(trainResults) - np.mean(testResults)):.3f}')"
   ],
   "metadata": {
    "collapsed": false
   }
  },
  {
   "cell_type": "code",
   "execution_count": 45,
   "outputs": [],
   "source": [
    "# Saving results\n",
    "modelRF= {\n",
    "    \"name\":\"RF-3_RS\",\n",
    "    \"description\":\"Model Random Forest\",\n",
    "    \"specification\":'n_estimators=925, max_depth=27, max_features=10, min_samples_split=2',\n",
    "    \"trainResults\":trainResults.copy(),\n",
    "    \"testResults\":testResults.copy(),\n",
    "    \"predictions\":predictions.copy(),\n",
    "    \"indices\":indexes.copy(),\n",
    "    \"features\": features.copy()\n",
    "}\n",
    "save_model_and_results('model_RF_3', modelRF)"
   ],
   "metadata": {
    "collapsed": false
   }
  },
  {
   "cell_type": "markdown",
   "source": [
    "## Making prediction for competition"
   ],
   "metadata": {
    "collapsed": false
   }
  },
  {
   "cell_type": "code",
   "execution_count": 13,
   "outputs": [],
   "source": [
    "# Now we can choose the best model in mlflow and make final prediction to get results of target variable\n",
    "params = {\n",
    "    'n_estimators': 925,\n",
    "    'max_depth': 27,\n",
    "    'max_features': 10,\n",
    "    'min_samples_split':2,\n",
    "    'min_samples_leaf':1,\n",
    "}\n",
    "preds = make_prediction_rf(preproc_train_df, preproc_test_df, features, target, 'results_3_rf', 2022, True, **params)"
   ],
   "metadata": {
    "collapsed": false
   }
  },
  {
   "cell_type": "markdown",
   "source": [
    "## Comparing the results of different predictive models"
   ],
   "metadata": {
    "collapsed": false
   }
  },
  {
   "cell_type": "code",
   "execution_count": 6,
   "outputs": [],
   "source": [
    "with open(\"output/models/model_RF_1.p\", \"rb\") as fp:\n",
    "    model_RF_1 = pickle.load(fp)\n",
    "\n",
    "with open(\"output/models/model_RF_2.p\", \"rb\") as fp:\n",
    "    model_RF_2 = pickle.load(fp)\n",
    "\n",
    "with open(\"output/models/model_RF_3.p\", \"rb\") as fp:\n",
    "    model_RF_3 = pickle.load(fp)"
   ],
   "metadata": {
    "collapsed": false
   }
  },
  {
   "cell_type": "code",
   "execution_count": 9,
   "outputs": [
    {
     "data": {
      "text/plain": "<Figure size 720x648 with 1 Axes>",
      "image/png": "[encoded data removed]"
     },
     "metadata": {
      "needs_background": "light"
     },
     "output_type": "display_data"
    },
    {
     "data": {
      "text/plain": "AAB    0.003421\nAAC    0.000000\nAAE    0.214708\nAAL    0.000000\nAAP    0.056364\n         ...   \nzze    0.419730\nzzl    0.036951\nzzr    0.098378\nzzs    0.000000\nzzz    0.000000\nLength: 39427, dtype: float64"
     },
     "execution_count": 9,
     "metadata": {},
     "output_type": "execute_result"
    }
   ],
   "source": [
    "# Prepare data for the AUC-ROC curve\n",
    "res2plot = []\n",
    "true = preproc_train_df[target].sort_index()\n",
    "for result in [model_RF_1, model_RF_2, model_RF_3]:\n",
    "    pred = pd.Series(sum(result[\"predictions\"], []), index=sum(result[\"indices\"], [])).sort_index()\n",
    "    res2plot.append((true, pred, result[\"name\"]))\n",
    "\n",
    "# Plot AUC-ROC curves\n",
    "plot_roc_auc(res2plot)"
   ],
   "metadata": {
    "collapsed": false
   }
  },
  {
   "cell_type": "code",
   "execution_count": null,
   "outputs": [],
   "source": [],
   "metadata": {
    "collapsed": false
   }
  },
  {
   "cell_type": "code",
   "execution_count": null,
   "outputs": [],
   "source": [],
   "metadata": {
    "collapsed": false
   }
  }
 ],
 "metadata": {
  "kernelspec": {
   "display_name": "Python 3.10.4 64-bit",
   "language": "python",
   "name": "python3"
  },
  "language_info": {
   "codemirror_mode": {
    "name": "ipython",
    "version": 2
   },
   "file_extension": ".py",
   "mimetype": "text/x-python",
   "name": "python",
   "nbconvert_exporter": "python",
   "pygments_lexer": "ipython2",
   "version": "3.10.4"
  },
  "vscode": {
   "interpreter": {
    "hash": "916dbcbb3f70747c44a77c7bcd40155683ae19c65e1c03b4aa3499c5328201f1"
   }
  }
 },
 "nbformat": 4,
 "nbformat_minor": 0
}
