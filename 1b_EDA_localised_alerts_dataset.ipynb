{
 "cells": [
  {
   "cell_type": "code",
   "execution_count": 3,
   "metadata": {
    "collapsed": true
   },
   "outputs": [],
   "source": [
    "import matplotlib.pyplot as plt\n",
    "import pandas as pd\n",
    "import numpy as np\n",
    "import seaborn as sns\n",
    "import warnings\n",
    "\n",
    "from pandas_profiling import ProfileReport\n",
    "\n",
    "warnings.filterwarnings(\"ignore\", category=UserWarning)"
   ]
  },
  {
   "cell_type": "markdown",
   "source": [
    "# Explanatory Data Analysis"
   ],
   "metadata": {
    "collapsed": false
   }
  },
  {
   "cell_type": "code",
   "execution_count": 4,
   "outputs": [
    {
     "name": "stderr",
     "output_type": "stream",
     "text": [
      "/tmp/ipykernel_71084/4294007339.py:1: DtypeWarning: Columns (18) have mixed types. Specify dtype option on import or set low_memory=False.\n",
      "  df = pd.read_csv('input/localized_alerts_data.csv', sep='|')\n"
     ]
    },
    {
     "data": {
      "text/plain": "  alert_ids              alerttype devicetype reportingdevice_code  \\\n0       AAB  NAC: Asset Visibility        NAC                  Wji   \n1       AAC   ThreatWatch Outbound         FW                  GFv   \n2       AAE   ThreatWatch Outbound         FW                  tMU   \n3       AAL   ThreatWatch Outbound         FW                  xQn   \n4       AAL    ThreatWatch Inbound         FW                  xQn   \n\n  devicevendor_code         srcip          dstip srcipcategory dstipcategory  \\\n0                QO  10.NF.KO.199            NaN       PRIV-10      INTERNET   \n1                JS  192.SL.XK.61    YT.LB.32.21      PRIV-192      INTERNET   \n2                SX  10.CN.AE.137    EB.QD.27.77       PRIV-10      INTERNET   \n3                SX  172.AT.TL.37    YT.LB.34.21      PRIV-172      INTERNET   \n4                SX   YT.LB.34.21  YT.EK.108.146      INTERNET      INTERNET   \n\n   srcport  ...  srcportcategory  dstportcategory  direction  alerttime  \\\n0      0.0  ...                1                1          5          0   \n1  63723.0  ...                4                2          3          0   \n2  59806.0  ...                4                3          3          0   \n3  63496.0  ...                4                2          3          0   \n4    443.0  ...                2                4          2       1311   \n\n   severity  count  domain  protocol username  signature  \n0         1      1       0       NaN        1          1  \n1         5     19       0       NaN        1          1  \n2         3     10       0       NaN        0          1  \n3         5      1       0       NaN        0          1  \n4         5      1       0       NaN        0          1  \n\n[5 rows x 21 columns]",
      "text/html": "<div>\n<style scoped>\n    .dataframe tbody tr th:only-of-type {\n        vertical-align: middle;\n    }\n\n    .dataframe tbody tr th {\n        vertical-align: top;\n    }\n\n    .dataframe thead th {\n        text-align: right;\n    }\n</style>\n<table border=\"1\" class=\"dataframe\">\n  <thead>\n    <tr style=\"text-align: right;\">\n      <th></th>\n      <th>alert_ids</th>\n      <th>alerttype</th>\n      <th>devicetype</th>\n      <th>reportingdevice_code</th>\n      <th>devicevendor_code</th>\n      <th>srcip</th>\n      <th>dstip</th>\n      <th>srcipcategory</th>\n      <th>dstipcategory</th>\n      <th>srcport</th>\n      <th>...</th>\n      <th>srcportcategory</th>\n      <th>dstportcategory</th>\n      <th>direction</th>\n      <th>alerttime</th>\n      <th>severity</th>\n      <th>count</th>\n      <th>domain</th>\n      <th>protocol</th>\n      <th>username</th>\n      <th>signature</th>\n    </tr>\n  </thead>\n  <tbody>\n    <tr>\n      <th>0</th>\n      <td>AAB</td>\n      <td>NAC: Asset Visibility</td>\n      <td>NAC</td>\n      <td>Wji</td>\n      <td>QO</td>\n      <td>10.NF.KO.199</td>\n      <td>NaN</td>\n      <td>PRIV-10</td>\n      <td>INTERNET</td>\n      <td>0.0</td>\n      <td>...</td>\n      <td>1</td>\n      <td>1</td>\n      <td>5</td>\n      <td>0</td>\n      <td>1</td>\n      <td>1</td>\n      <td>0</td>\n      <td>NaN</td>\n      <td>1</td>\n      <td>1</td>\n    </tr>\n    <tr>\n      <th>1</th>\n      <td>AAC</td>\n      <td>ThreatWatch Outbound</td>\n      <td>FW</td>\n      <td>GFv</td>\n      <td>JS</td>\n      <td>192.SL.XK.61</td>\n      <td>YT.LB.32.21</td>\n      <td>PRIV-192</td>\n      <td>INTERNET</td>\n      <td>63723.0</td>\n      <td>...</td>\n      <td>4</td>\n      <td>2</td>\n      <td>3</td>\n      <td>0</td>\n      <td>5</td>\n      <td>19</td>\n      <td>0</td>\n      <td>NaN</td>\n      <td>1</td>\n      <td>1</td>\n    </tr>\n    <tr>\n      <th>2</th>\n      <td>AAE</td>\n      <td>ThreatWatch Outbound</td>\n      <td>FW</td>\n      <td>tMU</td>\n      <td>SX</td>\n      <td>10.CN.AE.137</td>\n      <td>EB.QD.27.77</td>\n      <td>PRIV-10</td>\n      <td>INTERNET</td>\n      <td>59806.0</td>\n      <td>...</td>\n      <td>4</td>\n      <td>3</td>\n      <td>3</td>\n      <td>0</td>\n      <td>3</td>\n      <td>10</td>\n      <td>0</td>\n      <td>NaN</td>\n      <td>0</td>\n      <td>1</td>\n    </tr>\n    <tr>\n      <th>3</th>\n      <td>AAL</td>\n      <td>ThreatWatch Outbound</td>\n      <td>FW</td>\n      <td>xQn</td>\n      <td>SX</td>\n      <td>172.AT.TL.37</td>\n      <td>YT.LB.34.21</td>\n      <td>PRIV-172</td>\n      <td>INTERNET</td>\n      <td>63496.0</td>\n      <td>...</td>\n      <td>4</td>\n      <td>2</td>\n      <td>3</td>\n      <td>0</td>\n      <td>5</td>\n      <td>1</td>\n      <td>0</td>\n      <td>NaN</td>\n      <td>0</td>\n      <td>1</td>\n    </tr>\n    <tr>\n      <th>4</th>\n      <td>AAL</td>\n      <td>ThreatWatch Inbound</td>\n      <td>FW</td>\n      <td>xQn</td>\n      <td>SX</td>\n      <td>YT.LB.34.21</td>\n      <td>YT.EK.108.146</td>\n      <td>INTERNET</td>\n      <td>INTERNET</td>\n      <td>443.0</td>\n      <td>...</td>\n      <td>2</td>\n      <td>4</td>\n      <td>2</td>\n      <td>1311</td>\n      <td>5</td>\n      <td>1</td>\n      <td>0</td>\n      <td>NaN</td>\n      <td>0</td>\n      <td>1</td>\n    </tr>\n  </tbody>\n</table>\n<p>5 rows × 21 columns</p>\n</div>"
     },
     "execution_count": 4,
     "metadata": {},
     "output_type": "execute_result"
    }
   ],
   "source": [
    "df = pd.read_csv('input/localized_alerts_data.csv', sep='|')\n",
    "df.head()"
   ],
   "metadata": {
    "collapsed": false
   }
  },
  {
   "cell_type": "code",
   "execution_count": 27,
   "outputs": [
    {
     "data": {
      "text/plain": "alert_ids\nAAB      1\nAAC      1\nAAE      1\nAAL      3\nAAN      6\n      ... \nzzs    138\nzzt      1\nzzu     25\nzzx      2\nzzz      1\nLength: 59427, dtype: int64"
     },
     "execution_count": 27,
     "metadata": {},
     "output_type": "execute_result"
    }
   ],
   "source": [
    "alert_ids_group = df.groupby([\"alert_ids\"])\n",
    "alert_ids_group.size()"
   ],
   "metadata": {
    "collapsed": false
   }
  },
  {
   "cell_type": "code",
   "execution_count": 23,
   "outputs": [],
   "source": [
    "features = df.columns.tolist()"
   ],
   "metadata": {
    "collapsed": false
   }
  },
  {
   "cell_type": "code",
   "execution_count": 25,
   "outputs": [
    {
     "name": "stdout",
     "output_type": "stream",
     "text": [
      "AAk    109\n",
      "Name: alert_ids, dtype: int64\n",
      "Suspicious Port Activity    109\n",
      "Name: alerttype, dtype: int64\n",
      "FW    109\n",
      "Name: devicetype, dtype: int64\n",
      "rQE    109\n",
      "Name: reportingdevice_code, dtype: int64\n",
      "SX    109\n",
      "Name: devicevendor_code, dtype: int64\n",
      "172.KM.QP.85    109\n",
      "Name: srcip, dtype: int64\n",
      "WA.HQ.152.130    51\n",
      "KB.YH.59.73      50\n",
      "LE.OX.115.120     5\n",
      "WA.AN.12.180      3\n",
      "Name: dstip, dtype: int64\n",
      "PRIV-172    109\n",
      "Name: srcipcategory, dtype: int64\n",
      "INTERNET    109\n",
      "Name: dstipcategory, dtype: int64\n",
      "56973.0    2\n",
      "60334.0    1\n",
      "59313.0    1\n",
      "49965.0    1\n",
      "63307.0    1\n",
      "          ..\n",
      "52479.0    1\n",
      "52482.0    1\n",
      "52491.0    1\n",
      "52127.0    1\n",
      "62202.0    1\n",
      "Name: srcport, Length: 108, dtype: int64\n",
      "21.0    55\n",
      "22.0    54\n",
      "Name: dstport, dtype: int64\n",
      "4    109\n",
      "Name: srcportcategory, dtype: int64\n",
      "2    109\n",
      "Name: dstportcategory, dtype: int64\n",
      "3    109\n",
      "Name: direction, dtype: int64\n",
      "0        1\n",
      "18572    1\n",
      "42921    1\n",
      "42760    1\n",
      "42508    1\n",
      "        ..\n",
      "13842    1\n",
      "13809    1\n",
      "13803    1\n",
      "13802    1\n",
      "93611    1\n",
      "Name: alerttime, Length: 109, dtype: int64\n",
      "1    109\n",
      "Name: severity, dtype: int64\n",
      "1      46\n",
      "2      11\n",
      "4       8\n",
      "3       7\n",
      "5       5\n",
      "8       3\n",
      "7       2\n",
      "9       2\n",
      "6       2\n",
      "14      2\n",
      "34      2\n",
      "40      1\n",
      "204     1\n",
      "38      1\n",
      "355     1\n",
      "384     1\n",
      "50      1\n",
      "41      1\n",
      "419     1\n",
      "382     1\n",
      "389     1\n",
      "272     1\n",
      "314     1\n",
      "16      1\n",
      "21      1\n",
      "10      1\n",
      "261     1\n",
      "29      1\n",
      "11      1\n",
      "253     1\n",
      "Name: count, dtype: int64\n",
      "0    109\n",
      "Name: domain, dtype: int64\n",
      "Series([], Name: protocol, dtype: int64)\n",
      "0    109\n",
      "Name: username, dtype: int64\n",
      "1    109\n",
      "Name: signature, dtype: int64\n"
     ]
    }
   ],
   "source": [
    "for i in features:\n",
    "    print(alert_ids_group.get_group('AAk')[i].value_counts())"
   ],
   "metadata": {
    "collapsed": false
   }
  },
  {
   "cell_type": "code",
   "execution_count": null,
   "outputs": [],
   "source": [],
   "metadata": {
    "collapsed": false
   }
  }
 ],
 "metadata": {
  "kernelspec": {
   "display_name": "Python 3",
   "language": "python",
   "name": "python3"
  },
  "language_info": {
   "codemirror_mode": {
    "name": "ipython",
    "version": 2
   },
   "file_extension": ".py",
   "mimetype": "text/x-python",
   "name": "python",
   "nbconvert_exporter": "python",
   "pygments_lexer": "ipython2",
   "version": "2.7.6"
  }
 },
 "nbformat": 4,
 "nbformat_minor": 0
}
