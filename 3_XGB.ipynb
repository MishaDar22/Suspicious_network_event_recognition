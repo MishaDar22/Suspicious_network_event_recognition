{
 "cells": [
  {
   "cell_type": "code",
   "execution_count": null,
   "metadata": {
    "collapsed": true,
    "pycharm": {
     "name": "#%%\n",
     "is_executing": true
    }
   },
   "outputs": [],
   "source": [
    "import pandas as pd\n",
    "import numpy as np\n",
    "import xgboost as xgb\n",
    "import pickle\n",
    "import matplotlib.pyplot as plt\n",
    "import warnings\n",
    "\n",
    "from data_preparation_tools import preprocessing_data\n",
    "from cv_wrappers_and_tools import cv_xgb, plot_roc_auc, make_prediction_xgb, save_model_and_results\n",
    "\n",
    "warnings.filterwarnings(\"ignore\", category=UserWarning)\n",
    "xgb.set_config(verbosity = 0)"
   ]
  },
  {
   "cell_type": "markdown",
   "source": [
    "# XGBoost"
   ],
   "metadata": {
    "collapsed": false,
    "pycharm": {
     "name": "#%% md\n"
    }
   }
  },
  {
   "cell_type": "markdown",
   "source": [
    "## Grid search"
   ],
   "metadata": {
    "collapsed": false,
    "pycharm": {
     "name": "#%% md\n"
    }
   }
  },
  {
   "cell_type": "code",
   "execution_count": null,
   "outputs": [],
   "source": [
    "df_train = pd.read_csv('input/cybersecurity_training.csv', sep='|', index_col=0)\n",
    "df_test = pd.read_csv('input/cybersecurity_test.csv', sep='|', index_col=0)\n",
    "print(df_train.shape)\n",
    "print(df_test.shape)"
   ],
   "metadata": {
    "collapsed": false,
    "pycharm": {
     "name": "#%%\n",
     "is_executing": true
    }
   }
  },
  {
   "cell_type": "code",
   "execution_count": null,
   "outputs": [],
   "source": [
    "# Select features, that won't be used to create predictive models\n",
    "feature_black_list = ['grandparent_category', 'n1', 'n2', 'n3', 'n4', 'n5', 'n6', 'n7', 'n8', 'n9', 'n10', 'score']\n",
    "\n",
    "# Select target variable\n",
    "target = 'notified'\n",
    "# Prepare  training and test datasets for modeling\n",
    "preprocessed_train_df, preprocessed_test_df, _, features = preprocessing_data(df_train, df_test, target, feature_black_list)"
   ],
   "metadata": {
    "collapsed": false
   }
  },
  {
   "cell_type": "code",
   "execution_count": null,
   "outputs": [],
   "source": [
    "trainResults, testResults, predictions, indices, hists = cv_xgb(preprocessed_train_df, target, features, debug=True, mlflow_tracking=True)\n",
    "print(f'Train mean: {np.mean(trainResults)}, Test mean: {np.mean(testResults)}')"
   ],
   "metadata": {
    "collapsed": false
   }
  },
  {
   "cell_type": "code",
   "execution_count": null,
   "outputs": [],
   "source": [
    "# Plot to compare results of each train and validation fold after using Cross Validation\n",
    "fig, ax = plt.subplots(1, 2, figsize=(16,8))\n",
    "for x in range(1, 6):\n",
    "    hists[['trainAUC'+'_'+str(x)]].iloc[50:].plot(ax=ax[0])\n",
    "    hists[['validAUC'+'_'+str(x)]].iloc[50:].plot(ax=ax[1])\n",
    "plt.show()"
   ],
   "metadata": {
    "collapsed": false
   }
  },
  {
   "cell_type": "code",
   "execution_count": null,
   "outputs": [],
   "source": [
    "# Trying to find the best hyperparameters using Grid Search\n",
    "rang = range(19,25)\n",
    "results = []\n",
    "for x in rang:\n",
    "    trainResults, testResults, predictions, indices, hists = cv_xgb(preprocessed_train_df, target, features, debug=False, mlflow_tracking=True, max_depth=x)\n",
    "    print(x, np.mean(testResults))\n",
    "    results.append(np.mean(testResults))\n",
    "\n",
    "plt.plot(list(rang), results)\n",
    "plt.show()"
   ],
   "metadata": {
    "collapsed": false
   }
  },
  {
   "cell_type": "code",
   "execution_count": null,
   "outputs": [],
   "source": [
    "rang = range(2,10)\n",
    "results = []\n",
    "for x in rang:\n",
    "    trainResults, testResults, predictions, indices, hists = cv_xgb(preprocessed_train_df, target, features, debug=False, mlflow_tracking=True,\n",
    "        max_depth=22, subsample = x/10)\n",
    "    print(x, np.mean(testResults))\n",
    "    results.append(np.mean(testResults))\n",
    "\n",
    "plt.plot(list(rang), results)\n",
    "plt.show()"
   ],
   "metadata": {
    "collapsed": false
   }
  },
  {
   "cell_type": "code",
   "execution_count": null,
   "outputs": [],
   "source": [
    "rang = range(2,10)\n",
    "results = []\n",
    "for x in rang:\n",
    "    trainResults, testResults, predictions, indices, hists = cv_xgb(preprocessed_train_df, target, features, debug=False, mlflow_tracking=True,\n",
    "        max_depth=23, subsample = 0.8, colsample_bytree = x/10)\n",
    "    print(x, np.mean(testResults))\n",
    "    results.append(np.mean(testResults))\n",
    "\n",
    "plt.plot(list(rang), results)\n",
    "plt.show()"
   ],
   "metadata": {
    "collapsed": false
   }
  },
  {
   "cell_type": "code",
   "execution_count": null,
   "outputs": [],
   "source": [
    "rang = range(0,8)\n",
    "results = []\n",
    "for x in rang:\n",
    "    trainResults, testResults, predictions, indices, hists = cv_xgb(preprocessed_train_df, target, features, debug=False, mlflow_tracking=True,\n",
    "        max_depth=23, subsample = 0.8, colsample_bytree = 0.5, lambdaX=x**2)\n",
    "    print(x**2, np.mean(testResults))\n",
    "    results.append(np.mean(testResults))\n",
    "\n",
    "plt.plot(list(rang), results)\n",
    "plt.show()"
   ],
   "metadata": {
    "collapsed": false
   }
  },
  {
   "cell_type": "code",
   "execution_count": null,
   "outputs": [],
   "source": [
    "rang = [0.01, 0.1, 0.5, 1, 2, 4, 6, 8, 10, 15]\n",
    "results = []\n",
    "for x in rang:\n",
    "    trainResults, testResults, predictions, indices, hists = cv_xgb(preprocessed_train_df, target, features, debug=False, mlflow_tracking=True,\n",
    "        max_depth=23, subsample = 0.8, colsample_bytree = 0.5, lambdaX=1, gamma=x)\n",
    "    print(x, np.mean(testResults))\n",
    "    results.append(np.mean(testResults))\n",
    "\n",
    "plt.plot(list(rang), results)\n",
    "plt.show()"
   ],
   "metadata": {
    "collapsed": false
   }
  },
  {
   "cell_type": "code",
   "execution_count": null,
   "outputs": [],
   "source": [
    "params = {\n",
    "    'max_depth': 23,\n",
    "    'subsample': 0.8,\n",
    "    'colsample_bytree': 0.5,\n",
    "    'lambdaX': 1\n",
    "}\n",
    "trainResults, testResults, predictions, indices, hists = cv_xgb(preprocessed_train_df, target, features, debug=True, mlflow_tracking=True, exp_name=\"exp_3_XGBoost\" , **params)\n",
    "print(f'Train mean: {np.mean(trainResults)}, Test mean: {np.mean(testResults)}')"
   ],
   "metadata": {
    "collapsed": false
   }
  },
  {
   "cell_type": "code",
   "execution_count": null,
   "outputs": [],
   "source": [
    "# Save results to file\n",
    "modelXGB= {\n",
    "    \"name\":\"XGB-1\",\n",
    "    \"description\":\"Model XGB, ze zmiennymi kategorycznymi\",\n",
    "    \"specification\": params,\n",
    "    \"trainResults\":trainResults.copy(),\n",
    "    \"testResults\":testResults.copy(),\n",
    "    \"predictions\":predictions.copy(),\n",
    "    \"indices\":indices.copy(),\n",
    "    'features':features\n",
    "}\n",
    "save_model_and_results('model_xgb_1', modelXGB)"
   ],
   "metadata": {
    "collapsed": false
   }
  },
  {
   "cell_type": "markdown",
   "source": [
    "## Random Search"
   ],
   "metadata": {
    "collapsed": false
   }
  },
  {
   "cell_type": "code",
   "execution_count": null,
   "outputs": [],
   "source": [
    "# Trying to find the best hyperparameters using Random Search\n",
    "import random\n",
    "results=[]\n",
    "paramList = []\n",
    "for x in range(90):\n",
    "    params = (random.randint(15, 30), random.uniform(0.3, 0.9), random.uniform(0.3, 0.7), random.uniform(0.1, 10), random.uniform(0, 5))\n",
    "    trainResults, testResults, predictions, indices, hists = cv_xgb(preprocessed_train_df, target, features,\n",
    "                                                                    mlflow_tracking=True,\n",
    "                                                                    exp_name=\"exp_4_XGBoost\",\n",
    "                                                                    max_depth = params[0],\n",
    "                                                                    subsample = params[1],\n",
    "                                                                    colsample_bytree = params[2],\n",
    "                                                                    lambdaX=params[3]**2,\n",
    "                                                                    gamma=params[4])\n",
    "    print(np.mean(testResults), params)\n",
    "    paramList.append(params)\n",
    "    # Saving results\n",
    "    results.append((np.mean(testResults), params.copy()))\n",
    "\n",
    "    # Display results of current iteration\n",
    "    print(params, np.mean(testResults))\n",
    "\n",
    "    # Every 10 iterations display top 3 results from all iterations\n",
    "    if x>1 and x%10==0:\n",
    "        print(\"\\n Top 3:\")\n",
    "        for score, params in sorted(results, key=lambda x: x[0], reverse=True)[0:3]:\n",
    "            print(params, score)\n",
    "        print()"
   ],
   "metadata": {
    "collapsed": false
   }
  },
  {
   "cell_type": "code",
   "execution_count": null,
   "outputs": [],
   "source": [
    "# Plot the top 10 higher-scoring experiments and their hyperparameters.\n",
    "maxRes = []\n",
    "for i in range(1, len(paramList)):\n",
    "    maxRes.append(max(results[0:i]))\n",
    "imp = list(zip(results, paramList))\n",
    "imp.sort(reverse=True)\n",
    "for row in imp[0:10]:\n",
    "    print(row)"
   ],
   "metadata": {
    "collapsed": false
   }
  },
  {
   "cell_type": "code",
   "execution_count": null,
   "outputs": [],
   "source": [
    "# Plot to check how many iterations in RS we need to find better score and parameters\n",
    "plt.plot(list(range(len(results)-1)), maxRes)\n",
    "plt.show()"
   ],
   "metadata": {
    "collapsed": false
   }
  },
  {
   "cell_type": "code",
   "execution_count": null,
   "outputs": [],
   "source": [
    "params = {\n",
    "    'subsample': 0.9,\n",
    "    'colsample_bytree': 0.5,\n",
    "    'lambdax': 1,\n",
    "    'max_depth':24,\n",
    "    'early_stopping_rounds': 100\n",
    "}\n",
    "\n",
    "trainResults, testResults, predictions, indices, hists = cv_xgb(preprocessed_train_df, target, features, debug=True, mlflow_tracking=True, exp_name=\"exp_3_XGBoost\", **params)\n",
    "print(f'Train mean: {np.mean(trainResults)}, Valid mean: {np.mean(testResults)}')"
   ],
   "metadata": {
    "collapsed": false
   }
  },
  {
   "cell_type": "code",
   "execution_count": null,
   "outputs": [],
   "source": [
    "# Plot to compare results of each train and validation fold after using Cross Validation\n",
    "fig, ax = plt.subplots(1, 2, figsize=(16,8))\n",
    "for x in range(1, 6):\n",
    "    hists[['trainAUC'+'_'+str(x)]].iloc[50:].plot(ax=ax[0])\n",
    "    hists[['validAUC'+'_'+str(x)]].iloc[50:].plot(ax=ax[1])\n",
    "plt.show()"
   ],
   "metadata": {
    "collapsed": false
   }
  },
  {
   "cell_type": "code",
   "execution_count": null,
   "outputs": [],
   "source": [
    "# Save results to file\n",
    "modelXGB= {\n",
    "    \"name\":\"XGB-3\",\n",
    "    \"description\":\"Model XGB, ze zmiennymi kategorycznymi\",\n",
    "    \"specification\": params,\n",
    "    \"trainResults\":trainResults.copy(),\n",
    "    \"testResults\":testResults.copy(),\n",
    "    \"predictions\":predictions.copy(),\n",
    "    \"indices\":indices.copy(),\n",
    "    'features':features\n",
    "}\n",
    "save_model_and_results('model_xgb_3', modelXGB)"
   ],
   "metadata": {
    "collapsed": false
   }
  },
  {
   "cell_type": "markdown",
   "source": [
    "## Making prediction for competition"
   ],
   "metadata": {
    "collapsed": false
   }
  },
  {
   "cell_type": "code",
   "execution_count": null,
   "outputs": [],
   "source": [
    "params = {\n",
    "    'subsample': 0.9,\n",
    "    'colsample_bytree': 0.5,\n",
    "    'lambdax': 1,\n",
    "    'max_depth':24,\n",
    "    'early_stopping_rounds': 50\n",
    "}\n",
    "make_prediction_xgb(train_df=preprocessed_train_df, test_df=preprocessed_test_df, features=features, target=target, test_size = 0.1, file='results_5_xgb', **params)\n"
   ],
   "metadata": {
    "collapsed": false
   }
  },
  {
   "cell_type": "markdown",
   "source": [
    "## Comparing the results of different predictive models"
   ],
   "metadata": {
    "collapsed": false
   }
  },
  {
   "cell_type": "code",
   "execution_count": null,
   "outputs": [],
   "source": [
    "with open(\"output/models/model_RF_1.p\", \"rb\") as fp:\n",
    "    model_RF_1 = pickle.load(fp)\n",
    "\n",
    "with open(\"output/models/model_RF_2.p\", \"rb\") as fp:\n",
    "    model_RF_2 = pickle.load(fp)\n",
    "\n",
    "# with open(\"output/models/model_RF_3.p\", \"rb\") as fp:\n",
    "#     model_RF_3 = pickle.load(fp)\n",
    "\n",
    "with open(\"output/models/model_xgb_1.p\", \"rb\") as fp:\n",
    "    model_xgb_1 = pickle.load(fp)\n",
    "\n",
    "with open(\"output/models/model_xgb_2.p\", \"rb\") as fp:\n",
    "    model_xgb_2 = pickle.load(fp)\n"
   ],
   "metadata": {
    "collapsed": false
   }
  },
  {
   "cell_type": "code",
   "execution_count": null,
   "outputs": [],
   "source": [
    "# Prepare data for the AUC-ROC curve\n",
    "res2plot = []\n",
    "true = preprocessed_train_df[target].sort_index()\n",
    "for result in [model_RF_1, model_RF_2, model_xgb_1, model_xgb_2]:\n",
    "    pred = pd.Series(sum(result[\"predictions\"], []), index=sum(result[\"indices\"], [])).sort_index()\n",
    "    print(len(pred))\n",
    "    res2plot.append((true, pred, result[\"name\"]))\n",
    "\n",
    "# Plot AUC-ROC curves\n",
    "plot_roc_auc(res2plot)"
   ],
   "metadata": {
    "collapsed": false
   }
  },
  {
   "cell_type": "code",
   "execution_count": null,
   "outputs": [],
   "source": [],
   "metadata": {
    "collapsed": false
   }
  }
 ],
 "metadata": {
  "kernelspec": {
   "display_name": "Python 3.10.4 64-bit",
   "language": "python",
   "name": "python3"
  },
  "language_info": {
   "codemirror_mode": {
    "name": "ipython",
    "version": 2
   },
   "file_extension": ".py",
   "mimetype": "text/x-python",
   "name": "python",
   "nbconvert_exporter": "python",
   "pygments_lexer": "ipython2",
   "version": "3.10.4"
  },
  "vscode": {
   "interpreter": {
    "hash": "916dbcbb3f70747c44a77c7bcd40155683ae19c65e1c03b4aa3499c5328201f1"
   }
  }
 },
 "nbformat": 4,
 "nbformat_minor": 0
}
