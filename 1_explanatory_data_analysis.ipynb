{
 "cells": [
  {
   "cell_type": "code",
   "execution_count": 6,
   "metadata": {
    "collapsed": true
   },
   "outputs": [],
   "source": [
    "import pandas as pd\n",
    "import numpy as np\n",
    "import warnings\n",
    "\n",
    "from pandas_profiling import ProfileReport\n",
    "\n",
    "warnings.filterwarnings(\"ignore\", category=UserWarning)"
   ]
  },
  {
   "cell_type": "markdown",
   "metadata": {
    "collapsed": false
   },
   "source": [
    "## Explanatory Data Analysis"
   ]
  },
  {
   "cell_type": "code",
   "execution_count": null,
   "metadata": {
    "collapsed": false
   },
   "outputs": [],
   "source": [
    "df = pd.read_csv('input/cybersecurity_training.csv', sep='|')\n",
    "report = ProfileReport(df, title='Profiling Report')\n",
    "report.to_file(output_file='output/report_suspicious_network_event_recognition')"
   ]
  },
  {
   "cell_type": "code",
   "execution_count": null,
   "outputs": [],
   "source": [
    "pd.set_option(\"display.max_columns\",50)"
   ],
   "metadata": {
    "collapsed": false
   }
  },
  {
   "cell_type": "code",
   "execution_count": 2,
   "outputs": [],
   "source": [
    "data = pd.read_csv('input/localized_alerts_data.csv', sep='|', low_memory=False)"
   ],
   "metadata": {
    "collapsed": false
   }
  },
  {
   "cell_type": "code",
   "execution_count": 3,
   "outputs": [
    {
     "data": {
      "text/plain": "  alert_ids              alerttype devicetype reportingdevice_code  \\\n0       AAB  NAC: Asset Visibility        NAC                  Wji   \n1       AAC   ThreatWatch Outbound         FW                  GFv   \n2       AAE   ThreatWatch Outbound         FW                  tMU   \n3       AAL   ThreatWatch Outbound         FW                  xQn   \n4       AAL    ThreatWatch Inbound         FW                  xQn   \n\n  devicevendor_code         srcip          dstip srcipcategory dstipcategory  \\\n0                QO  10.NF.KO.199            NaN       PRIV-10      INTERNET   \n1                JS  192.SL.XK.61    YT.LB.32.21      PRIV-192      INTERNET   \n2                SX  10.CN.AE.137    EB.QD.27.77       PRIV-10      INTERNET   \n3                SX  172.AT.TL.37    YT.LB.34.21      PRIV-172      INTERNET   \n4                SX   YT.LB.34.21  YT.EK.108.146      INTERNET      INTERNET   \n\n   srcport  ...  srcportcategory  dstportcategory  direction  alerttime  \\\n0      0.0  ...              1.0              1.0        5.0        0.0   \n1  63723.0  ...              4.0              2.0        3.0        0.0   \n2  59806.0  ...              4.0              3.0        3.0        0.0   \n3  63496.0  ...              4.0              2.0        3.0        0.0   \n4    443.0  ...              2.0              4.0        2.0     1311.0   \n\n   severity  count  domain  protocol username  signature  \n0       1.0    1.0     0.0       NaN      1.0        1.0  \n1       5.0   19.0     0.0       NaN      1.0        1.0  \n2       3.0   10.0     0.0       NaN      0.0        1.0  \n3       5.0    1.0     0.0       NaN      0.0        1.0  \n4       5.0    1.0     0.0       NaN      0.0        1.0  \n\n[5 rows x 21 columns]",
      "text/html": "<div>\n<style scoped>\n    .dataframe tbody tr th:only-of-type {\n        vertical-align: middle;\n    }\n\n    .dataframe tbody tr th {\n        vertical-align: top;\n    }\n\n    .dataframe thead th {\n        text-align: right;\n    }\n</style>\n<table border=\"1\" class=\"dataframe\">\n  <thead>\n    <tr style=\"text-align: right;\">\n      <th></th>\n      <th>alert_ids</th>\n      <th>alerttype</th>\n      <th>devicetype</th>\n      <th>reportingdevice_code</th>\n      <th>devicevendor_code</th>\n      <th>srcip</th>\n      <th>dstip</th>\n      <th>srcipcategory</th>\n      <th>dstipcategory</th>\n      <th>srcport</th>\n      <th>...</th>\n      <th>srcportcategory</th>\n      <th>dstportcategory</th>\n      <th>direction</th>\n      <th>alerttime</th>\n      <th>severity</th>\n      <th>count</th>\n      <th>domain</th>\n      <th>protocol</th>\n      <th>username</th>\n      <th>signature</th>\n    </tr>\n  </thead>\n  <tbody>\n    <tr>\n      <th>0</th>\n      <td>AAB</td>\n      <td>NAC: Asset Visibility</td>\n      <td>NAC</td>\n      <td>Wji</td>\n      <td>QO</td>\n      <td>10.NF.KO.199</td>\n      <td>NaN</td>\n      <td>PRIV-10</td>\n      <td>INTERNET</td>\n      <td>0.0</td>\n      <td>...</td>\n      <td>1.0</td>\n      <td>1.0</td>\n      <td>5.0</td>\n      <td>0.0</td>\n      <td>1.0</td>\n      <td>1.0</td>\n      <td>0.0</td>\n      <td>NaN</td>\n      <td>1.0</td>\n      <td>1.0</td>\n    </tr>\n    <tr>\n      <th>1</th>\n      <td>AAC</td>\n      <td>ThreatWatch Outbound</td>\n      <td>FW</td>\n      <td>GFv</td>\n      <td>JS</td>\n      <td>192.SL.XK.61</td>\n      <td>YT.LB.32.21</td>\n      <td>PRIV-192</td>\n      <td>INTERNET</td>\n      <td>63723.0</td>\n      <td>...</td>\n      <td>4.0</td>\n      <td>2.0</td>\n      <td>3.0</td>\n      <td>0.0</td>\n      <td>5.0</td>\n      <td>19.0</td>\n      <td>0.0</td>\n      <td>NaN</td>\n      <td>1.0</td>\n      <td>1.0</td>\n    </tr>\n    <tr>\n      <th>2</th>\n      <td>AAE</td>\n      <td>ThreatWatch Outbound</td>\n      <td>FW</td>\n      <td>tMU</td>\n      <td>SX</td>\n      <td>10.CN.AE.137</td>\n      <td>EB.QD.27.77</td>\n      <td>PRIV-10</td>\n      <td>INTERNET</td>\n      <td>59806.0</td>\n      <td>...</td>\n      <td>4.0</td>\n      <td>3.0</td>\n      <td>3.0</td>\n      <td>0.0</td>\n      <td>3.0</td>\n      <td>10.0</td>\n      <td>0.0</td>\n      <td>NaN</td>\n      <td>0.0</td>\n      <td>1.0</td>\n    </tr>\n    <tr>\n      <th>3</th>\n      <td>AAL</td>\n      <td>ThreatWatch Outbound</td>\n      <td>FW</td>\n      <td>xQn</td>\n      <td>SX</td>\n      <td>172.AT.TL.37</td>\n      <td>YT.LB.34.21</td>\n      <td>PRIV-172</td>\n      <td>INTERNET</td>\n      <td>63496.0</td>\n      <td>...</td>\n      <td>4.0</td>\n      <td>2.0</td>\n      <td>3.0</td>\n      <td>0.0</td>\n      <td>5.0</td>\n      <td>1.0</td>\n      <td>0.0</td>\n      <td>NaN</td>\n      <td>0.0</td>\n      <td>1.0</td>\n    </tr>\n    <tr>\n      <th>4</th>\n      <td>AAL</td>\n      <td>ThreatWatch Inbound</td>\n      <td>FW</td>\n      <td>xQn</td>\n      <td>SX</td>\n      <td>YT.LB.34.21</td>\n      <td>YT.EK.108.146</td>\n      <td>INTERNET</td>\n      <td>INTERNET</td>\n      <td>443.0</td>\n      <td>...</td>\n      <td>2.0</td>\n      <td>4.0</td>\n      <td>2.0</td>\n      <td>1311.0</td>\n      <td>5.0</td>\n      <td>1.0</td>\n      <td>0.0</td>\n      <td>NaN</td>\n      <td>0.0</td>\n      <td>1.0</td>\n    </tr>\n  </tbody>\n</table>\n<p>5 rows × 21 columns</p>\n</div>"
     },
     "execution_count": 3,
     "metadata": {},
     "output_type": "execute_result"
    }
   ],
   "source": [
    "features_num = data.select_dtypes('number').columns.tolist()\n",
    "data[features_num] = data.select_dtypes('number').applymap(np.float64)\n",
    "data.head()"
   ],
   "metadata": {
    "collapsed": false
   }
  },
  {
   "cell_type": "code",
   "execution_count": null,
   "outputs": [],
   "source": [
    "report_data = ProfileReport(data, title='Profiling Report', correlations={\n",
    "    \"pearson\": {\"calculate\": True},\n",
    "    \"spearman\": {\"calculate\": True},\n",
    "    \"kendall\": {\"calculate\": True},\n",
    "    \"phi_k\": {\"calculate\": False},\n",
    "    \"cramers\": {\"calculate\": True},\n",
    "} )\n",
    "report_data.to_file(output_file='output/reports/report_localized_alerts_data')"
   ],
   "metadata": {
    "collapsed": false,
    "pycharm": {
     "is_executing": true
    }
   }
  },
  {
   "cell_type": "code",
   "execution_count": 5,
   "outputs": [
    {
     "data": {
      "text/plain": "['alert_ids',\n 'alerttype',\n 'devicetype',\n 'reportingdevice_code',\n 'devicevendor_code',\n 'srcip',\n 'dstip',\n 'srcipcategory',\n 'dstipcategory',\n 'srcport',\n 'dstport',\n 'srcportcategory',\n 'dstportcategory',\n 'direction',\n 'alerttime',\n 'severity',\n 'count',\n 'domain',\n 'protocol',\n 'username',\n 'signature']"
     },
     "execution_count": 5,
     "metadata": {},
     "output_type": "execute_result"
    }
   ],
   "source": [
    "data.columns.values.tolist()"
   ],
   "metadata": {
    "collapsed": false
   }
  },
  {
   "cell_type": "code",
   "execution_count": null,
   "outputs": [],
   "source": [
    "# report.to_widgets()\n",
    "# report.to_notebook_iframe()"
   ],
   "metadata": {
    "collapsed": false
   }
  },
  {
   "cell_type": "code",
   "execution_count": null,
   "outputs": [],
   "source": [],
   "metadata": {
    "collapsed": false
   }
  }
 ],
 "metadata": {
  "kernelspec": {
   "display_name": "Python 3.10.4 64-bit",
   "language": "python",
   "name": "python3"
  },
  "language_info": {
   "codemirror_mode": {
    "name": "ipython",
    "version": 2
   },
   "file_extension": ".py",
   "mimetype": "text/x-python",
   "name": "python",
   "nbconvert_exporter": "python",
   "pygments_lexer": "ipython2",
   "version": "3.10.4"
  },
  "vscode": {
   "interpreter": {
    "hash": "916dbcbb3f70747c44a77c7bcd40155683ae19c65e1c03b4aa3499c5328201f1"
   }
  }
 },
 "nbformat": 4,
 "nbformat_minor": 0
}
